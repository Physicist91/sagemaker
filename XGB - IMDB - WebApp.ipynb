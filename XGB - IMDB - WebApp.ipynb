{
 "cells": [
  {
   "cell_type": "markdown",
   "metadata": {},
   "source": [
    "# Sentiment Analysis Web App\n",
    "\n",
    "* Machine Learning Engineering Nanodegree\n",
    "* Kevin Siswandi\n",
    "\n",
    "---\n",
    "\n",
    "In this notebook we will use Amazon's SageMaker service to construct a random tree model to predict the sentiment of a movie review. In addition, we will deploy this model to an endpoint and construct a very simple web app which will interact with our model's deployed endpoint.\n",
    "\n",
    "## General Outline\n",
    "\n",
    "Typically, when using a notebook instance with SageMaker, you will proceed through the following steps. Of course, not every step will need to be done with each project.\n",
    "\n",
    "1. Download or otherwise retrieve the data.\n",
    "2. Process / Prepare the data.\n",
    "3. Upload the processed data to S3.\n",
    "4. Train a chosen model.\n",
    "5. Test the trained model (typically using a batch transform job).\n",
    "6. Deploy the trained model.\n",
    "7. Use the deployed model.\n",
    "\n",
    "In this notebook we will progress through each of the steps above. We will also see that the final step, using the deployed model, can be quite challenging."
   ]
  },
  {
   "cell_type": "markdown",
   "metadata": {},
   "source": [
    "## Step 1: Downloading the data\n",
    "\n",
    "The dataset we are going to use is very popular among researchers in Natural Language Processing, usually referred to as the [IMDb dataset](http://ai.stanford.edu/~amaas/data/sentiment/). It consists of movie reviews from the website [imdb.com](http://www.imdb.com/), each labeled as either '**pos**itive', if the reviewer enjoyed the film, or '**neg**ative' otherwise.\n",
    "\n",
    "> Maas, Andrew L., et al. [Learning Word Vectors for Sentiment Analysis](http://ai.stanford.edu/~amaas/data/sentiment/). In _Proceedings of the 49th Annual Meeting of the Association for Computational Linguistics: Human Language Technologies_. Association for Computational Linguistics, 2011.\n",
    "\n",
    "We begin by using some Jupyter Notebook magic to download and extract the dataset."
   ]
  },
  {
   "cell_type": "code",
   "execution_count": 1,
   "metadata": {},
   "outputs": [
    {
     "name": "stdout",
     "output_type": "stream",
     "text": [
      "mkdir: cannot create directory ‘../data’: File exists\n",
      "--2020-05-01 10:34:43--  http://ai.stanford.edu/~amaas/data/sentiment/aclImdb_v1.tar.gz\n",
      "Resolving ai.stanford.edu (ai.stanford.edu)... 171.64.68.10\n",
      "Connecting to ai.stanford.edu (ai.stanford.edu)|171.64.68.10|:80... connected.\n",
      "HTTP request sent, awaiting response... 200 OK\n",
      "Length: 84125825 (80M) [application/x-gzip]\n",
      "Saving to: ‘../data/aclImdb_v1.tar.gz’\n",
      "\n",
      "../data/aclImdb_v1. 100%[===================>]  80.23M  12.7MB/s    in 11s     \n",
      "\n",
      "2020-05-01 10:34:54 (7.41 MB/s) - ‘../data/aclImdb_v1.tar.gz’ saved [84125825/84125825]\n",
      "\n"
     ]
    }
   ],
   "source": [
    "%mkdir ../data\n",
    "!wget -O ../data/aclImdb_v1.tar.gz http://ai.stanford.edu/~amaas/data/sentiment/aclImdb_v1.tar.gz\n",
    "!tar -zxf ../data/aclImdb_v1.tar.gz -C ../data"
   ]
  },
  {
   "cell_type": "markdown",
   "metadata": {},
   "source": [
    "## Step 2: Preparing and Processing the data\n",
    "\n",
    "The data we have downloaded is split into various files, each of which contains a single review. It will be much easier going forward if we combine these individual files into two large files, one for training and one for testing."
   ]
  },
  {
   "cell_type": "code",
   "execution_count": 2,
   "metadata": {},
   "outputs": [],
   "source": [
    "import os\n",
    "import glob\n",
    "\n",
    "def read_imdb_data(data_dir='../data/aclImdb'):\n",
    "    data = {}\n",
    "    labels = {}\n",
    "    \n",
    "    for data_type in ['train', 'test']:\n",
    "        data[data_type] = {}\n",
    "        labels[data_type] = {}\n",
    "        \n",
    "        for sentiment in ['pos', 'neg']:\n",
    "            data[data_type][sentiment] = []\n",
    "            labels[data_type][sentiment] = []\n",
    "            \n",
    "            path = os.path.join(data_dir, data_type, sentiment, '*.txt')\n",
    "            files = glob.glob(path)\n",
    "            \n",
    "            for f in files:\n",
    "                with open(f) as review:\n",
    "                    data[data_type][sentiment].append(review.read())\n",
    "                    # Here we represent a positive review by '1' and a negative review by '0'\n",
    "                    labels[data_type][sentiment].append(1 if sentiment == 'pos' else 0)\n",
    "                    \n",
    "            assert len(data[data_type][sentiment]) == len(labels[data_type][sentiment]), \\\n",
    "                    \"{}/{} data size does not match labels size\".format(data_type, sentiment)\n",
    "                \n",
    "    return data, labels"
   ]
  },
  {
   "cell_type": "code",
   "execution_count": 3,
   "metadata": {},
   "outputs": [
    {
     "name": "stdout",
     "output_type": "stream",
     "text": [
      "IMDB reviews: train = 12500 pos / 12500 neg, test = 12500 pos / 12500 neg\n"
     ]
    }
   ],
   "source": [
    "data, labels = read_imdb_data()\n",
    "print(\"IMDB reviews: train = {} pos / {} neg, test = {} pos / {} neg\".format(\n",
    "            len(data['train']['pos']), len(data['train']['neg']),\n",
    "            len(data['test']['pos']), len(data['test']['neg'])))"
   ]
  },
  {
   "cell_type": "code",
   "execution_count": 4,
   "metadata": {},
   "outputs": [],
   "source": [
    "from sklearn.utils import shuffle\n",
    "\n",
    "def prepare_imdb_data(data, labels):\n",
    "    \"\"\"Prepare training and test sets from IMDb movie reviews.\"\"\"\n",
    "    \n",
    "    #Combine positive and negative reviews and labels\n",
    "    data_train = data['train']['pos'] + data['train']['neg']\n",
    "    data_test = data['test']['pos'] + data['test']['neg']\n",
    "    labels_train = labels['train']['pos'] + labels['train']['neg']\n",
    "    labels_test = labels['test']['pos'] + labels['test']['neg']\n",
    "    \n",
    "    #Shuffle reviews and corresponding labels within training and test sets\n",
    "    data_train, labels_train = shuffle(data_train, labels_train)\n",
    "    data_test, labels_test = shuffle(data_test, labels_test)\n",
    "    \n",
    "    # Return a unified training data, test data, training labels, test labets\n",
    "    return data_train, data_test, labels_train, labels_test"
   ]
  },
  {
   "cell_type": "code",
   "execution_count": 5,
   "metadata": {},
   "outputs": [
    {
     "name": "stdout",
     "output_type": "stream",
     "text": [
      "IMDb reviews (combined): train = 25000, test = 25000\n"
     ]
    }
   ],
   "source": [
    "train_X, test_X, train_y, test_y = prepare_imdb_data(data, labels)\n",
    "print(\"IMDb reviews (combined): train = {}, test = {}\".format(len(train_X), len(test_X)))"
   ]
  },
  {
   "cell_type": "code",
   "execution_count": 6,
   "metadata": {},
   "outputs": [
    {
     "data": {
      "text/plain": [
       "\"If I'm going to watch a porn movie, I prefer it to have some sort of plot, and a descent dialogue. Behind Bedroom Doors is one of the few I've come across with those attributes.<br /><br />The new girl next door scams on the neighbor's human nature and weaknesses where seduction and sex concerned. Chelsea Blue,(I mean Brooke LaVelle) is the choice actress to play the part of the blackmailing seductress, and plays the part magnificently. Chelsea Blue is a very talented and extremely beautiful actress. The movie get's an overall 10 just because she is in it. Her partner in the movie, Monique Alexander is a definite cutie. The two should do more work together. In this movie, though, Monique, who plays Gigi, doesn't have a whole lot to do or say. That's too bad. She seems like she has more talent to be shared. I like the girl who was the (possible) DA's wife next. I forget her name, but she's pretty good looking, and not a bad actress. Nicole Sheridan...I'm still trying to figure out what some people are so excited about. It's obvious there are parts of her bought an paid for. Which is okay, but is she finished? Sorry, but come on! I'm afraid her performance here would have dropped the rating some, except Chelsea's talent and beauty overrides any negatives. Overall, This movie is a good one.\""
      ]
     },
     "execution_count": 6,
     "metadata": {},
     "output_type": "execute_result"
    }
   ],
   "source": [
    "train_X[100]"
   ]
  },
  {
   "cell_type": "markdown",
   "metadata": {},
   "source": [
    "## Processing the data\n",
    "\n",
    "Now that we have our training and testing datasets merged and ready to use, we need to start processing the raw data into something that will be useable by our machine learning algorithm. To begin with, we remove any html formatting and any non-alpha numeric characters that may appear in the reviews. We will do this in a very simplistic way using Python's regular expression module. We will discuss the reason for this rather simplistic pre-processing later on."
   ]
  },
  {
   "cell_type": "code",
   "execution_count": 7,
   "metadata": {},
   "outputs": [],
   "source": [
    "import re\n",
    "\n",
    "REPLACE_NO_SPACE = re.compile(\"(\\.)|(\\;)|(\\:)|(\\!)|(\\')|(\\?)|(\\,)|(\\\")|(\\()|(\\))|(\\[)|(\\])\")\n",
    "REPLACE_WITH_SPACE = re.compile(\"(<br\\s*/><br\\s*/>)|(\\-)|(\\/)\")\n",
    "\n",
    "def review_to_words(review):\n",
    "    words = REPLACE_NO_SPACE.sub(\"\", review.lower())\n",
    "    words = REPLACE_WITH_SPACE.sub(\" \", words)\n",
    "    return words"
   ]
  },
  {
   "cell_type": "code",
   "execution_count": 8,
   "metadata": {},
   "outputs": [
    {
     "data": {
      "text/plain": [
       "'if im going to watch a porn movie i prefer it to have some sort of plot and a descent dialogue behind bedroom doors is one of the few ive come across with those attributes the new girl next door scams on the neighbors human nature and weaknesses where seduction and sex concerned chelsea bluei mean brooke lavelle is the choice actress to play the part of the blackmailing seductress and plays the part magnificently chelsea blue is a very talented and extremely beautiful actress the movie gets an overall 10 just because she is in it her partner in the movie monique alexander is a definite cutie the two should do more work together in this movie though monique who plays gigi doesnt have a whole lot to do or say thats too bad she seems like she has more talent to be shared i like the girl who was the possible das wife next i forget her name but shes pretty good looking and not a bad actress nicole sheridanim still trying to figure out what some people are so excited about its obvious there are parts of her bought an paid for which is okay but is she finished sorry but come on im afraid her performance here would have dropped the rating some except chelseas talent and beauty overrides any negatives overall this movie is a good one'"
      ]
     },
     "execution_count": 8,
     "metadata": {},
     "output_type": "execute_result"
    }
   ],
   "source": [
    "review_to_words(train_X[100])"
   ]
  },
  {
   "cell_type": "code",
   "execution_count": 9,
   "metadata": {},
   "outputs": [],
   "source": [
    "import pickle\n",
    "\n",
    "cache_dir = os.path.join(\"../cache\", \"sentiment_web_app\")  # where to store cache files\n",
    "os.makedirs(cache_dir, exist_ok=True)  # ensure cache directory exists\n",
    "\n",
    "def preprocess_data(data_train, data_test, labels_train, labels_test,\n",
    "                    cache_dir=cache_dir, cache_file=\"preprocessed_data.pkl\"):\n",
    "    \"\"\"Convert each review to words; read from cache if available.\"\"\"\n",
    "\n",
    "    # If cache_file is not None, try to read from it first\n",
    "    cache_data = None\n",
    "    if cache_file is not None:\n",
    "        try:\n",
    "            with open(os.path.join(cache_dir, cache_file), \"rb\") as f:\n",
    "                cache_data = pickle.load(f)\n",
    "            print(\"Read preprocessed data from cache file:\", cache_file)\n",
    "        except:\n",
    "            pass  # unable to read from cache, but that's okay\n",
    "    \n",
    "    # If cache is missing, then do the heavy lifting\n",
    "    if cache_data is None:\n",
    "        # Preprocess training and test data to obtain words for each review\n",
    "        #words_train = list(map(review_to_words, data_train))\n",
    "        #words_test = list(map(review_to_words, data_test))\n",
    "        words_train = [review_to_words(review) for review in data_train]\n",
    "        words_test = [review_to_words(review) for review in data_test]\n",
    "        \n",
    "        # Write to cache file for future runs\n",
    "        if cache_file is not None:\n",
    "            cache_data = dict(words_train=words_train, words_test=words_test,\n",
    "                              labels_train=labels_train, labels_test=labels_test)\n",
    "            with open(os.path.join(cache_dir, cache_file), \"wb\") as f:\n",
    "                pickle.dump(cache_data, f)\n",
    "            print(\"Wrote preprocessed data to cache file:\", cache_file)\n",
    "    else:\n",
    "        # Unpack data loaded from cache file\n",
    "        words_train, words_test, labels_train, labels_test = (cache_data['words_train'],\n",
    "                cache_data['words_test'], cache_data['labels_train'], cache_data['labels_test'])\n",
    "    \n",
    "    return words_train, words_test, labels_train, labels_test"
   ]
  },
  {
   "cell_type": "code",
   "execution_count": 10,
   "metadata": {},
   "outputs": [
    {
     "name": "stdout",
     "output_type": "stream",
     "text": [
      "Wrote preprocessed data to cache file: preprocessed_data.pkl\n"
     ]
    }
   ],
   "source": [
    "# Preprocess data\n",
    "train_X, test_X, train_y, test_y = preprocess_data(train_X, test_X, train_y, test_y)"
   ]
  },
  {
   "cell_type": "markdown",
   "metadata": {},
   "source": [
    "### Extract Bag-of-Words features\n",
    "\n",
    "For the model we will be implementing, rather than using the reviews directly, we are going to transform each review into a Bag-of-Words feature representation. Keep in mind that 'in the wild' we will only have access to the training set so our transformer can only use the training set to construct a representation."
   ]
  },
  {
   "cell_type": "code",
   "execution_count": 11,
   "metadata": {},
   "outputs": [],
   "source": [
    "import numpy as np\n",
    "from sklearn.feature_extraction.text import CountVectorizer\n",
    "from sklearn.externals import joblib\n",
    "# joblib is an enhanced version of pickle that is more efficient for storing NumPy arrays\n",
    "\n",
    "def extract_BoW_features(words_train, words_test, vocabulary_size=5000,\n",
    "                         cache_dir=cache_dir, cache_file=\"bow_features.pkl\"):\n",
    "    \"\"\"Extract Bag-of-Words for a given set of documents, already preprocessed into words.\"\"\"\n",
    "    \n",
    "    # If cache_file is not None, try to read from it first\n",
    "    cache_data = None\n",
    "    if cache_file is not None:\n",
    "        try:\n",
    "            with open(os.path.join(cache_dir, cache_file), \"rb\") as f:\n",
    "                cache_data = joblib.load(f)\n",
    "            print(\"Read features from cache file:\", cache_file)\n",
    "        except:\n",
    "            pass  # unable to read from cache, but that's okay\n",
    "    \n",
    "    # If cache is missing, then do the heavy lifting\n",
    "    if cache_data is None:\n",
    "        # Fit a vectorizer to training documents and use it to transform them\n",
    "        # NOTE: Training documents have already been preprocessed and tokenized into words;\n",
    "        #       pass in dummy functions to skip those steps, e.g. preprocessor=lambda x: x\n",
    "        vectorizer = CountVectorizer(max_features=vocabulary_size)\n",
    "        features_train = vectorizer.fit_transform(words_train).toarray()\n",
    "\n",
    "        # Apply the same vectorizer to transform the test documents (ignore unknown words)\n",
    "        features_test = vectorizer.transform(words_test).toarray()\n",
    "        \n",
    "        # NOTE: Remember to convert the features using .toarray() for a compact representation\n",
    "        \n",
    "        # Write to cache file for future runs (store vocabulary as well)\n",
    "        if cache_file is not None:\n",
    "            vocabulary = vectorizer.vocabulary_\n",
    "            cache_data = dict(features_train=features_train, features_test=features_test,\n",
    "                             vocabulary=vocabulary)\n",
    "            with open(os.path.join(cache_dir, cache_file), \"wb\") as f:\n",
    "                joblib.dump(cache_data, f)\n",
    "            print(\"Wrote features to cache file:\", cache_file)\n",
    "    else:\n",
    "        # Unpack data loaded from cache file\n",
    "        features_train, features_test, vocabulary = (cache_data['features_train'],\n",
    "                cache_data['features_test'], cache_data['vocabulary'])\n",
    "    \n",
    "    # Return both the extracted features as well as the vocabulary\n",
    "    return features_train, features_test, vocabulary"
   ]
  },
  {
   "cell_type": "code",
   "execution_count": 12,
   "metadata": {},
   "outputs": [
    {
     "name": "stdout",
     "output_type": "stream",
     "text": [
      "Wrote features to cache file: bow_features.pkl\n"
     ]
    }
   ],
   "source": [
    "# Extract Bag of Words features for both training and test datasets\n",
    "train_X, test_X, vocabulary = extract_BoW_features(train_X, test_X)"
   ]
  },
  {
   "cell_type": "code",
   "execution_count": 13,
   "metadata": {},
   "outputs": [
    {
     "data": {
      "text/plain": [
       "5000"
      ]
     },
     "execution_count": 13,
     "metadata": {},
     "output_type": "execute_result"
    }
   ],
   "source": [
    "len(train_X[100])"
   ]
  },
  {
   "cell_type": "markdown",
   "metadata": {},
   "source": [
    "## Step 3: Upload data to S3\n",
    "\n",
    "Now that we have created the feature representation of our training (and testing) data, it is time to start setting up and using the XGBoost classifier provided by SageMaker.\n",
    "\n",
    "### Writing the datasets\n",
    "\n",
    "The XGBoost classifier that we will be using requires the dataset to be written to a file and stored using Amazon S3. To do this, we will start by splitting the training dataset into two parts, the data we will train the model with and a validation set. Then, we will write those datasets to a file locally and then upload the files to S3. In addition, we will write the test set to a file and upload that file to S3. This is so that we can use SageMakers Batch Transform functionality to test our model once we've fit it."
   ]
  },
  {
   "cell_type": "code",
   "execution_count": 14,
   "metadata": {},
   "outputs": [],
   "source": [
    "import pandas as pd\n",
    "\n",
    "# Earlier we shuffled the training dataset so to make things simple we can just assign\n",
    "# the first 10 000 reviews to the validation set and use the remaining reviews for training.\n",
    "val_X = pd.DataFrame(train_X[:10000])\n",
    "train_X = pd.DataFrame(train_X[10000:])\n",
    "\n",
    "val_y = pd.DataFrame(train_y[:10000])\n",
    "train_y = pd.DataFrame(train_y[10000:])"
   ]
  },
  {
   "cell_type": "markdown",
   "metadata": {},
   "source": [
    "The documentation for the XGBoost algorithm in SageMaker requires that the training and validation datasets should contain no headers or index and that the label should occur first for each sample.\n",
    "\n",
    "For more information about this and other algorithms, the SageMaker developer documentation can be found on __[Amazon's website.](https://docs.aws.amazon.com/sagemaker/latest/dg/)__"
   ]
  },
  {
   "cell_type": "code",
   "execution_count": 15,
   "metadata": {},
   "outputs": [],
   "source": [
    "# First we make sure that the local directory in which we'd like to store the training and validation csv files exists.\n",
    "data_dir = '../data/sentiment_web_app'\n",
    "if not os.path.exists(data_dir):\n",
    "    os.makedirs(data_dir)"
   ]
  },
  {
   "cell_type": "code",
   "execution_count": 16,
   "metadata": {},
   "outputs": [],
   "source": [
    "pd.DataFrame(test_X).to_csv(os.path.join(data_dir, 'test.csv'), header=False, index=False)\n",
    "\n",
    "pd.concat([val_y, val_X], axis=1).to_csv(os.path.join(data_dir, 'validation.csv'), header=False, index=False)\n",
    "pd.concat([train_y, train_X], axis=1).to_csv(os.path.join(data_dir, 'train.csv'), header=False, index=False)"
   ]
  },
  {
   "cell_type": "code",
   "execution_count": 17,
   "metadata": {},
   "outputs": [],
   "source": [
    "# To save a bit of memory we can set text_X, train_X, val_X, train_y and val_y to None.\n",
    "\n",
    "test_X = train_X = val_X = train_y = val_y = None"
   ]
  },
  {
   "cell_type": "markdown",
   "metadata": {},
   "source": [
    "### Uploading Training / Validation files to S3\n",
    "\n",
    "Amazon's S3 service allows us to store files that can be accessed by both the built-in training models such as the XGBoost model we will be using as well as custom models such as the one we will see a little later.\n",
    "\n",
    "For this and most other tasks we will be doing using SageMaker, there are two methods we could use. The first is to use the low level functionality of SageMaker which requires knowing each of the objects involved in the SageMaker environment. The second is to use the high level functionality in which certain choices have been made on the user's behalf. The low level approach benefits from allowing the user a great deal of flexibility while the high level approach makes development much quicker. For our purposes we will opt to use the high level approach although using the low-level approach is certainly an option.\n",
    "\n",
    "Recall the method `upload_data()` which is a member of the object representing our current SageMaker session. What this method does is upload the data to the default bucket (which is created if it does not exist) into the path described by the key_prefix variable. To see this for yourself, once you have uploaded the data files, go to the S3 console and look to see where the files have been uploaded.\n",
    "\n",
    "For additional resources, see the __[SageMaker API documentation](http://sagemaker.readthedocs.io/en/latest/)__ and in addition the __[SageMaker Developer Guide.](https://docs.aws.amazon.com/sagemaker/latest/dg/)__"
   ]
  },
  {
   "cell_type": "code",
   "execution_count": 18,
   "metadata": {},
   "outputs": [],
   "source": [
    "import sagemaker\n",
    "\n",
    "session = sagemaker.Session() # Store the current SageMaker session\n",
    "\n",
    "# S3 prefix (which folder will we use)\n",
    "prefix = 'sentiment-web-app'\n",
    "\n",
    "test_location = session.upload_data(os.path.join(data_dir, 'test.csv'), key_prefix=prefix)\n",
    "val_location = session.upload_data(os.path.join(data_dir, 'validation.csv'), key_prefix=prefix)\n",
    "train_location = session.upload_data(os.path.join(data_dir, 'train.csv'), key_prefix=prefix)"
   ]
  },
  {
   "cell_type": "markdown",
   "metadata": {},
   "source": [
    "## Step 4: Creating the XGBoost model\n",
    "\n",
    "Now that the data has been uploaded it is time to create the XGBoost model. To begin with, we need to do some setup. At this point it is worth discussing what a model is in SageMaker. It is easiest to think of a model of comprising three different objects in the SageMaker ecosystem, which interact with one another.\n",
    "\n",
    "- Model Artifacts\n",
    "- Training Code (Container)\n",
    "- Inference Code (Container)\n",
    "\n",
    "The Model Artifacts are what you might think of as the actual model itself. For example, if you were building a neural network, the model artifacts would be the weights of the various layers. In our case, for an XGBoost model, the artifacts are the actual trees that are created during training.\n",
    "\n",
    "The other two objects, the training code and the inference code are then used to manipulate the training artifacts. More precisely, the training code uses the training data that is provided and creates the model artifacts, while the inference code uses the model artifacts to make predictions on new data.\n",
    "\n",
    "The way that SageMaker runs the training and inference code is by making use of Docker containers. For now, think of a container as being a way of packaging code up so that dependencies aren't an issue."
   ]
  },
  {
   "cell_type": "code",
   "execution_count": 19,
   "metadata": {},
   "outputs": [],
   "source": [
    "from sagemaker import get_execution_role\n",
    "\n",
    "# Our current execution role is required when creating the model as the training\n",
    "# and inference code will need to access the model artifacts.\n",
    "role = get_execution_role()"
   ]
  },
  {
   "cell_type": "code",
   "execution_count": 20,
   "metadata": {},
   "outputs": [
    {
     "name": "stderr",
     "output_type": "stream",
     "text": [
      "WARNING:root:There is a more up to date SageMaker XGBoost image. To use the newer image, please set 'repo_version'='0.90-2'. For example:\n",
      "\tget_image_uri(region, 'xgboost', '0.90-2').\n"
     ]
    }
   ],
   "source": [
    "# We need to retrieve the location of the container which is provided by Amazon for using XGBoost.\n",
    "# As a matter of convenience, the training and inference code both use the same container.\n",
    "from sagemaker.amazon.amazon_estimator import get_image_uri\n",
    "\n",
    "container = get_image_uri(session.boto_region_name, 'xgboost')"
   ]
  },
  {
   "cell_type": "code",
   "execution_count": 21,
   "metadata": {},
   "outputs": [],
   "source": [
    "# First we create a SageMaker estimator object for our model.\n",
    "xgb = sagemaker.estimator.Estimator(container, # The location of the container we wish to use\n",
    "                                    role,                                    # What is our current IAM Role\n",
    "                                    train_instance_count=1,                  # How many compute instances\n",
    "                                    train_instance_type='ml.m4.xlarge',      # What kind of compute instances\n",
    "                                    output_path='s3://{}/{}/output'.format(session.default_bucket(), prefix),\n",
    "                                    sagemaker_session=session)\n",
    "\n",
    "# And then set the algorithm specific parameters.\n",
    "xgb.set_hyperparameters(max_depth=5,\n",
    "                        eta=0.2,\n",
    "                        gamma=4,\n",
    "                        min_child_weight=6,\n",
    "                        subsample=0.8,\n",
    "                        silent=0,\n",
    "                        objective='binary:logistic',\n",
    "                        early_stopping_rounds=10,\n",
    "                        num_round=500)"
   ]
  },
  {
   "cell_type": "markdown",
   "metadata": {},
   "source": [
    "### Fit the XGBoost model\n",
    "\n",
    "Now that our model has been set up we simply need to attach the training and validation datasets and then ask SageMaker to set up the computation."
   ]
  },
  {
   "cell_type": "code",
   "execution_count": 22,
   "metadata": {},
   "outputs": [],
   "source": [
    "s3_input_train = sagemaker.s3_input(s3_data=train_location, content_type='csv')\n",
    "s3_input_validation = sagemaker.s3_input(s3_data=val_location, content_type='csv')"
   ]
  },
  {
   "cell_type": "code",
   "execution_count": 23,
   "metadata": {},
   "outputs": [
    {
     "name": "stdout",
     "output_type": "stream",
     "text": [
      "2020-05-01 11:27:39 Starting - Starting the training job...\n",
      "2020-05-01 11:27:41 Starting - Launching requested ML instances...\n",
      "2020-05-01 11:28:36 Starting - Preparing the instances for training.........\n",
      "2020-05-01 11:29:42 Downloading - Downloading input data...\n",
      "2020-05-01 11:30:33 Training - Training image download completed. Training in progress.\u001b[34mArguments: train\u001b[0m\n",
      "\u001b[34m[2020-05-01:11:30:34:INFO] Running standalone xgboost training.\u001b[0m\n",
      "\u001b[34m[2020-05-01:11:30:34:INFO] File size need to be processed in the node: 238.5mb. Available memory size in the node: 8493.38mb\u001b[0m\n",
      "\u001b[34m[2020-05-01:11:30:34:INFO] Determined delimiter of CSV input is ','\u001b[0m\n",
      "\u001b[34m[11:30:34] S3DistributionType set as FullyReplicated\u001b[0m\n",
      "\u001b[34m[11:30:35] 15000x5000 matrix with 75000000 entries loaded from /opt/ml/input/data/train?format=csv&label_column=0&delimiter=,\u001b[0m\n",
      "\u001b[34m[2020-05-01:11:30:36:INFO] Determined delimiter of CSV input is ','\u001b[0m\n",
      "\u001b[34m[11:30:35] S3DistributionType set as FullyReplicated\u001b[0m\n",
      "\u001b[34m[11:30:37] 10000x5000 matrix with 50000000 entries loaded from /opt/ml/input/data/validation?format=csv&label_column=0&delimiter=,\u001b[0m\n",
      "\u001b[34m[11:30:40] src/tree/updater_prune.cc:74: tree pruning end, 1 roots, 38 extra nodes, 4 pruned nodes, max_depth=5\u001b[0m\n",
      "\u001b[34m[0]#011train-error:0.302333#011validation-error:0.3114\u001b[0m\n",
      "\u001b[34mMultiple eval metrics have been passed: 'validation-error' will be used for early stopping.\n",
      "\u001b[0m\n",
      "\u001b[34mWill train until validation-error hasn't improved in 10 rounds.\u001b[0m\n",
      "\u001b[34m[11:30:41] src/tree/updater_prune.cc:74: tree pruning end, 1 roots, 48 extra nodes, 4 pruned nodes, max_depth=5\u001b[0m\n",
      "\u001b[34m[1]#011train-error:0.2884#011validation-error:0.3018\u001b[0m\n",
      "\u001b[34m[11:30:43] src/tree/updater_prune.cc:74: tree pruning end, 1 roots, 34 extra nodes, 14 pruned nodes, max_depth=5\u001b[0m\n",
      "\u001b[34m[2]#011train-error:0.2846#011validation-error:0.2989\u001b[0m\n",
      "\u001b[34m[11:30:44] src/tree/updater_prune.cc:74: tree pruning end, 1 roots, 32 extra nodes, 8 pruned nodes, max_depth=5\u001b[0m\n",
      "\u001b[34m[3]#011train-error:0.2684#011validation-error:0.2838\u001b[0m\n",
      "\u001b[34m[11:30:46] src/tree/updater_prune.cc:74: tree pruning end, 1 roots, 46 extra nodes, 8 pruned nodes, max_depth=5\u001b[0m\n",
      "\u001b[34m[4]#011train-error:0.260467#011validation-error:0.2782\u001b[0m\n",
      "\u001b[34m[11:30:47] src/tree/updater_prune.cc:74: tree pruning end, 1 roots, 30 extra nodes, 10 pruned nodes, max_depth=5\u001b[0m\n",
      "\u001b[34m[5]#011train-error:0.253067#011validation-error:0.2702\u001b[0m\n",
      "\u001b[34m[11:30:48] src/tree/updater_prune.cc:74: tree pruning end, 1 roots, 30 extra nodes, 2 pruned nodes, max_depth=5\u001b[0m\n",
      "\u001b[34m[6]#011train-error:0.245733#011validation-error:0.2623\u001b[0m\n",
      "\u001b[34m[11:30:49] src/tree/updater_prune.cc:74: tree pruning end, 1 roots, 28 extra nodes, 6 pruned nodes, max_depth=5\u001b[0m\n",
      "\u001b[34m[7]#011train-error:0.2438#011validation-error:0.2592\u001b[0m\n",
      "\u001b[34m[11:30:51] src/tree/updater_prune.cc:74: tree pruning end, 1 roots, 24 extra nodes, 12 pruned nodes, max_depth=5\u001b[0m\n",
      "\u001b[34m[8]#011train-error:0.2362#011validation-error:0.2517\u001b[0m\n",
      "\u001b[34m[11:30:52] src/tree/updater_prune.cc:74: tree pruning end, 1 roots, 46 extra nodes, 4 pruned nodes, max_depth=5\u001b[0m\n",
      "\u001b[34m[9]#011train-error:0.228533#011validation-error:0.2453\u001b[0m\n",
      "\u001b[34m[11:30:53] src/tree/updater_prune.cc:74: tree pruning end, 1 roots, 30 extra nodes, 4 pruned nodes, max_depth=5\u001b[0m\n",
      "\u001b[34m[10]#011train-error:0.222867#011validation-error:0.2406\u001b[0m\n",
      "\u001b[34m[11:30:55] src/tree/updater_prune.cc:74: tree pruning end, 1 roots, 30 extra nodes, 6 pruned nodes, max_depth=5\u001b[0m\n",
      "\u001b[34m[11]#011train-error:0.2178#011validation-error:0.2373\u001b[0m\n",
      "\u001b[34m[11:30:56] src/tree/updater_prune.cc:74: tree pruning end, 1 roots, 46 extra nodes, 6 pruned nodes, max_depth=5\u001b[0m\n",
      "\u001b[34m[12]#011train-error:0.2118#011validation-error:0.2316\u001b[0m\n",
      "\u001b[34m[11:30:57] src/tree/updater_prune.cc:74: tree pruning end, 1 roots, 28 extra nodes, 12 pruned nodes, max_depth=5\u001b[0m\n",
      "\u001b[34m[13]#011train-error:0.211733#011validation-error:0.2314\u001b[0m\n",
      "\u001b[34m[11:30:58] src/tree/updater_prune.cc:74: tree pruning end, 1 roots, 32 extra nodes, 2 pruned nodes, max_depth=5\u001b[0m\n",
      "\u001b[34m[14]#011train-error:0.208733#011validation-error:0.2276\u001b[0m\n",
      "\u001b[34m[11:31:00] src/tree/updater_prune.cc:74: tree pruning end, 1 roots, 36 extra nodes, 4 pruned nodes, max_depth=5\u001b[0m\n",
      "\u001b[34m[15]#011train-error:0.2044#011validation-error:0.2231\u001b[0m\n",
      "\u001b[34m[11:31:01] src/tree/updater_prune.cc:74: tree pruning end, 1 roots, 40 extra nodes, 2 pruned nodes, max_depth=5\u001b[0m\n",
      "\u001b[34m[16]#011train-error:0.2006#011validation-error:0.2197\u001b[0m\n",
      "\u001b[34m[11:31:02] src/tree/updater_prune.cc:74: tree pruning end, 1 roots, 28 extra nodes, 10 pruned nodes, max_depth=5\u001b[0m\n",
      "\u001b[34m[17]#011train-error:0.195467#011validation-error:0.2196\u001b[0m\n",
      "\u001b[34m[11:31:03] src/tree/updater_prune.cc:74: tree pruning end, 1 roots, 38 extra nodes, 6 pruned nodes, max_depth=5\u001b[0m\n",
      "\u001b[34m[18]#011train-error:0.193867#011validation-error:0.2176\u001b[0m\n",
      "\u001b[34m[11:31:05] src/tree/updater_prune.cc:74: tree pruning end, 1 roots, 24 extra nodes, 8 pruned nodes, max_depth=5\u001b[0m\n",
      "\u001b[34m[19]#011train-error:0.192533#011validation-error:0.2172\u001b[0m\n",
      "\u001b[34m[11:31:06] src/tree/updater_prune.cc:74: tree pruning end, 1 roots, 36 extra nodes, 6 pruned nodes, max_depth=5\u001b[0m\n",
      "\u001b[34m[20]#011train-error:0.1862#011validation-error:0.2125\u001b[0m\n",
      "\u001b[34m[11:31:07] src/tree/updater_prune.cc:74: tree pruning end, 1 roots, 34 extra nodes, 8 pruned nodes, max_depth=5\u001b[0m\n",
      "\u001b[34m[21]#011train-error:0.1836#011validation-error:0.2091\u001b[0m\n",
      "\u001b[34m[11:31:08] src/tree/updater_prune.cc:74: tree pruning end, 1 roots, 20 extra nodes, 14 pruned nodes, max_depth=5\u001b[0m\n",
      "\u001b[34m[22]#011train-error:0.182267#011validation-error:0.2068\u001b[0m\n",
      "\u001b[34m[11:31:10] src/tree/updater_prune.cc:74: tree pruning end, 1 roots, 32 extra nodes, 4 pruned nodes, max_depth=5\u001b[0m\n",
      "\u001b[34m[23]#011train-error:0.179933#011validation-error:0.2053\u001b[0m\n",
      "\u001b[34m[11:31:11] src/tree/updater_prune.cc:74: tree pruning end, 1 roots, 24 extra nodes, 10 pruned nodes, max_depth=5\u001b[0m\n",
      "\u001b[34m[24]#011train-error:0.177933#011validation-error:0.2041\u001b[0m\n",
      "\u001b[34m[11:31:12] src/tree/updater_prune.cc:74: tree pruning end, 1 roots, 36 extra nodes, 10 pruned nodes, max_depth=5\u001b[0m\n",
      "\u001b[34m[25]#011train-error:0.1752#011validation-error:0.2039\u001b[0m\n",
      "\u001b[34m[11:31:14] src/tree/updater_prune.cc:74: tree pruning end, 1 roots, 22 extra nodes, 2 pruned nodes, max_depth=5\u001b[0m\n",
      "\u001b[34m[26]#011train-error:0.174267#011validation-error:0.2035\u001b[0m\n",
      "\u001b[34m[11:31:15] src/tree/updater_prune.cc:74: tree pruning end, 1 roots, 24 extra nodes, 6 pruned nodes, max_depth=5\u001b[0m\n",
      "\u001b[34m[27]#011train-error:0.170533#011validation-error:0.2019\u001b[0m\n",
      "\u001b[34m[11:31:16] src/tree/updater_prune.cc:74: tree pruning end, 1 roots, 12 extra nodes, 18 pruned nodes, max_depth=5\u001b[0m\n",
      "\u001b[34m[28]#011train-error:0.1696#011validation-error:0.2024\u001b[0m\n",
      "\u001b[34m[11:31:17] src/tree/updater_prune.cc:74: tree pruning end, 1 roots, 36 extra nodes, 8 pruned nodes, max_depth=5\u001b[0m\n",
      "\u001b[34m[29]#011train-error:0.1666#011validation-error:0.2012\u001b[0m\n",
      "\u001b[34m[11:31:19] src/tree/updater_prune.cc:74: tree pruning end, 1 roots, 28 extra nodes, 10 pruned nodes, max_depth=5\u001b[0m\n",
      "\u001b[34m[30]#011train-error:0.1652#011validation-error:0.1977\u001b[0m\n",
      "\u001b[34m[11:31:20] src/tree/updater_prune.cc:74: tree pruning end, 1 roots, 26 extra nodes, 8 pruned nodes, max_depth=5\u001b[0m\n",
      "\u001b[34m[31]#011train-error:0.163933#011validation-error:0.1965\u001b[0m\n",
      "\u001b[34m[11:31:21] src/tree/updater_prune.cc:74: tree pruning end, 1 roots, 14 extra nodes, 10 pruned nodes, max_depth=5\u001b[0m\n",
      "\u001b[34m[32]#011train-error:0.162#011validation-error:0.1959\u001b[0m\n",
      "\u001b[34m[11:31:22] src/tree/updater_prune.cc:74: tree pruning end, 1 roots, 38 extra nodes, 0 pruned nodes, max_depth=5\u001b[0m\n",
      "\u001b[34m[33]#011train-error:0.160667#011validation-error:0.1949\u001b[0m\n",
      "\u001b[34m[11:31:24] src/tree/updater_prune.cc:74: tree pruning end, 1 roots, 24 extra nodes, 8 pruned nodes, max_depth=5\u001b[0m\n",
      "\u001b[34m[34]#011train-error:0.158467#011validation-error:0.1939\u001b[0m\n",
      "\u001b[34m[11:31:25] src/tree/updater_prune.cc:74: tree pruning end, 1 roots, 16 extra nodes, 10 pruned nodes, max_depth=5\u001b[0m\n",
      "\u001b[34m[35]#011train-error:0.155933#011validation-error:0.1918\u001b[0m\n",
      "\u001b[34m[11:31:26] src/tree/updater_prune.cc:74: tree pruning end, 1 roots, 32 extra nodes, 10 pruned nodes, max_depth=5\u001b[0m\n",
      "\u001b[34m[36]#011train-error:0.155133#011validation-error:0.1918\u001b[0m\n",
      "\u001b[34m[11:31:27] src/tree/updater_prune.cc:74: tree pruning end, 1 roots, 24 extra nodes, 10 pruned nodes, max_depth=5\u001b[0m\n",
      "\u001b[34m[37]#011train-error:0.153067#011validation-error:0.1915\u001b[0m\n",
      "\u001b[34m[11:31:29] src/tree/updater_prune.cc:74: tree pruning end, 1 roots, 16 extra nodes, 14 pruned nodes, max_depth=5\u001b[0m\n",
      "\u001b[34m[38]#011train-error:0.153333#011validation-error:0.1906\u001b[0m\n",
      "\u001b[34m[11:31:30] src/tree/updater_prune.cc:74: tree pruning end, 1 roots, 20 extra nodes, 6 pruned nodes, max_depth=5\u001b[0m\n",
      "\u001b[34m[39]#011train-error:0.152#011validation-error:0.1891\u001b[0m\n",
      "\u001b[34m[11:31:31] src/tree/updater_prune.cc:74: tree pruning end, 1 roots, 22 extra nodes, 12 pruned nodes, max_depth=5\u001b[0m\n",
      "\u001b[34m[40]#011train-error:0.1522#011validation-error:0.1904\u001b[0m\n",
      "\u001b[34m[11:31:32] src/tree/updater_prune.cc:74: tree pruning end, 1 roots, 32 extra nodes, 10 pruned nodes, max_depth=5\u001b[0m\n",
      "\u001b[34m[41]#011train-error:0.1504#011validation-error:0.1888\u001b[0m\n",
      "\u001b[34m[11:31:34] src/tree/updater_prune.cc:74: tree pruning end, 1 roots, 26 extra nodes, 6 pruned nodes, max_depth=5\u001b[0m\n",
      "\u001b[34m[42]#011train-error:0.147667#011validation-error:0.1865\u001b[0m\n",
      "\u001b[34m[11:31:35] src/tree/updater_prune.cc:74: tree pruning end, 1 roots, 22 extra nodes, 8 pruned nodes, max_depth=5\u001b[0m\n",
      "\u001b[34m[43]#011train-error:0.1464#011validation-error:0.1863\u001b[0m\n"
     ]
    },
    {
     "name": "stdout",
     "output_type": "stream",
     "text": [
      "\u001b[34m[11:31:36] src/tree/updater_prune.cc:74: tree pruning end, 1 roots, 16 extra nodes, 10 pruned nodes, max_depth=5\u001b[0m\n",
      "\u001b[34m[44]#011train-error:0.145533#011validation-error:0.1863\u001b[0m\n",
      "\u001b[34m[11:31:37] src/tree/updater_prune.cc:74: tree pruning end, 1 roots, 38 extra nodes, 10 pruned nodes, max_depth=5\u001b[0m\n",
      "\u001b[34m[45]#011train-error:0.1438#011validation-error:0.1863\u001b[0m\n",
      "\u001b[34m[11:31:39] src/tree/updater_prune.cc:74: tree pruning end, 1 roots, 12 extra nodes, 8 pruned nodes, max_depth=5\u001b[0m\n",
      "\u001b[34m[46]#011train-error:0.1426#011validation-error:0.1848\u001b[0m\n",
      "\u001b[34m[11:31:40] src/tree/updater_prune.cc:74: tree pruning end, 1 roots, 18 extra nodes, 10 pruned nodes, max_depth=5\u001b[0m\n",
      "\u001b[34m[47]#011train-error:0.141#011validation-error:0.1851\u001b[0m\n",
      "\u001b[34m[11:31:41] src/tree/updater_prune.cc:74: tree pruning end, 1 roots, 22 extra nodes, 6 pruned nodes, max_depth=5\u001b[0m\n",
      "\u001b[34m[48]#011train-error:0.139867#011validation-error:0.1843\u001b[0m\n",
      "\u001b[34m[11:31:43] src/tree/updater_prune.cc:74: tree pruning end, 1 roots, 26 extra nodes, 6 pruned nodes, max_depth=5\u001b[0m\n",
      "\u001b[34m[49]#011train-error:0.138533#011validation-error:0.1835\u001b[0m\n",
      "\u001b[34m[11:31:44] src/tree/updater_prune.cc:74: tree pruning end, 1 roots, 24 extra nodes, 0 pruned nodes, max_depth=5\u001b[0m\n",
      "\u001b[34m[50]#011train-error:0.1368#011validation-error:0.1816\u001b[0m\n",
      "\u001b[34m[11:31:45] src/tree/updater_prune.cc:74: tree pruning end, 1 roots, 14 extra nodes, 12 pruned nodes, max_depth=5\u001b[0m\n",
      "\u001b[34m[51]#011train-error:0.135867#011validation-error:0.1811\u001b[0m\n",
      "\u001b[34m[11:31:46] src/tree/updater_prune.cc:74: tree pruning end, 1 roots, 14 extra nodes, 16 pruned nodes, max_depth=5\u001b[0m\n",
      "\u001b[34m[52]#011train-error:0.135333#011validation-error:0.1804\u001b[0m\n",
      "\u001b[34m[11:31:48] src/tree/updater_prune.cc:74: tree pruning end, 1 roots, 20 extra nodes, 14 pruned nodes, max_depth=5\u001b[0m\n",
      "\u001b[34m[53]#011train-error:0.133667#011validation-error:0.1791\u001b[0m\n",
      "\u001b[34m[11:31:49] src/tree/updater_prune.cc:74: tree pruning end, 1 roots, 24 extra nodes, 8 pruned nodes, max_depth=5\u001b[0m\n",
      "\u001b[34m[54]#011train-error:0.132533#011validation-error:0.1783\u001b[0m\n",
      "\u001b[34m[11:31:50] src/tree/updater_prune.cc:74: tree pruning end, 1 roots, 20 extra nodes, 10 pruned nodes, max_depth=5\u001b[0m\n",
      "\u001b[34m[55]#011train-error:0.131467#011validation-error:0.179\u001b[0m\n",
      "\u001b[34m[11:31:51] src/tree/updater_prune.cc:74: tree pruning end, 1 roots, 20 extra nodes, 10 pruned nodes, max_depth=5\u001b[0m\n",
      "\u001b[34m[56]#011train-error:0.130467#011validation-error:0.1782\u001b[0m\n",
      "\u001b[34m[11:31:53] src/tree/updater_prune.cc:74: tree pruning end, 1 roots, 12 extra nodes, 10 pruned nodes, max_depth=5\u001b[0m\n",
      "\u001b[34m[57]#011train-error:0.130333#011validation-error:0.1767\u001b[0m\n",
      "\u001b[34m[11:31:54] src/tree/updater_prune.cc:74: tree pruning end, 1 roots, 26 extra nodes, 6 pruned nodes, max_depth=5\u001b[0m\n",
      "\u001b[34m[58]#011train-error:0.129267#011validation-error:0.1753\u001b[0m\n",
      "\u001b[34m[11:31:55] src/tree/updater_prune.cc:74: tree pruning end, 1 roots, 18 extra nodes, 6 pruned nodes, max_depth=5\u001b[0m\n",
      "\u001b[34m[59]#011train-error:0.127333#011validation-error:0.1739\u001b[0m\n",
      "\u001b[34m[11:31:56] src/tree/updater_prune.cc:74: tree pruning end, 1 roots, 24 extra nodes, 10 pruned nodes, max_depth=5\u001b[0m\n",
      "\u001b[34m[60]#011train-error:0.127467#011validation-error:0.1744\u001b[0m\n",
      "\u001b[34m[11:31:58] src/tree/updater_prune.cc:74: tree pruning end, 1 roots, 24 extra nodes, 8 pruned nodes, max_depth=5\u001b[0m\n",
      "\u001b[34m[61]#011train-error:0.126067#011validation-error:0.1728\u001b[0m\n",
      "\u001b[34m[11:31:59] src/tree/updater_prune.cc:74: tree pruning end, 1 roots, 20 extra nodes, 6 pruned nodes, max_depth=5\u001b[0m\n",
      "\u001b[34m[62]#011train-error:0.1254#011validation-error:0.171\u001b[0m\n",
      "\u001b[34m[11:32:00] src/tree/updater_prune.cc:74: tree pruning end, 1 roots, 18 extra nodes, 8 pruned nodes, max_depth=5\u001b[0m\n",
      "\u001b[34m[63]#011train-error:0.124267#011validation-error:0.1695\u001b[0m\n",
      "\u001b[34m[11:32:01] src/tree/updater_prune.cc:74: tree pruning end, 1 roots, 14 extra nodes, 6 pruned nodes, max_depth=5\u001b[0m\n",
      "\u001b[34m[64]#011train-error:0.123267#011validation-error:0.1692\u001b[0m\n",
      "\u001b[34m[11:32:03] src/tree/updater_prune.cc:74: tree pruning end, 1 roots, 24 extra nodes, 12 pruned nodes, max_depth=5\u001b[0m\n",
      "\u001b[34m[65]#011train-error:0.122#011validation-error:0.1696\u001b[0m\n",
      "\u001b[34m[11:32:04] src/tree/updater_prune.cc:74: tree pruning end, 1 roots, 18 extra nodes, 6 pruned nodes, max_depth=5\u001b[0m\n",
      "\u001b[34m[66]#011train-error:0.122#011validation-error:0.1691\u001b[0m\n",
      "\u001b[34m[11:32:05] src/tree/updater_prune.cc:74: tree pruning end, 1 roots, 20 extra nodes, 8 pruned nodes, max_depth=5\u001b[0m\n",
      "\u001b[34m[67]#011train-error:0.1216#011validation-error:0.1693\u001b[0m\n",
      "\u001b[34m[11:32:06] src/tree/updater_prune.cc:74: tree pruning end, 1 roots, 12 extra nodes, 8 pruned nodes, max_depth=5\u001b[0m\n",
      "\u001b[34m[68]#011train-error:0.1202#011validation-error:0.1679\u001b[0m\n",
      "\u001b[34m[11:32:08] src/tree/updater_prune.cc:74: tree pruning end, 1 roots, 22 extra nodes, 8 pruned nodes, max_depth=5\u001b[0m\n",
      "\u001b[34m[69]#011train-error:0.1198#011validation-error:0.167\u001b[0m\n",
      "\u001b[34m[11:32:09] src/tree/updater_prune.cc:74: tree pruning end, 1 roots, 32 extra nodes, 6 pruned nodes, max_depth=5\u001b[0m\n",
      "\u001b[34m[70]#011train-error:0.119733#011validation-error:0.1674\u001b[0m\n",
      "\u001b[34m[11:32:10] src/tree/updater_prune.cc:74: tree pruning end, 1 roots, 20 extra nodes, 2 pruned nodes, max_depth=5\u001b[0m\n",
      "\u001b[34m[71]#011train-error:0.1178#011validation-error:0.1681\u001b[0m\n",
      "\u001b[34m[11:32:12] src/tree/updater_prune.cc:74: tree pruning end, 1 roots, 30 extra nodes, 2 pruned nodes, max_depth=5\u001b[0m\n",
      "\u001b[34m[72]#011train-error:0.116533#011validation-error:0.1653\u001b[0m\n",
      "\u001b[34m[11:32:13] src/tree/updater_prune.cc:74: tree pruning end, 1 roots, 26 extra nodes, 0 pruned nodes, max_depth=5\u001b[0m\n",
      "\u001b[34m[73]#011train-error:0.1144#011validation-error:0.1649\u001b[0m\n",
      "\u001b[34m[11:32:14] src/tree/updater_prune.cc:74: tree pruning end, 1 roots, 16 extra nodes, 10 pruned nodes, max_depth=5\u001b[0m\n",
      "\u001b[34m[74]#011train-error:0.114267#011validation-error:0.1647\u001b[0m\n",
      "\u001b[34m[11:32:15] src/tree/updater_prune.cc:74: tree pruning end, 1 roots, 24 extra nodes, 8 pruned nodes, max_depth=5\u001b[0m\n",
      "\u001b[34m[75]#011train-error:0.113733#011validation-error:0.1637\u001b[0m\n",
      "\u001b[34m[11:32:17] src/tree/updater_prune.cc:74: tree pruning end, 1 roots, 26 extra nodes, 8 pruned nodes, max_depth=5\u001b[0m\n",
      "\u001b[34m[76]#011train-error:0.113467#011validation-error:0.1633\u001b[0m\n",
      "\u001b[34m[11:32:18] src/tree/updater_prune.cc:74: tree pruning end, 1 roots, 18 extra nodes, 14 pruned nodes, max_depth=5\u001b[0m\n",
      "\u001b[34m[77]#011train-error:0.113267#011validation-error:0.163\u001b[0m\n",
      "\u001b[34m[11:32:19] src/tree/updater_prune.cc:74: tree pruning end, 1 roots, 12 extra nodes, 10 pruned nodes, max_depth=5\u001b[0m\n",
      "\u001b[34m[78]#011train-error:0.1122#011validation-error:0.1632\u001b[0m\n",
      "\u001b[34m[11:32:20] src/tree/updater_prune.cc:74: tree pruning end, 1 roots, 14 extra nodes, 6 pruned nodes, max_depth=5\u001b[0m\n",
      "\u001b[34m[79]#011train-error:0.112533#011validation-error:0.1633\u001b[0m\n",
      "\u001b[34m[11:32:22] src/tree/updater_prune.cc:74: tree pruning end, 1 roots, 14 extra nodes, 6 pruned nodes, max_depth=5\u001b[0m\n",
      "\u001b[34m[80]#011train-error:0.112133#011validation-error:0.1613\u001b[0m\n",
      "\u001b[34m[11:32:23] src/tree/updater_prune.cc:74: tree pruning end, 1 roots, 14 extra nodes, 12 pruned nodes, max_depth=5\u001b[0m\n",
      "\u001b[34m[81]#011train-error:0.1108#011validation-error:0.1605\u001b[0m\n",
      "\u001b[34m[11:32:24] src/tree/updater_prune.cc:74: tree pruning end, 1 roots, 24 extra nodes, 8 pruned nodes, max_depth=5\u001b[0m\n",
      "\u001b[34m[82]#011train-error:0.110933#011validation-error:0.1606\u001b[0m\n",
      "\u001b[34m[11:32:25] src/tree/updater_prune.cc:74: tree pruning end, 1 roots, 12 extra nodes, 12 pruned nodes, max_depth=5\u001b[0m\n",
      "\u001b[34m[83]#011train-error:0.110333#011validation-error:0.1608\u001b[0m\n",
      "\u001b[34m[11:32:27] src/tree/updater_prune.cc:74: tree pruning end, 1 roots, 16 extra nodes, 0 pruned nodes, max_depth=5\u001b[0m\n",
      "\u001b[34m[84]#011train-error:0.109333#011validation-error:0.1604\u001b[0m\n",
      "\u001b[34m[11:32:28] src/tree/updater_prune.cc:74: tree pruning end, 1 roots, 12 extra nodes, 16 pruned nodes, max_depth=5\u001b[0m\n",
      "\u001b[34m[85]#011train-error:0.109#011validation-error:0.1607\u001b[0m\n",
      "\u001b[34m[11:32:29] src/tree/updater_prune.cc:74: tree pruning end, 1 roots, 32 extra nodes, 10 pruned nodes, max_depth=5\u001b[0m\n",
      "\u001b[34m[86]#011train-error:0.108667#011validation-error:0.1596\u001b[0m\n",
      "\u001b[34m[11:32:30] src/tree/updater_prune.cc:74: tree pruning end, 1 roots, 24 extra nodes, 8 pruned nodes, max_depth=5\u001b[0m\n",
      "\u001b[34m[87]#011train-error:0.1078#011validation-error:0.1582\u001b[0m\n",
      "\u001b[34m[11:32:32] src/tree/updater_prune.cc:74: tree pruning end, 1 roots, 22 extra nodes, 6 pruned nodes, max_depth=5\u001b[0m\n",
      "\u001b[34m[88]#011train-error:0.106333#011validation-error:0.1584\u001b[0m\n",
      "\u001b[34m[11:32:33] src/tree/updater_prune.cc:74: tree pruning end, 1 roots, 20 extra nodes, 6 pruned nodes, max_depth=5\u001b[0m\n",
      "\u001b[34m[89]#011train-error:0.1056#011validation-error:0.159\u001b[0m\n",
      "\u001b[34m[11:32:34] src/tree/updater_prune.cc:74: tree pruning end, 1 roots, 30 extra nodes, 8 pruned nodes, max_depth=5\u001b[0m\n",
      "\u001b[34m[90]#011train-error:0.105067#011validation-error:0.1585\u001b[0m\n",
      "\u001b[34m[11:32:36] src/tree/updater_prune.cc:74: tree pruning end, 1 roots, 20 extra nodes, 6 pruned nodes, max_depth=5\u001b[0m\n",
      "\u001b[34m[91]#011train-error:0.104#011validation-error:0.1578\u001b[0m\n"
     ]
    },
    {
     "name": "stdout",
     "output_type": "stream",
     "text": [
      "\u001b[34m[11:32:37] src/tree/updater_prune.cc:74: tree pruning end, 1 roots, 38 extra nodes, 8 pruned nodes, max_depth=5\u001b[0m\n",
      "\u001b[34m[92]#011train-error:0.102867#011validation-error:0.1573\u001b[0m\n",
      "\u001b[34m[11:32:38] src/tree/updater_prune.cc:74: tree pruning end, 1 roots, 14 extra nodes, 6 pruned nodes, max_depth=5\u001b[0m\n",
      "\u001b[34m[93]#011train-error:0.102667#011validation-error:0.1558\u001b[0m\n",
      "\u001b[34m[11:32:39] src/tree/updater_prune.cc:74: tree pruning end, 1 roots, 16 extra nodes, 6 pruned nodes, max_depth=5\u001b[0m\n",
      "\u001b[34m[94]#011train-error:0.102667#011validation-error:0.1567\u001b[0m\n",
      "\u001b[34m[11:32:41] src/tree/updater_prune.cc:74: tree pruning end, 1 roots, 22 extra nodes, 4 pruned nodes, max_depth=5\u001b[0m\n",
      "\u001b[34m[95]#011train-error:0.102667#011validation-error:0.1558\u001b[0m\n",
      "\u001b[34m[11:32:42] src/tree/updater_prune.cc:74: tree pruning end, 1 roots, 16 extra nodes, 6 pruned nodes, max_depth=5\u001b[0m\n",
      "\u001b[34m[96]#011train-error:0.101733#011validation-error:0.156\u001b[0m\n",
      "\u001b[34m[11:32:43] src/tree/updater_prune.cc:74: tree pruning end, 1 roots, 14 extra nodes, 10 pruned nodes, max_depth=5\u001b[0m\n",
      "\u001b[34m[97]#011train-error:0.101333#011validation-error:0.1557\u001b[0m\n",
      "\u001b[34m[11:32:45] src/tree/updater_prune.cc:74: tree pruning end, 1 roots, 24 extra nodes, 6 pruned nodes, max_depth=5\u001b[0m\n",
      "\u001b[34m[98]#011train-error:0.100667#011validation-error:0.156\u001b[0m\n",
      "\u001b[34m[11:32:46] src/tree/updater_prune.cc:74: tree pruning end, 1 roots, 32 extra nodes, 12 pruned nodes, max_depth=5\u001b[0m\n",
      "\u001b[34m[99]#011train-error:0.099733#011validation-error:0.156\u001b[0m\n",
      "\u001b[34m[11:32:47] src/tree/updater_prune.cc:74: tree pruning end, 1 roots, 12 extra nodes, 6 pruned nodes, max_depth=5\u001b[0m\n",
      "\u001b[34m[100]#011train-error:0.0986#011validation-error:0.1565\u001b[0m\n",
      "\u001b[34m[11:32:48] src/tree/updater_prune.cc:74: tree pruning end, 1 roots, 28 extra nodes, 8 pruned nodes, max_depth=5\u001b[0m\n",
      "\u001b[34m[101]#011train-error:0.098533#011validation-error:0.1555\u001b[0m\n",
      "\u001b[34m[11:32:50] src/tree/updater_prune.cc:74: tree pruning end, 1 roots, 10 extra nodes, 8 pruned nodes, max_depth=5\u001b[0m\n",
      "\u001b[34m[102]#011train-error:0.098533#011validation-error:0.1548\u001b[0m\n",
      "\u001b[34m[11:32:51] src/tree/updater_prune.cc:74: tree pruning end, 1 roots, 12 extra nodes, 8 pruned nodes, max_depth=5\u001b[0m\n",
      "\u001b[34m[103]#011train-error:0.098267#011validation-error:0.1547\u001b[0m\n",
      "\u001b[34m[11:32:52] src/tree/updater_prune.cc:74: tree pruning end, 1 roots, 14 extra nodes, 4 pruned nodes, max_depth=5\u001b[0m\n",
      "\u001b[34m[104]#011train-error:0.097933#011validation-error:0.1548\u001b[0m\n",
      "\u001b[34m[11:32:53] src/tree/updater_prune.cc:74: tree pruning end, 1 roots, 28 extra nodes, 2 pruned nodes, max_depth=5\u001b[0m\n",
      "\u001b[34m[105]#011train-error:0.095733#011validation-error:0.155\u001b[0m\n",
      "\u001b[34m[11:32:55] src/tree/updater_prune.cc:74: tree pruning end, 1 roots, 12 extra nodes, 12 pruned nodes, max_depth=5\u001b[0m\n",
      "\u001b[34m[106]#011train-error:0.095933#011validation-error:0.1552\u001b[0m\n",
      "\u001b[34m[11:32:56] src/tree/updater_prune.cc:74: tree pruning end, 1 roots, 20 extra nodes, 6 pruned nodes, max_depth=5\u001b[0m\n",
      "\u001b[34m[107]#011train-error:0.0962#011validation-error:0.1541\u001b[0m\n",
      "\u001b[34m[11:32:57] src/tree/updater_prune.cc:74: tree pruning end, 1 roots, 12 extra nodes, 12 pruned nodes, max_depth=5\u001b[0m\n",
      "\u001b[34m[108]#011train-error:0.0956#011validation-error:0.1547\u001b[0m\n",
      "\u001b[34m[11:32:58] src/tree/updater_prune.cc:74: tree pruning end, 1 roots, 14 extra nodes, 8 pruned nodes, max_depth=5\u001b[0m\n",
      "\u001b[34m[109]#011train-error:0.095533#011validation-error:0.1536\u001b[0m\n",
      "\u001b[34m[11:33:00] src/tree/updater_prune.cc:74: tree pruning end, 1 roots, 12 extra nodes, 10 pruned nodes, max_depth=5\u001b[0m\n",
      "\u001b[34m[110]#011train-error:0.0954#011validation-error:0.1532\u001b[0m\n",
      "\u001b[34m[11:33:01] src/tree/updater_prune.cc:74: tree pruning end, 1 roots, 20 extra nodes, 10 pruned nodes, max_depth=5\u001b[0m\n",
      "\u001b[34m[111]#011train-error:0.094733#011validation-error:0.1538\u001b[0m\n",
      "\u001b[34m[11:33:02] src/tree/updater_prune.cc:74: tree pruning end, 1 roots, 16 extra nodes, 8 pruned nodes, max_depth=5\u001b[0m\n",
      "\u001b[34m[112]#011train-error:0.093867#011validation-error:0.1536\u001b[0m\n",
      "\u001b[34m[11:33:03] src/tree/updater_prune.cc:74: tree pruning end, 1 roots, 18 extra nodes, 0 pruned nodes, max_depth=5\u001b[0m\n",
      "\u001b[34m[113]#011train-error:0.0938#011validation-error:0.1531\u001b[0m\n",
      "\u001b[34m[11:33:05] src/tree/updater_prune.cc:74: tree pruning end, 1 roots, 18 extra nodes, 10 pruned nodes, max_depth=5\u001b[0m\n",
      "\u001b[34m[114]#011train-error:0.0932#011validation-error:0.1529\u001b[0m\n",
      "\u001b[34m[11:33:06] src/tree/updater_prune.cc:74: tree pruning end, 1 roots, 26 extra nodes, 8 pruned nodes, max_depth=5\u001b[0m\n",
      "\u001b[34m[115]#011train-error:0.092667#011validation-error:0.1526\u001b[0m\n",
      "\u001b[34m[11:33:07] src/tree/updater_prune.cc:74: tree pruning end, 1 roots, 14 extra nodes, 8 pruned nodes, max_depth=5\u001b[0m\n",
      "\u001b[34m[116]#011train-error:0.092533#011validation-error:0.1525\u001b[0m\n",
      "\u001b[34m[11:33:09] src/tree/updater_prune.cc:74: tree pruning end, 1 roots, 10 extra nodes, 14 pruned nodes, max_depth=5\u001b[0m\n",
      "\u001b[34m[117]#011train-error:0.0922#011validation-error:0.1519\u001b[0m\n",
      "\u001b[34m[11:33:10] src/tree/updater_prune.cc:74: tree pruning end, 1 roots, 18 extra nodes, 4 pruned nodes, max_depth=5\u001b[0m\n",
      "\u001b[34m[118]#011train-error:0.091933#011validation-error:0.1513\u001b[0m\n",
      "\u001b[34m[11:33:11] src/tree/updater_prune.cc:74: tree pruning end, 1 roots, 20 extra nodes, 4 pruned nodes, max_depth=5\u001b[0m\n",
      "\u001b[34m[119]#011train-error:0.0922#011validation-error:0.1513\u001b[0m\n",
      "\u001b[34m[11:33:12] src/tree/updater_prune.cc:74: tree pruning end, 1 roots, 14 extra nodes, 4 pruned nodes, max_depth=5\u001b[0m\n",
      "\u001b[34m[120]#011train-error:0.092#011validation-error:0.1517\u001b[0m\n",
      "\u001b[34m[11:33:14] src/tree/updater_prune.cc:74: tree pruning end, 1 roots, 18 extra nodes, 12 pruned nodes, max_depth=5\u001b[0m\n",
      "\u001b[34m[121]#011train-error:0.091733#011validation-error:0.1514\u001b[0m\n",
      "\u001b[34m[11:33:15] src/tree/updater_prune.cc:74: tree pruning end, 1 roots, 24 extra nodes, 6 pruned nodes, max_depth=5\u001b[0m\n",
      "\u001b[34m[122]#011train-error:0.090867#011validation-error:0.151\u001b[0m\n",
      "\u001b[34m[11:33:16] src/tree/updater_prune.cc:74: tree pruning end, 1 roots, 10 extra nodes, 12 pruned nodes, max_depth=5\u001b[0m\n",
      "\u001b[34m[123]#011train-error:0.090667#011validation-error:0.1509\u001b[0m\n",
      "\u001b[34m[11:33:17] src/tree/updater_prune.cc:74: tree pruning end, 1 roots, 10 extra nodes, 8 pruned nodes, max_depth=5\u001b[0m\n",
      "\u001b[34m[124]#011train-error:0.090333#011validation-error:0.1507\u001b[0m\n",
      "\u001b[34m[11:33:19] src/tree/updater_prune.cc:74: tree pruning end, 1 roots, 12 extra nodes, 4 pruned nodes, max_depth=5\u001b[0m\n",
      "\u001b[34m[125]#011train-error:0.090267#011validation-error:0.1512\u001b[0m\n",
      "\u001b[34m[11:33:20] src/tree/updater_prune.cc:74: tree pruning end, 1 roots, 14 extra nodes, 6 pruned nodes, max_depth=5\u001b[0m\n",
      "\u001b[34m[126]#011train-error:0.090667#011validation-error:0.1514\u001b[0m\n",
      "\u001b[34m[11:33:21] src/tree/updater_prune.cc:74: tree pruning end, 1 roots, 10 extra nodes, 16 pruned nodes, max_depth=5\u001b[0m\n",
      "\u001b[34m[127]#011train-error:0.090533#011validation-error:0.151\u001b[0m\n",
      "\u001b[34m[11:33:22] src/tree/updater_prune.cc:74: tree pruning end, 1 roots, 18 extra nodes, 6 pruned nodes, max_depth=5\u001b[0m\n",
      "\u001b[34m[128]#011train-error:0.090267#011validation-error:0.1511\u001b[0m\n",
      "\u001b[34m[11:33:24] src/tree/updater_prune.cc:74: tree pruning end, 1 roots, 20 extra nodes, 8 pruned nodes, max_depth=5\u001b[0m\n",
      "\u001b[34m[129]#011train-error:0.089667#011validation-error:0.1507\u001b[0m\n",
      "\u001b[34m[11:33:25] src/tree/updater_prune.cc:74: tree pruning end, 1 roots, 30 extra nodes, 6 pruned nodes, max_depth=5\u001b[0m\n",
      "\u001b[34m[130]#011train-error:0.0892#011validation-error:0.1504\u001b[0m\n",
      "\u001b[34m[11:33:26] src/tree/updater_prune.cc:74: tree pruning end, 1 roots, 14 extra nodes, 6 pruned nodes, max_depth=5\u001b[0m\n",
      "\u001b[34m[131]#011train-error:0.089067#011validation-error:0.1504\u001b[0m\n",
      "\u001b[34m[11:33:27] src/tree/updater_prune.cc:74: tree pruning end, 1 roots, 26 extra nodes, 12 pruned nodes, max_depth=5\u001b[0m\n",
      "\u001b[34m[132]#011train-error:0.087933#011validation-error:0.1501\u001b[0m\n",
      "\u001b[34m[11:33:29] src/tree/updater_prune.cc:74: tree pruning end, 1 roots, 34 extra nodes, 8 pruned nodes, max_depth=5\u001b[0m\n",
      "\u001b[34m[133]#011train-error:0.086533#011validation-error:0.151\u001b[0m\n",
      "\u001b[34m[11:33:30] src/tree/updater_prune.cc:74: tree pruning end, 1 roots, 14 extra nodes, 8 pruned nodes, max_depth=5\u001b[0m\n",
      "\u001b[34m[134]#011train-error:0.086333#011validation-error:0.1508\u001b[0m\n",
      "\u001b[34m[11:33:31] src/tree/updater_prune.cc:74: tree pruning end, 1 roots, 10 extra nodes, 14 pruned nodes, max_depth=5\u001b[0m\n",
      "\u001b[34m[135]#011train-error:0.086667#011validation-error:0.1508\u001b[0m\n",
      "\u001b[34m[11:33:33] src/tree/updater_prune.cc:74: tree pruning end, 1 roots, 16 extra nodes, 4 pruned nodes, max_depth=5\u001b[0m\n",
      "\u001b[34m[136]#011train-error:0.086#011validation-error:0.1502\u001b[0m\n",
      "\u001b[34m[11:33:34] src/tree/updater_prune.cc:74: tree pruning end, 1 roots, 12 extra nodes, 8 pruned nodes, max_depth=5\u001b[0m\n",
      "\u001b[34m[137]#011train-error:0.0856#011validation-error:0.15\u001b[0m\n",
      "\u001b[34m[11:33:35] src/tree/updater_prune.cc:74: tree pruning end, 1 roots, 14 extra nodes, 4 pruned nodes, max_depth=5\u001b[0m\n",
      "\u001b[34m[138]#011train-error:0.085467#011validation-error:0.1501\u001b[0m\n",
      "\u001b[34m[11:33:36] src/tree/updater_prune.cc:74: tree pruning end, 1 roots, 12 extra nodes, 6 pruned nodes, max_depth=5\u001b[0m\n",
      "\u001b[34m[139]#011train-error:0.0846#011validation-error:0.1497\u001b[0m\n"
     ]
    },
    {
     "name": "stdout",
     "output_type": "stream",
     "text": [
      "\u001b[34m[11:33:38] src/tree/updater_prune.cc:74: tree pruning end, 1 roots, 16 extra nodes, 12 pruned nodes, max_depth=5\u001b[0m\n",
      "\u001b[34m[140]#011train-error:0.084267#011validation-error:0.1491\u001b[0m\n",
      "\u001b[34m[11:33:39] src/tree/updater_prune.cc:74: tree pruning end, 1 roots, 16 extra nodes, 0 pruned nodes, max_depth=5\u001b[0m\n",
      "\u001b[34m[141]#011train-error:0.083667#011validation-error:0.1495\u001b[0m\n",
      "\u001b[34m[11:33:40] src/tree/updater_prune.cc:74: tree pruning end, 1 roots, 24 extra nodes, 8 pruned nodes, max_depth=5\u001b[0m\n",
      "\u001b[34m[142]#011train-error:0.0834#011validation-error:0.1501\u001b[0m\n",
      "\u001b[34m[11:33:41] src/tree/updater_prune.cc:74: tree pruning end, 1 roots, 10 extra nodes, 6 pruned nodes, max_depth=5\u001b[0m\n",
      "\u001b[34m[143]#011train-error:0.083467#011validation-error:0.149\u001b[0m\n",
      "\u001b[34m[11:33:43] src/tree/updater_prune.cc:74: tree pruning end, 1 roots, 12 extra nodes, 16 pruned nodes, max_depth=5\u001b[0m\n",
      "\u001b[34m[144]#011train-error:0.083667#011validation-error:0.1483\u001b[0m\n",
      "\u001b[34m[11:33:44] src/tree/updater_prune.cc:74: tree pruning end, 1 roots, 12 extra nodes, 14 pruned nodes, max_depth=5\u001b[0m\n",
      "\u001b[34m[145]#011train-error:0.083133#011validation-error:0.1481\u001b[0m\n",
      "\u001b[34m[11:33:45] src/tree/updater_prune.cc:74: tree pruning end, 1 roots, 12 extra nodes, 2 pruned nodes, max_depth=5\u001b[0m\n",
      "\u001b[34m[146]#011train-error:0.083133#011validation-error:0.1475\u001b[0m\n",
      "\u001b[34m[11:33:46] src/tree/updater_prune.cc:74: tree pruning end, 1 roots, 18 extra nodes, 4 pruned nodes, max_depth=5\u001b[0m\n",
      "\u001b[34m[147]#011train-error:0.082933#011validation-error:0.1475\u001b[0m\n",
      "\u001b[34m[11:33:48] src/tree/updater_prune.cc:74: tree pruning end, 1 roots, 18 extra nodes, 2 pruned nodes, max_depth=5\u001b[0m\n",
      "\u001b[34m[148]#011train-error:0.082067#011validation-error:0.1476\u001b[0m\n",
      "\u001b[34m[11:33:49] src/tree/updater_prune.cc:74: tree pruning end, 1 roots, 16 extra nodes, 8 pruned nodes, max_depth=5\u001b[0m\n",
      "\u001b[34m[149]#011train-error:0.082133#011validation-error:0.1476\u001b[0m\n",
      "\u001b[34m[11:33:50] src/tree/updater_prune.cc:74: tree pruning end, 1 roots, 18 extra nodes, 6 pruned nodes, max_depth=5\u001b[0m\n",
      "\u001b[34m[150]#011train-error:0.082133#011validation-error:0.1472\u001b[0m\n",
      "\u001b[34m[11:33:51] src/tree/updater_prune.cc:74: tree pruning end, 1 roots, 18 extra nodes, 2 pruned nodes, max_depth=5\u001b[0m\n",
      "\u001b[34m[151]#011train-error:0.081733#011validation-error:0.147\u001b[0m\n",
      "\u001b[34m[11:33:53] src/tree/updater_prune.cc:74: tree pruning end, 1 roots, 20 extra nodes, 8 pruned nodes, max_depth=5\u001b[0m\n",
      "\u001b[34m[152]#011train-error:0.081533#011validation-error:0.1469\u001b[0m\n",
      "\u001b[34m[11:33:54] src/tree/updater_prune.cc:74: tree pruning end, 1 roots, 28 extra nodes, 8 pruned nodes, max_depth=5\u001b[0m\n",
      "\u001b[34m[153]#011train-error:0.081133#011validation-error:0.1465\u001b[0m\n",
      "\u001b[34m[11:33:55] src/tree/updater_prune.cc:74: tree pruning end, 1 roots, 12 extra nodes, 8 pruned nodes, max_depth=5\u001b[0m\n",
      "\u001b[34m[154]#011train-error:0.080867#011validation-error:0.1463\u001b[0m\n",
      "\u001b[34m[11:33:57] src/tree/updater_prune.cc:74: tree pruning end, 1 roots, 12 extra nodes, 6 pruned nodes, max_depth=5\u001b[0m\n",
      "\u001b[34m[155]#011train-error:0.080133#011validation-error:0.1462\u001b[0m\n",
      "\u001b[34m[11:33:58] src/tree/updater_prune.cc:74: tree pruning end, 1 roots, 10 extra nodes, 6 pruned nodes, max_depth=5\u001b[0m\n",
      "\u001b[34m[156]#011train-error:0.0796#011validation-error:0.1466\u001b[0m\n",
      "\u001b[34m[11:33:59] src/tree/updater_prune.cc:74: tree pruning end, 1 roots, 12 extra nodes, 6 pruned nodes, max_depth=5\u001b[0m\n",
      "\u001b[34m[157]#011train-error:0.0794#011validation-error:0.1464\u001b[0m\n",
      "\u001b[34m[11:34:00] src/tree/updater_prune.cc:74: tree pruning end, 1 roots, 14 extra nodes, 16 pruned nodes, max_depth=5\u001b[0m\n",
      "\u001b[34m[158]#011train-error:0.079333#011validation-error:0.147\u001b[0m\n",
      "\u001b[34m[11:34:02] src/tree/updater_prune.cc:74: tree pruning end, 1 roots, 10 extra nodes, 10 pruned nodes, max_depth=5\u001b[0m\n",
      "\u001b[34m[159]#011train-error:0.078867#011validation-error:0.1459\u001b[0m\n",
      "\u001b[34m[11:34:03] src/tree/updater_prune.cc:74: tree pruning end, 1 roots, 12 extra nodes, 6 pruned nodes, max_depth=5\u001b[0m\n",
      "\u001b[34m[160]#011train-error:0.079333#011validation-error:0.1457\u001b[0m\n",
      "\u001b[34m[11:34:04] src/tree/updater_prune.cc:74: tree pruning end, 1 roots, 16 extra nodes, 6 pruned nodes, max_depth=5\u001b[0m\n",
      "\u001b[34m[161]#011train-error:0.078733#011validation-error:0.145\u001b[0m\n",
      "\u001b[34m[11:34:05] src/tree/updater_prune.cc:74: tree pruning end, 1 roots, 18 extra nodes, 8 pruned nodes, max_depth=5\u001b[0m\n",
      "\u001b[34m[162]#011train-error:0.078733#011validation-error:0.1452\u001b[0m\n",
      "\u001b[34m[11:34:07] src/tree/updater_prune.cc:74: tree pruning end, 1 roots, 22 extra nodes, 8 pruned nodes, max_depth=5\u001b[0m\n",
      "\u001b[34m[163]#011train-error:0.0786#011validation-error:0.1447\u001b[0m\n",
      "\u001b[34m[11:34:08] src/tree/updater_prune.cc:74: tree pruning end, 1 roots, 14 extra nodes, 12 pruned nodes, max_depth=5\u001b[0m\n",
      "\u001b[34m[164]#011train-error:0.078067#011validation-error:0.1447\u001b[0m\n",
      "\u001b[34m[11:34:09] src/tree/updater_prune.cc:74: tree pruning end, 1 roots, 14 extra nodes, 2 pruned nodes, max_depth=5\u001b[0m\n",
      "\u001b[34m[165]#011train-error:0.077733#011validation-error:0.1449\u001b[0m\n",
      "\u001b[34m[11:34:11] src/tree/updater_prune.cc:74: tree pruning end, 1 roots, 12 extra nodes, 2 pruned nodes, max_depth=5\u001b[0m\n",
      "\u001b[34m[166]#011train-error:0.0772#011validation-error:0.1454\u001b[0m\n",
      "\u001b[34m[11:34:12] src/tree/updater_prune.cc:74: tree pruning end, 1 roots, 16 extra nodes, 12 pruned nodes, max_depth=5\u001b[0m\n",
      "\u001b[34m[167]#011train-error:0.076733#011validation-error:0.1453\u001b[0m\n",
      "\u001b[34m[11:34:13] src/tree/updater_prune.cc:74: tree pruning end, 1 roots, 18 extra nodes, 6 pruned nodes, max_depth=5\u001b[0m\n",
      "\u001b[34m[168]#011train-error:0.076533#011validation-error:0.1453\u001b[0m\n",
      "\u001b[34m[11:34:14] src/tree/updater_prune.cc:74: tree pruning end, 1 roots, 16 extra nodes, 6 pruned nodes, max_depth=5\u001b[0m\n",
      "\u001b[34m[169]#011train-error:0.076533#011validation-error:0.1443\u001b[0m\n",
      "\u001b[34m[11:34:16] src/tree/updater_prune.cc:74: tree pruning end, 1 roots, 20 extra nodes, 8 pruned nodes, max_depth=5\u001b[0m\n",
      "\u001b[34m[170]#011train-error:0.076133#011validation-error:0.144\u001b[0m\n",
      "\u001b[34m[11:34:17] src/tree/updater_prune.cc:74: tree pruning end, 1 roots, 20 extra nodes, 8 pruned nodes, max_depth=5\u001b[0m\n",
      "\u001b[34m[171]#011train-error:0.076133#011validation-error:0.1442\u001b[0m\n",
      "\u001b[34m[11:34:18] src/tree/updater_prune.cc:74: tree pruning end, 1 roots, 18 extra nodes, 8 pruned nodes, max_depth=5\u001b[0m\n",
      "\u001b[34m[172]#011train-error:0.075867#011validation-error:0.1436\u001b[0m\n",
      "\u001b[34m[11:34:19] src/tree/updater_prune.cc:74: tree pruning end, 1 roots, 12 extra nodes, 12 pruned nodes, max_depth=5\u001b[0m\n",
      "\u001b[34m[173]#011train-error:0.0758#011validation-error:0.1435\u001b[0m\n",
      "\u001b[34m[11:34:21] src/tree/updater_prune.cc:74: tree pruning end, 1 roots, 22 extra nodes, 12 pruned nodes, max_depth=5\u001b[0m\n",
      "\u001b[34m[174]#011train-error:0.075533#011validation-error:0.1429\u001b[0m\n",
      "\u001b[34m[11:34:22] src/tree/updater_prune.cc:74: tree pruning end, 1 roots, 12 extra nodes, 8 pruned nodes, max_depth=5\u001b[0m\n",
      "\u001b[34m[175]#011train-error:0.075333#011validation-error:0.1423\u001b[0m\n",
      "\u001b[34m[11:34:23] src/tree/updater_prune.cc:74: tree pruning end, 1 roots, 20 extra nodes, 14 pruned nodes, max_depth=5\u001b[0m\n",
      "\u001b[34m[176]#011train-error:0.075733#011validation-error:0.1413\u001b[0m\n",
      "\u001b[34m[11:34:24] src/tree/updater_prune.cc:74: tree pruning end, 1 roots, 12 extra nodes, 4 pruned nodes, max_depth=5\u001b[0m\n",
      "\u001b[34m[177]#011train-error:0.0754#011validation-error:0.1413\u001b[0m\n",
      "\u001b[34m[11:34:26] src/tree/updater_prune.cc:74: tree pruning end, 1 roots, 12 extra nodes, 14 pruned nodes, max_depth=5\u001b[0m\n",
      "\u001b[34m[178]#011train-error:0.075133#011validation-error:0.1411\u001b[0m\n",
      "\u001b[34m[11:34:27] src/tree/updater_prune.cc:74: tree pruning end, 1 roots, 16 extra nodes, 8 pruned nodes, max_depth=5\u001b[0m\n",
      "\u001b[34m[179]#011train-error:0.075#011validation-error:0.1411\u001b[0m\n",
      "\u001b[34m[11:34:28] src/tree/updater_prune.cc:74: tree pruning end, 1 roots, 18 extra nodes, 4 pruned nodes, max_depth=5\u001b[0m\n",
      "\u001b[34m[180]#011train-error:0.0748#011validation-error:0.142\u001b[0m\n",
      "\u001b[34m[11:34:29] src/tree/updater_prune.cc:74: tree pruning end, 1 roots, 12 extra nodes, 8 pruned nodes, max_depth=5\u001b[0m\n",
      "\u001b[34m[181]#011train-error:0.074867#011validation-error:0.1423\u001b[0m\n",
      "\u001b[34m[11:34:31] src/tree/updater_prune.cc:74: tree pruning end, 1 roots, 10 extra nodes, 2 pruned nodes, max_depth=5\u001b[0m\n",
      "\u001b[34m[182]#011train-error:0.0744#011validation-error:0.142\u001b[0m\n",
      "\u001b[34m[11:34:32] src/tree/updater_prune.cc:74: tree pruning end, 1 roots, 12 extra nodes, 4 pruned nodes, max_depth=5\u001b[0m\n",
      "\u001b[34m[183]#011train-error:0.074133#011validation-error:0.1417\u001b[0m\n",
      "\u001b[34m[11:34:33] src/tree/updater_prune.cc:74: tree pruning end, 1 roots, 10 extra nodes, 6 pruned nodes, max_depth=5\u001b[0m\n",
      "\u001b[34m[184]#011train-error:0.0742#011validation-error:0.1418\u001b[0m\n",
      "\u001b[34m[11:34:34] src/tree/updater_prune.cc:74: tree pruning end, 1 roots, 12 extra nodes, 4 pruned nodes, max_depth=5\u001b[0m\n",
      "\u001b[34m[185]#011train-error:0.074267#011validation-error:0.1417\u001b[0m\n",
      "\u001b[34m[11:34:36] src/tree/updater_prune.cc:74: tree pruning end, 1 roots, 14 extra nodes, 6 pruned nodes, max_depth=5\u001b[0m\n",
      "\u001b[34m[186]#011train-error:0.073533#011validation-error:0.1416\u001b[0m\n",
      "\u001b[34m[11:34:37] src/tree/updater_prune.cc:74: tree pruning end, 1 roots, 10 extra nodes, 12 pruned nodes, max_depth=5\u001b[0m\n",
      "\u001b[34m[187]#011train-error:0.073467#011validation-error:0.1418\u001b[0m\n"
     ]
    },
    {
     "name": "stdout",
     "output_type": "stream",
     "text": [
      "\u001b[34m[11:34:38] src/tree/updater_prune.cc:74: tree pruning end, 1 roots, 10 extra nodes, 10 pruned nodes, max_depth=5\u001b[0m\n",
      "\u001b[34m[188]#011train-error:0.073333#011validation-error:0.1417\u001b[0m\n",
      "\u001b[34mStopping. Best iteration:\u001b[0m\n",
      "\u001b[34m[178]#011train-error:0.075133#011validation-error:0.1411\n",
      "\u001b[0m\n",
      "\n",
      "2020-05-01 11:35:44 Uploading - Uploading generated training model\n",
      "2020-05-01 11:35:44 Completed - Training job completed\n",
      "Training seconds: 362\n",
      "Billable seconds: 362\n"
     ]
    }
   ],
   "source": [
    "xgb.fit({'train': s3_input_train, 'validation': s3_input_validation})"
   ]
  },
  {
   "cell_type": "markdown",
   "metadata": {},
   "source": [
    "## Step 5: Testing the model\n",
    "\n",
    "Now that we've fit our XGBoost model, it's time to see how well it performs. To do this we will use SageMakers Batch Transform functionality. Batch Transform is a convenient way to perform inference on a large dataset in a way that is not realtime. That is, we don't necessarily need to use our model's results immediately and instead we can perform inference on a large number of samples. An example of this in industry might be performing an end of month report. This method of inference can also be useful to us as it means that we can perform inference on our entire test set. \n",
    "\n",
    "To perform a Batch Transformation we need to first create a transformer objects from our trained estimator object."
   ]
  },
  {
   "cell_type": "code",
   "execution_count": 24,
   "metadata": {},
   "outputs": [],
   "source": [
    "xgb_transformer = xgb.transformer(instance_count = 1, instance_type = 'ml.m4.xlarge')"
   ]
  },
  {
   "cell_type": "markdown",
   "metadata": {},
   "source": [
    "Next we actually perform the transform job. When doing so we need to make sure to specify the type of data we are sending so that it is serialized correctly in the background. In our case we are providing our model with csv data so we specify `text/csv`. Also, if the test data that we have provided is too large to process all at once then we need to specify how the data file should be split up. Since each line is a single entry in our data set we tell SageMaker that it can split the input on each line."
   ]
  },
  {
   "cell_type": "code",
   "execution_count": 25,
   "metadata": {},
   "outputs": [],
   "source": [
    "xgb_transformer.transform(test_location, content_type='text/csv', split_type='Line')"
   ]
  },
  {
   "cell_type": "markdown",
   "metadata": {},
   "source": [
    "Currently the transform job is running but it is doing so in the background. Since we wish to wait until the transform job is done and we would like a bit of feedback we can run the `wait()` method."
   ]
  },
  {
   "cell_type": "code",
   "execution_count": 26,
   "metadata": {},
   "outputs": [
    {
     "name": "stdout",
     "output_type": "stream",
     "text": [
      ".................\u001b[34mArguments: serve\u001b[0m\n",
      "\u001b[34m[2020-05-01 11:39:58 +0000] [1] [INFO] Starting gunicorn 19.7.1\u001b[0m\n",
      "\u001b[34m[2020-05-01 11:39:58 +0000] [1] [INFO] Listening at: http://0.0.0.0:8080 (1)\u001b[0m\n",
      "\u001b[34m[2020-05-01 11:39:58 +0000] [1] [INFO] Using worker: gevent\u001b[0m\n",
      "\u001b[34m[2020-05-01 11:39:58 +0000] [38] [INFO] Booting worker with pid: 38\u001b[0m\n",
      "\u001b[34m[2020-05-01 11:39:58 +0000] [39] [INFO] Booting worker with pid: 39\u001b[0m\n",
      "\u001b[34m[2020-05-01 11:39:58 +0000] [40] [INFO] Booting worker with pid: 40\u001b[0m\n",
      "\u001b[34m[2020-05-01 11:39:58 +0000] [41] [INFO] Booting worker with pid: 41\u001b[0m\n",
      "\u001b[34m[2020-05-01:11:39:58:INFO] Model loaded successfully for worker : 39\u001b[0m\n",
      "\u001b[34m[2020-05-01:11:39:58:INFO] Model loaded successfully for worker : 38\u001b[0m\n",
      "\u001b[34m[2020-05-01:11:39:58:INFO] Model loaded successfully for worker : 40\u001b[0m\n",
      "\u001b[34m[2020-05-01:11:39:58:INFO] Model loaded successfully for worker : 41\u001b[0m\n",
      "\u001b[32m2020-05-01T11:40:27.360:[sagemaker logs]: MaxConcurrentTransforms=4, MaxPayloadInMB=6, BatchStrategy=MULTI_RECORD\u001b[0m\n",
      "\u001b[34m[2020-05-01:11:40:30:INFO] Sniff delimiter as ','\u001b[0m\n",
      "\u001b[34m[2020-05-01:11:40:30:INFO] Determined delimiter of CSV input is ','\u001b[0m\n",
      "\u001b[34m[2020-05-01:11:40:30:INFO] Sniff delimiter as ','\u001b[0m\n",
      "\u001b[34m[2020-05-01:11:40:30:INFO] Determined delimiter of CSV input is ','\u001b[0m\n",
      "\u001b[34m[2020-05-01:11:40:30:INFO] Sniff delimiter as ','\u001b[0m\n",
      "\u001b[34m[2020-05-01:11:40:30:INFO] Determined delimiter of CSV input is ','\u001b[0m\n",
      "\u001b[35m[2020-05-01:11:40:30:INFO] Sniff delimiter as ','\u001b[0m\n",
      "\u001b[35m[2020-05-01:11:40:30:INFO] Determined delimiter of CSV input is ','\u001b[0m\n",
      "\u001b[35m[2020-05-01:11:40:30:INFO] Sniff delimiter as ','\u001b[0m\n",
      "\u001b[35m[2020-05-01:11:40:30:INFO] Determined delimiter of CSV input is ','\u001b[0m\n",
      "\u001b[35m[2020-05-01:11:40:30:INFO] Sniff delimiter as ','\u001b[0m\n",
      "\u001b[35m[2020-05-01:11:40:30:INFO] Determined delimiter of CSV input is ','\u001b[0m\n",
      "\u001b[34m[2020-05-01:11:40:30:INFO] Sniff delimiter as ','\u001b[0m\n",
      "\u001b[34m[2020-05-01:11:40:30:INFO] Determined delimiter of CSV input is ','\u001b[0m\n",
      "\u001b[35m[2020-05-01:11:40:30:INFO] Sniff delimiter as ','\u001b[0m\n",
      "\u001b[35m[2020-05-01:11:40:30:INFO] Determined delimiter of CSV input is ','\u001b[0m\n",
      "\u001b[34m[2020-05-01:11:40:32:INFO] Sniff delimiter as ','\u001b[0m\n",
      "\u001b[34m[2020-05-01:11:40:32:INFO] Determined delimiter of CSV input is ','\u001b[0m\n",
      "\u001b[34m[2020-05-01:11:40:33:INFO] Sniff delimiter as ','\u001b[0m\n",
      "\u001b[34m[2020-05-01:11:40:33:INFO] Determined delimiter of CSV input is ','\u001b[0m\n",
      "\u001b[34m[2020-05-01:11:40:33:INFO] Sniff delimiter as ','\u001b[0m\n",
      "\u001b[34m[2020-05-01:11:40:33:INFO] Determined delimiter of CSV input is ','\u001b[0m\n",
      "\u001b[34m[2020-05-01:11:40:33:INFO] Sniff delimiter as ','\u001b[0m\n",
      "\u001b[35m[2020-05-01:11:40:32:INFO] Sniff delimiter as ','\u001b[0m\n",
      "\u001b[35m[2020-05-01:11:40:32:INFO] Determined delimiter of CSV input is ','\u001b[0m\n",
      "\u001b[35m[2020-05-01:11:40:33:INFO] Sniff delimiter as ','\u001b[0m\n",
      "\u001b[35m[2020-05-01:11:40:33:INFO] Determined delimiter of CSV input is ','\u001b[0m\n",
      "\u001b[35m[2020-05-01:11:40:33:INFO] Sniff delimiter as ','\u001b[0m\n",
      "\u001b[35m[2020-05-01:11:40:33:INFO] Determined delimiter of CSV input is ','\u001b[0m\n",
      "\u001b[35m[2020-05-01:11:40:33:INFO] Sniff delimiter as ','\u001b[0m\n",
      "\u001b[34m[2020-05-01:11:40:33:INFO] Determined delimiter of CSV input is ','\u001b[0m\n",
      "\u001b[35m[2020-05-01:11:40:33:INFO] Determined delimiter of CSV input is ','\u001b[0m\n",
      "\u001b[34m[2020-05-01:11:40:35:INFO] Determined delimiter of CSV input is ','\u001b[0m\n",
      "\u001b[34m[2020-05-01:11:40:35:INFO] Sniff delimiter as ','\u001b[0m\n",
      "\u001b[34m[2020-05-01:11:40:35:INFO] Determined delimiter of CSV input is ','\u001b[0m\n",
      "\u001b[35m[2020-05-01:11:40:35:INFO] Determined delimiter of CSV input is ','\u001b[0m\n",
      "\u001b[35m[2020-05-01:11:40:35:INFO] Sniff delimiter as ','\u001b[0m\n",
      "\u001b[35m[2020-05-01:11:40:35:INFO] Determined delimiter of CSV input is ','\u001b[0m\n",
      "\u001b[34m[2020-05-01:11:40:35:INFO] Sniff delimiter as ','\u001b[0m\n",
      "\u001b[34m[2020-05-01:11:40:35:INFO] Determined delimiter of CSV input is ','\u001b[0m\n",
      "\u001b[34m[2020-05-01:11:40:35:INFO] Sniff delimiter as ','\u001b[0m\n",
      "\u001b[34m[2020-05-01:11:40:35:INFO] Determined delimiter of CSV input is ','\u001b[0m\n",
      "\u001b[35m[2020-05-01:11:40:35:INFO] Sniff delimiter as ','\u001b[0m\n",
      "\u001b[35m[2020-05-01:11:40:35:INFO] Determined delimiter of CSV input is ','\u001b[0m\n",
      "\u001b[35m[2020-05-01:11:40:35:INFO] Sniff delimiter as ','\u001b[0m\n",
      "\u001b[35m[2020-05-01:11:40:35:INFO] Determined delimiter of CSV input is ','\u001b[0m\n",
      "\u001b[34m[2020-05-01:11:40:37:INFO] Sniff delimiter as ','\u001b[0m\n",
      "\u001b[34m[2020-05-01:11:40:37:INFO] Determined delimiter of CSV input is ','\u001b[0m\n",
      "\u001b[35m[2020-05-01:11:40:37:INFO] Sniff delimiter as ','\u001b[0m\n",
      "\u001b[35m[2020-05-01:11:40:37:INFO] Determined delimiter of CSV input is ','\u001b[0m\n",
      "\u001b[34m[2020-05-01:11:40:37:INFO] Sniff delimiter as ','\u001b[0m\n",
      "\u001b[34m[2020-05-01:11:40:37:INFO] Determined delimiter of CSV input is ','\u001b[0m\n",
      "\u001b[34m[2020-05-01:11:40:38:INFO] Sniff delimiter as ','\u001b[0m\n",
      "\u001b[34m[2020-05-01:11:40:38:INFO] Determined delimiter of CSV input is ','\u001b[0m\n",
      "\u001b[34m[2020-05-01:11:40:38:INFO] Sniff delimiter as ','\u001b[0m\n",
      "\u001b[34m[2020-05-01:11:40:38:INFO] Determined delimiter of CSV input is ','\u001b[0m\n",
      "\u001b[35m[2020-05-01:11:40:37:INFO] Sniff delimiter as ','\u001b[0m\n",
      "\u001b[35m[2020-05-01:11:40:37:INFO] Determined delimiter of CSV input is ','\u001b[0m\n",
      "\u001b[35m[2020-05-01:11:40:38:INFO] Sniff delimiter as ','\u001b[0m\n",
      "\u001b[35m[2020-05-01:11:40:38:INFO] Determined delimiter of CSV input is ','\u001b[0m\n",
      "\u001b[35m[2020-05-01:11:40:38:INFO] Sniff delimiter as ','\u001b[0m\n",
      "\u001b[35m[2020-05-01:11:40:38:INFO] Determined delimiter of CSV input is ','\u001b[0m\n",
      "\u001b[34m[2020-05-01:11:40:40:INFO] Sniff delimiter as ','\u001b[0m\n",
      "\u001b[34m[2020-05-01:11:40:40:INFO] Determined delimiter of CSV input is ','\u001b[0m\n",
      "\u001b[34m[2020-05-01:11:40:40:INFO] Sniff delimiter as ','\u001b[0m\n",
      "\u001b[34m[2020-05-01:11:40:40:INFO] Determined delimiter of CSV input is ','\u001b[0m\n",
      "\u001b[34m[2020-05-01:11:40:40:INFO] Sniff delimiter as ','\u001b[0m\n",
      "\u001b[34m[2020-05-01:11:40:40:INFO] Determined delimiter of CSV input is ','\u001b[0m\n",
      "\u001b[34m[2020-05-01:11:40:40:INFO] Sniff delimiter as ','\u001b[0m\n",
      "\u001b[34m[2020-05-01:11:40:40:INFO] Determined delimiter of CSV input is ','\u001b[0m\n",
      "\u001b[35m[2020-05-01:11:40:40:INFO] Sniff delimiter as ','\u001b[0m\n",
      "\u001b[35m[2020-05-01:11:40:40:INFO] Determined delimiter of CSV input is ','\u001b[0m\n",
      "\u001b[35m[2020-05-01:11:40:40:INFO] Sniff delimiter as ','\u001b[0m\n",
      "\u001b[35m[2020-05-01:11:40:40:INFO] Determined delimiter of CSV input is ','\u001b[0m\n",
      "\u001b[35m[2020-05-01:11:40:40:INFO] Sniff delimiter as ','\u001b[0m\n",
      "\u001b[35m[2020-05-01:11:40:40:INFO] Determined delimiter of CSV input is ','\u001b[0m\n",
      "\u001b[35m[2020-05-01:11:40:40:INFO] Sniff delimiter as ','\u001b[0m\n",
      "\u001b[35m[2020-05-01:11:40:40:INFO] Determined delimiter of CSV input is ','\u001b[0m\n",
      "\u001b[34m[2020-05-01:11:40:42:INFO] Sniff delimiter as ','\u001b[0m\n",
      "\u001b[34m[2020-05-01:11:40:42:INFO] Determined delimiter of CSV input is ','\u001b[0m\n",
      "\u001b[34m[2020-05-01:11:40:42:INFO] Sniff delimiter as ','\u001b[0m\n",
      "\u001b[34m[2020-05-01:11:40:42:INFO] Determined delimiter of CSV input is ','\u001b[0m\n",
      "\u001b[35m[2020-05-01:11:40:42:INFO] Sniff delimiter as ','\u001b[0m\n",
      "\u001b[35m[2020-05-01:11:40:42:INFO] Determined delimiter of CSV input is ','\u001b[0m\n",
      "\u001b[35m[2020-05-01:11:40:42:INFO] Sniff delimiter as ','\u001b[0m\n",
      "\u001b[35m[2020-05-01:11:40:42:INFO] Determined delimiter of CSV input is ','\u001b[0m\n",
      "\u001b[34m[2020-05-01:11:40:43:INFO] Sniff delimiter as ','\u001b[0m\n",
      "\u001b[34m[2020-05-01:11:40:43:INFO] Determined delimiter of CSV input is ','\u001b[0m\n",
      "\u001b[34m[2020-05-01:11:40:43:INFO] Sniff delimiter as ','\u001b[0m\n",
      "\u001b[34m[2020-05-01:11:40:43:INFO] Determined delimiter of CSV input is ','\u001b[0m\n",
      "\u001b[35m[2020-05-01:11:40:43:INFO] Sniff delimiter as ','\u001b[0m\n",
      "\u001b[35m[2020-05-01:11:40:43:INFO] Determined delimiter of CSV input is ','\u001b[0m\n",
      "\u001b[35m[2020-05-01:11:40:43:INFO] Sniff delimiter as ','\u001b[0m\n",
      "\u001b[35m[2020-05-01:11:40:43:INFO] Determined delimiter of CSV input is ','\u001b[0m\n",
      "\u001b[34m[2020-05-01:11:40:45:INFO] Sniff delimiter as ','\u001b[0m\n",
      "\u001b[34m[2020-05-01:11:40:45:INFO] Determined delimiter of CSV input is ','\u001b[0m\n",
      "\u001b[34m[2020-05-01:11:40:45:INFO] Sniff delimiter as ','\u001b[0m\n",
      "\u001b[34m[2020-05-01:11:40:45:INFO] Determined delimiter of CSV input is ','\u001b[0m\n",
      "\u001b[35m[2020-05-01:11:40:45:INFO] Sniff delimiter as ','\u001b[0m\n",
      "\u001b[35m[2020-05-01:11:40:45:INFO] Determined delimiter of CSV input is ','\u001b[0m\n",
      "\u001b[35m[2020-05-01:11:40:45:INFO] Sniff delimiter as ','\u001b[0m\n",
      "\u001b[35m[2020-05-01:11:40:45:INFO] Determined delimiter of CSV input is ','\u001b[0m\n",
      "\u001b[34m[2020-05-01:11:40:47:INFO] Sniff delimiter as ','\u001b[0m\n",
      "\u001b[34m[2020-05-01:11:40:47:INFO] Determined delimiter of CSV input is ','\u001b[0m\n",
      "\u001b[34m[2020-05-01:11:40:47:INFO] Sniff delimiter as ','\u001b[0m\n",
      "\u001b[34m[2020-05-01:11:40:47:INFO] Determined delimiter of CSV input is ','\u001b[0m\n",
      "\u001b[35m[2020-05-01:11:40:47:INFO] Sniff delimiter as ','\u001b[0m\n",
      "\u001b[35m[2020-05-01:11:40:47:INFO] Determined delimiter of CSV input is ','\u001b[0m\n",
      "\u001b[35m[2020-05-01:11:40:47:INFO] Sniff delimiter as ','\u001b[0m\n",
      "\u001b[35m[2020-05-01:11:40:47:INFO] Determined delimiter of CSV input is ','\u001b[0m\n",
      "\u001b[34m[2020-05-01:11:40:47:INFO] Sniff delimiter as ','\u001b[0m\n",
      "\u001b[34m[2020-05-01:11:40:47:INFO] Determined delimiter of CSV input is ','\u001b[0m\n",
      "\u001b[34m[2020-05-01:11:40:48:INFO] Sniff delimiter as ','\u001b[0m\n",
      "\u001b[34m[2020-05-01:11:40:48:INFO] Determined delimiter of CSV input is ','\u001b[0m\n",
      "\u001b[35m[2020-05-01:11:40:47:INFO] Sniff delimiter as ','\u001b[0m\n",
      "\u001b[35m[2020-05-01:11:40:47:INFO] Determined delimiter of CSV input is ','\u001b[0m\n",
      "\u001b[35m[2020-05-01:11:40:48:INFO] Sniff delimiter as ','\u001b[0m\n",
      "\u001b[35m[2020-05-01:11:40:48:INFO] Determined delimiter of CSV input is ','\u001b[0m\n",
      "\u001b[34m[2020-05-01:11:40:50:INFO] Sniff delimiter as ','\u001b[0m\n",
      "\u001b[34m[2020-05-01:11:40:50:INFO] Determined delimiter of CSV input is ','\u001b[0m\n",
      "\u001b[34m[2020-05-01:11:40:50:INFO] Sniff delimiter as ','\u001b[0m\n",
      "\u001b[35m[2020-05-01:11:40:50:INFO] Sniff delimiter as ','\u001b[0m\n",
      "\u001b[35m[2020-05-01:11:40:50:INFO] Determined delimiter of CSV input is ','\u001b[0m\n",
      "\u001b[35m[2020-05-01:11:40:50:INFO] Sniff delimiter as ','\u001b[0m\n",
      "\u001b[34m[2020-05-01:11:40:50:INFO] Determined delimiter of CSV input is ','\u001b[0m\n",
      "\u001b[34m[2020-05-01:11:40:50:INFO] Sniff delimiter as ','\u001b[0m\n",
      "\u001b[34m[2020-05-01:11:40:50:INFO] Determined delimiter of CSV input is ','\u001b[0m\n",
      "\u001b[34m[2020-05-01:11:40:50:INFO] Sniff delimiter as ','\u001b[0m\n",
      "\u001b[34m[2020-05-01:11:40:50:INFO] Determined delimiter of CSV input is ','\u001b[0m\n",
      "\u001b[35m[2020-05-01:11:40:50:INFO] Determined delimiter of CSV input is ','\u001b[0m\n",
      "\u001b[35m[2020-05-01:11:40:50:INFO] Sniff delimiter as ','\u001b[0m\n",
      "\u001b[35m[2020-05-01:11:40:50:INFO] Determined delimiter of CSV input is ','\u001b[0m\n",
      "\u001b[35m[2020-05-01:11:40:50:INFO] Sniff delimiter as ','\u001b[0m\n",
      "\u001b[35m[2020-05-01:11:40:50:INFO] Determined delimiter of CSV input is ','\u001b[0m\n",
      "\u001b[34m[2020-05-01:11:40:52:INFO] Sniff delimiter as ','\u001b[0m\n",
      "\u001b[35m[2020-05-01:11:40:52:INFO] Sniff delimiter as ','\u001b[0m\n",
      "\u001b[34m[2020-05-01:11:40:52:INFO] Determined delimiter of CSV input is ','\u001b[0m\n",
      "\u001b[34m[2020-05-01:11:40:52:INFO] Sniff delimiter as ','\u001b[0m\n",
      "\u001b[34m[2020-05-01:11:40:52:INFO] Determined delimiter of CSV input is ','\u001b[0m\n",
      "\u001b[34m[2020-05-01:11:40:52:INFO] Sniff delimiter as ','\u001b[0m\n",
      "\u001b[34m[2020-05-01:11:40:52:INFO] Determined delimiter of CSV input is ','\u001b[0m\n",
      "\u001b[34m[2020-05-01:11:40:52:INFO] Sniff delimiter as ','\u001b[0m\n",
      "\u001b[34m[2020-05-01:11:40:52:INFO] Determined delimiter of CSV input is ','\u001b[0m\n",
      "\u001b[35m[2020-05-01:11:40:52:INFO] Determined delimiter of CSV input is ','\u001b[0m\n",
      "\u001b[35m[2020-05-01:11:40:52:INFO] Sniff delimiter as ','\u001b[0m\n",
      "\u001b[35m[2020-05-01:11:40:52:INFO] Determined delimiter of CSV input is ','\u001b[0m\n",
      "\u001b[35m[2020-05-01:11:40:52:INFO] Sniff delimiter as ','\u001b[0m\n",
      "\u001b[35m[2020-05-01:11:40:52:INFO] Determined delimiter of CSV input is ','\u001b[0m\n",
      "\u001b[35m[2020-05-01:11:40:52:INFO] Sniff delimiter as ','\u001b[0m\n",
      "\u001b[35m[2020-05-01:11:40:52:INFO] Determined delimiter of CSV input is ','\u001b[0m\n"
     ]
    },
    {
     "name": "stdout",
     "output_type": "stream",
     "text": [
      "\n"
     ]
    }
   ],
   "source": [
    "xgb_transformer.wait()"
   ]
  },
  {
   "cell_type": "markdown",
   "metadata": {},
   "source": [
    "Now the transform job has executed and the result, the estimated sentiment of each review, has been saved on S3. Since we would rather work on this file locally we can perform a bit of notebook magic to copy the file to the `data_dir`."
   ]
  },
  {
   "cell_type": "code",
   "execution_count": 27,
   "metadata": {},
   "outputs": [
    {
     "name": "stdout",
     "output_type": "stream",
     "text": [
      "Completed 256.0 KiB/370.6 KiB (2.8 MiB/s) with 1 file(s) remaining\r",
      "Completed 370.6 KiB/370.6 KiB (3.9 MiB/s) with 1 file(s) remaining\r",
      "download: s3://sagemaker-us-east-2-845046441616/xgboost-2020-05-01-11-37-02-245/test.csv.out to ../data/sentiment_web_app/test.csv.out\r\n"
     ]
    }
   ],
   "source": [
    "!aws s3 cp --recursive $xgb_transformer.output_path $data_dir"
   ]
  },
  {
   "cell_type": "markdown",
   "metadata": {},
   "source": [
    "The last step is now to read in the output from our model, convert the output to something a little more usable, in this case we want the sentiment to be either `1` (positive) or `0` (negative), and then compare to the ground truth labels."
   ]
  },
  {
   "cell_type": "code",
   "execution_count": 28,
   "metadata": {},
   "outputs": [],
   "source": [
    "predictions = pd.read_csv(os.path.join(data_dir, 'test.csv.out'), header=None)\n",
    "predictions = [round(num) for num in predictions.squeeze().values]"
   ]
  },
  {
   "cell_type": "code",
   "execution_count": 29,
   "metadata": {},
   "outputs": [
    {
     "data": {
      "text/plain": [
       "0.86308"
      ]
     },
     "execution_count": 29,
     "metadata": {},
     "output_type": "execute_result"
    }
   ],
   "source": [
    "from sklearn.metrics import accuracy_score\n",
    "accuracy_score(test_y, predictions)"
   ]
  },
  {
   "cell_type": "markdown",
   "metadata": {},
   "source": [
    "## Step 6: Deploying the model\n",
    "\n",
    "Once we construct and fit our model, SageMaker stores the resulting model artifacts and we can use those to deploy an endpoint (inference code). To see this, look in the SageMaker console and you should see that a model has been created along with a link to the S3 location where the model artifacts have been stored.\n",
    "\n",
    "Deploying an endpoint is a lot like training the model with a few important differences. The first is that a deployed model doesn't change the model artifacts, so as you send it various testing instances the model won't change. Another difference is that since we aren't performing a fixed computation, as we were in the training step or while performing a batch transform, the compute instance that gets started stays running until we tell it to stop. This is important to note as if we forget and leave it running we will be charged the entire time.\n",
    "\n",
    "In other words **If you are no longer using a deployed endpoint, shut it down!**"
   ]
  },
  {
   "cell_type": "code",
   "execution_count": 30,
   "metadata": {},
   "outputs": [
    {
     "name": "stderr",
     "output_type": "stream",
     "text": [
      "WARNING:sagemaker:Using already existing model: xgboost-2020-05-01-11-27-39-813\n"
     ]
    },
    {
     "name": "stdout",
     "output_type": "stream",
     "text": [
      "-----------!"
     ]
    }
   ],
   "source": [
    "xgb_predictor = xgb.deploy(initial_instance_count = 1, instance_type = 'ml.m4.xlarge')"
   ]
  },
  {
   "cell_type": "markdown",
   "metadata": {},
   "source": [
    "### Testing the model (again)\n",
    "\n",
    "Now that we have deployed our endpoint, we can send the testing data to it and get back the inference results. We already did this earlier using the batch transform functionality of SageMaker, however, we will test our model again using the newly deployed endpoint so that we can make sure that it works properly and to get a bit of a feel for how the endpoint works.\n",
    "\n",
    "When using the created endpoint it is important to know that we are limited in the amount of information we can send in each call so we need to break the testing data up into chunks and then send each chunk. Also, we need to serialize our data before we send it to the endpoint to ensure that our data is transmitted properly. Fortunately, SageMaker can do the serialization part for us provided we tell it the format of our data."
   ]
  },
  {
   "cell_type": "code",
   "execution_count": 31,
   "metadata": {},
   "outputs": [],
   "source": [
    "from sagemaker.predictor import csv_serializer\n",
    "\n",
    "# We need to tell the endpoint what format the data we are sending is in so that SageMaker can perform the serialization.\n",
    "xgb_predictor.content_type = 'text/csv'\n",
    "xgb_predictor.serializer = csv_serializer"
   ]
  },
  {
   "cell_type": "code",
   "execution_count": 32,
   "metadata": {},
   "outputs": [],
   "source": [
    "# We split the data into chunks and send each chunk seperately, accumulating the results.\n",
    "\n",
    "def predict(data, rows=512):\n",
    "    split_array = np.array_split(data, int(data.shape[0] / float(rows) + 1))\n",
    "    predictions = ''\n",
    "    for array in split_array:\n",
    "        predictions = ','.join([predictions, xgb_predictor.predict(array).decode('utf-8')])\n",
    "    \n",
    "    return np.fromstring(predictions[1:], sep=',')"
   ]
  },
  {
   "cell_type": "code",
   "execution_count": 33,
   "metadata": {},
   "outputs": [],
   "source": [
    "test_X = pd.read_csv(os.path.join(data_dir, 'test.csv'), header=None).values\n",
    "\n",
    "predictions = predict(test_X)\n",
    "predictions = [round(num) for num in predictions]"
   ]
  },
  {
   "cell_type": "markdown",
   "metadata": {},
   "source": [
    "Lastly, we check to see what the accuracy of our model is."
   ]
  },
  {
   "cell_type": "code",
   "execution_count": 34,
   "metadata": {},
   "outputs": [
    {
     "data": {
      "text/plain": [
       "0.86308"
      ]
     },
     "execution_count": 34,
     "metadata": {},
     "output_type": "execute_result"
    }
   ],
   "source": [
    "from sklearn.metrics import accuracy_score\n",
    "accuracy_score(test_y, predictions)"
   ]
  },
  {
   "cell_type": "markdown",
   "metadata": {},
   "source": [
    "And the results here should agree with the model testing that we did earlier using the batch transform job.\n",
    "\n",
    "### Cleaning up\n",
    "\n",
    "Now that we've determined that deploying our model works as expected, we are going to shut it down. Remember that the longer the endpoint is left running, the greater the cost and since we have a bit more work to do before we are able to use our endpoint with our simple web app, we should shut everything down."
   ]
  },
  {
   "cell_type": "code",
   "execution_count": 35,
   "metadata": {},
   "outputs": [],
   "source": [
    "xgb_predictor.delete_endpoint()"
   ]
  },
  {
   "cell_type": "markdown",
   "metadata": {},
   "source": [
    "## Step 7: Putting our model to work\n",
    "\n",
    "As we've mentioned a few times now, our goal is to have our model deployed and then access it using a very simple web app. The intent is for this web app to take some user submitted data (a review), send it off to our endpoint (the model) and then display the result.\n",
    "\n",
    "However, there is a small catch. Currently the only way we can access the endpoint to send it data is using the SageMaker API. We can, if we wish, expose the actual URL that our model's endpoint is receiving data from, however, if we just send it data ourselves we will not get anything in return. This is because the endpoint created by SageMaker requires the entity accessing it have the correct permissions. So, we would need to somehow authenticate our web app with AWS.\n",
    "\n",
    "Having a website that authenticates to AWS seems a bit beyond the scope of this lesson so we will opt for an alternative approach. Namely, we will create a new endpoint which does not require authentication and which acts as a proxy for the SageMaker endpoint.\n",
    "\n",
    "As an additional constraint, we will try to avoid doing any data processing in the web app itself. Remember that when we constructed and tested our model we started with a movie review, then we simplified it by removing any html formatting and punctuation, then we constructed a bag of words embedding and the resulting vector is what we sent to our model. All of this needs to be done to our user input as well.\n",
    "\n",
    "Fortunately we can do all of this data processing in the backend, using Amazon's Lambda service.\n",
    "\n",
    "<img src=\"Web App Diagram.svg\">\n",
    "\n",
    "The diagram above gives an overview of how the various services will work together. On the far right is the model which we trained above and which will be deployed using SageMaker. On the far left is our web app that collects a user's movie review, sends it off and expects a positive or negative sentiment in return.\n",
    "\n",
    "In the middle is where some of the magic happens. We will construct a Lambda function, which you can think of as a straightforward Python function that can be executed whenever a specified event occurs. This Python function will do the data processing we need to perform on a user submitted review. In addition, we will give this function permission to send and recieve data from a SageMaker endpoint.\n",
    "\n",
    "Lastly, the method we will use to execute the Lambda function is a new endpoint that we will create using API Gateway. This endpoint will be a url that listens for data to be sent to it. Once it gets some data it will pass that data on to the Lambda function and then return whatever the Lambda function returns. Essentially it will act as an interface that lets our web app communicate with the Lambda function.\n",
    "\n",
    "### Processing a single review\n",
    "\n",
    "For now, suppose we are given a movie review by our user in the form of a string, like so:"
   ]
  },
  {
   "cell_type": "code",
   "execution_count": 36,
   "metadata": {},
   "outputs": [],
   "source": [
    "test_review = \"Nothing but a disgusting materialistic pageant of glistening abed remote control greed zombies, totally devoid of any heart or heat. A romantic comedy that has zero romantic chemestry and zero laughs!\""
   ]
  },
  {
   "cell_type": "markdown",
   "metadata": {},
   "source": [
    "How do we go from this string to the bag of words feature vector that is expected by our model?\n",
    "\n",
    "If we recall at the beginning of this notebook, the first step is to remove any unnecessary characters using the `review_to_words` method. Remember that we intentionally did this in a very simplistic way. This is because we are going to have to copy this method to our (eventual) Lambda function (we will go into more detail later) and this means it needs to be rather simplistic."
   ]
  },
  {
   "cell_type": "code",
   "execution_count": 37,
   "metadata": {},
   "outputs": [
    {
     "name": "stdout",
     "output_type": "stream",
     "text": [
      "nothing but a disgusting materialistic pageant of glistening abed remote control greed zombies totally devoid of any heart or heat a romantic comedy that has zero romantic chemestry and zero laughs\n"
     ]
    }
   ],
   "source": [
    "test_words = review_to_words(test_review)\n",
    "print(test_words)"
   ]
  },
  {
   "cell_type": "markdown",
   "metadata": {},
   "source": [
    "Next, we need to construct a bag of words embedding of the `test_words` string. To do this, remember that a bag of words embedding uses a `vocabulary` consisting of the most frequently appearing words in a set of documents. Then, for each word in the vocabulary we record the number of times that word appears in `test_words`. We constructed the `vocabulary` earlier using the training set for our problem so encoding `test_words` is relatively straightforward."
   ]
  },
  {
   "cell_type": "code",
   "execution_count": 38,
   "metadata": {},
   "outputs": [],
   "source": [
    "def bow_encoding(words, vocabulary):\n",
    "    bow = [0] * len(vocabulary) # Start by setting the count for each word in the vocabulary to zero.\n",
    "    for word in words.split():  # For each word in the string\n",
    "        if word in vocabulary:  # If the word is one that occurs in the vocabulary, increase its count.\n",
    "            bow[vocabulary[word]] += 1\n",
    "    return bow"
   ]
  },
  {
   "cell_type": "code",
   "execution_count": 39,
   "metadata": {},
   "outputs": [
    {
     "name": "stdout",
     "output_type": "stream",
     "text": [
      "[0, 0, 0, 0, 0, 0, 0, 0, 0, 0, 0, 0, 0, 0, 0, 0, 0, 0, 0, 0, 0, 0, 0, 0, 0, 0, 0, 0, 0, 0, 0, 0, 0, 0, 0, 0, 0, 0, 0, 0, 0, 0, 0, 0, 0, 0, 0, 0, 0, 0, 0, 0, 0, 0, 0, 0, 0, 0, 0, 0, 0, 0, 0, 0, 0, 0, 0, 0, 0, 0, 0, 0, 0, 0, 0, 0, 0, 0, 0, 0, 0, 0, 0, 0, 0, 0, 0, 0, 0, 0, 0, 0, 0, 0, 0, 0, 0, 0, 0, 0, 0, 0, 0, 0, 0, 0, 0, 0, 0, 0, 0, 0, 0, 0, 0, 0, 0, 0, 0, 0, 0, 0, 0, 0, 0, 0, 0, 0, 0, 0, 0, 0, 0, 0, 0, 0, 0, 0, 0, 0, 0, 0, 0, 0, 0, 0, 0, 0, 0, 0, 0, 0, 0, 0, 0, 0, 0, 0, 0, 0, 0, 0, 0, 0, 0, 0, 0, 0, 0, 0, 0, 0, 0, 0, 0, 0, 0, 0, 0, 0, 0, 0, 0, 0, 0, 0, 0, 0, 0, 0, 0, 0, 0, 0, 0, 0, 0, 0, 0, 0, 0, 0, 0, 0, 0, 0, 0, 0, 0, 0, 0, 0, 0, 0, 0, 0, 0, 0, 0, 0, 0, 0, 0, 0, 0, 0, 1, 0, 0, 0, 0, 0, 0, 0, 0, 0, 0, 0, 0, 0, 0, 0, 0, 0, 0, 0, 0, 0, 0, 0, 0, 0, 0, 0, 0, 0, 1, 0, 0, 0, 0, 0, 0, 0, 0, 0, 0, 0, 0, 0, 0, 0, 0, 0, 0, 0, 0, 0, 0, 0, 0, 0, 0, 0, 0, 0, 0, 0, 0, 0, 0, 0, 0, 0, 0, 0, 0, 0, 0, 0, 0, 0, 0, 0, 0, 0, 0, 0, 0, 0, 0, 0, 0, 0, 0, 0, 0, 0, 0, 0, 0, 0, 0, 0, 0, 0, 0, 0, 0, 0, 0, 0, 0, 0, 0, 0, 0, 0, 0, 0, 0, 0, 0, 0, 0, 0, 0, 0, 0, 0, 0, 0, 0, 0, 0, 0, 0, 0, 0, 0, 0, 0, 0, 0, 0, 0, 0, 0, 0, 0, 0, 0, 0, 0, 0, 0, 0, 0, 0, 0, 0, 0, 0, 0, 0, 0, 0, 0, 0, 0, 0, 0, 0, 0, 0, 0, 0, 0, 0, 0, 0, 0, 0, 0, 0, 0, 0, 0, 0, 0, 0, 0, 0, 0, 0, 0, 0, 0, 0, 0, 0, 0, 0, 0, 0, 0, 0, 0, 0, 0, 0, 0, 0, 0, 0, 0, 0, 0, 0, 0, 0, 0, 0, 0, 0, 0, 0, 0, 0, 0, 0, 0, 0, 0, 0, 0, 0, 0, 0, 0, 0, 0, 0, 0, 0, 0, 0, 0, 0, 0, 0, 0, 0, 0, 0, 0, 0, 0, 0, 0, 0, 0, 0, 0, 0, 0, 0, 0, 0, 0, 0, 0, 0, 0, 0, 0, 0, 0, 0, 0, 0, 0, 0, 0, 0, 0, 0, 0, 0, 0, 0, 0, 0, 0, 0, 0, 0, 0, 0, 0, 0, 0, 0, 0, 0, 0, 0, 0, 0, 0, 0, 0, 0, 0, 0, 0, 0, 0, 0, 0, 0, 0, 0, 0, 0, 0, 0, 0, 0, 0, 0, 0, 0, 0, 0, 0, 0, 0, 0, 0, 0, 0, 0, 0, 0, 0, 0, 0, 0, 0, 0, 0, 0, 0, 0, 0, 0, 0, 0, 0, 0, 0, 0, 0, 0, 0, 0, 0, 0, 0, 0, 0, 0, 0, 0, 0, 0, 0, 0, 0, 0, 0, 0, 0, 0, 0, 0, 0, 0, 0, 0, 0, 0, 0, 0, 0, 0, 0, 0, 0, 0, 0, 0, 0, 0, 0, 0, 0, 0, 0, 0, 0, 0, 0, 0, 0, 1, 0, 0, 0, 0, 0, 0, 0, 0, 0, 0, 0, 0, 0, 0, 0, 0, 0, 0, 0, 0, 0, 0, 0, 0, 0, 0, 0, 0, 0, 0, 0, 0, 0, 0, 0, 0, 0, 0, 0, 0, 0, 0, 0, 0, 0, 0, 0, 0, 0, 0, 0, 0, 0, 0, 0, 0, 0, 0, 0, 0, 0, 0, 0, 0, 0, 0, 0, 0, 0, 0, 0, 0, 0, 0, 0, 0, 0, 0, 0, 0, 0, 0, 0, 0, 0, 0, 0, 0, 0, 0, 0, 0, 0, 0, 0, 0, 0, 0, 0, 0, 0, 0, 0, 0, 0, 0, 0, 0, 0, 0, 0, 0, 0, 0, 0, 0, 0, 0, 0, 0, 0, 0, 0, 0, 0, 0, 0, 0, 0, 0, 0, 0, 0, 0, 0, 0, 0, 0, 0, 0, 0, 0, 0, 0, 0, 0, 0, 0, 0, 0, 0, 0, 0, 0, 0, 0, 0, 0, 0, 0, 0, 0, 0, 0, 0, 0, 0, 0, 0, 0, 0, 0, 0, 0, 0, 0, 0, 0, 0, 0, 0, 0, 0, 0, 0, 0, 0, 0, 0, 0, 0, 0, 0, 0, 0, 0, 0, 0, 0, 0, 0, 0, 0, 0, 0, 0, 0, 0, 0, 0, 0, 0, 0, 0, 0, 0, 0, 0, 0, 0, 0, 0, 0, 0, 0, 0, 0, 0, 0, 0, 0, 0, 0, 0, 0, 0, 0, 0, 0, 0, 0, 0, 0, 0, 0, 0, 0, 0, 0, 0, 0, 0, 0, 1, 0, 0, 0, 0, 0, 0, 0, 0, 0, 0, 0, 0, 0, 0, 0, 0, 0, 0, 0, 0, 0, 0, 0, 0, 0, 0, 0, 0, 0, 0, 0, 0, 0, 0, 0, 0, 0, 0, 0, 0, 0, 0, 0, 0, 0, 0, 0, 0, 0, 0, 0, 0, 0, 0, 0, 0, 0, 0, 0, 0, 0, 0, 0, 0, 0, 0, 0, 0, 0, 0, 0, 0, 0, 0, 0, 0, 0, 0, 0, 0, 0, 0, 0, 0, 0, 0, 1, 0, 0, 0, 0, 0, 0, 0, 0, 0, 0, 0, 0, 0, 0, 0, 0, 0, 0, 0, 0, 0, 0, 0, 0, 0, 0, 0, 0, 0, 0, 0, 0, 0, 0, 0, 0, 0, 0, 0, 0, 0, 0, 0, 0, 0, 0, 0, 0, 0, 0, 0, 0, 0, 0, 0, 0, 0, 0, 0, 0, 0, 0, 0, 0, 0, 0, 0, 0, 0, 0, 0, 0, 0, 0, 0, 0, 0, 0, 0, 0, 0, 0, 0, 0, 0, 0, 0, 0, 0, 0, 0, 0, 0, 0, 0, 0, 0, 0, 0, 0, 0, 0, 0, 0, 0, 0, 0, 0, 0, 0, 0, 0, 0, 0, 0, 0, 0, 0, 0, 0, 0, 0, 0, 0, 0, 0, 0, 0, 0, 0, 0, 0, 0, 0, 0, 0, 0, 0, 0, 0, 0, 0, 0, 0, 0, 0, 0, 0, 0, 0, 0, 0, 0, 0, 0, 0, 0, 0, 0, 0, 0, 0, 0, 0, 0, 0, 0, 0, 0, 0, 0, 0, 0, 0, 0, 0, 0, 0, 0, 0, 0, 0, 0, 0, 0, 0, 0, 0, 0, 0, 0, 0, 0, 0, 0, 0, 0, 0, 0, 0, 0, 0, 0, 0, 0, 0, 0, 0, 0, 0, 0, 0, 0, 0, 0, 0, 0, 0, 0, 0, 0, 0, 0, 0, 0, 0, 0, 0, 0, 0, 0, 0, 0, 0, 0, 0, 0, 0, 0, 0, 0, 0, 0, 0, 0, 0, 0, 0, 0, 0, 0, 0, 1, 0, 0, 0, 0, 0, 0, 0, 0, 0, 0, 0, 0, 0, 0, 0, 0, 0, 0, 0, 0, 0, 0, 0, 0, 0, 0, 0, 0, 0, 0, 0, 0, 0, 0, 0, 0, 0, 0, 0, 0, 0, 0, 0, 0, 0, 0, 0, 0, 0, 0, 0, 0, 0, 0, 0, 1, 0, 0, 0, 0, 0, 0, 0, 0, 0, 0, 0, 0, 0, 0, 0, 0, 0, 0, 0, 0, 0, 0, 0, 0, 0, 0, 0, 0, 0, 0, 0, 0, 0, 0, 0, 0, 0, 0, 0, 0, 0, 0, 0, 0, 0, 0, 0, 0, 0, 0, 0, 0, 0, 0, 0, 0, 0, 0, 0, 0, 0, 0, 0, 0, 0, 0, 0, 0, 0, 0, 0, 0, 0, 0, 0, 0, 0, 0, 0, 0, 0, 0, 0, 0, 0, 0, 0, 0, 0, 0, 0, 0, 0, 0, 0, 0, 0, 0, 0, 0, 0, 0, 0, 0, 0, 0, 0, 0, 0, 0, 0, 0, 0, 0, 0, 0, 0, 0, 0, 0, 0, 0, 0, 0, 0, 0, 0, 0, 0, 0, 0, 0, 0, 0, 0, 0, 0, 0, 0, 0, 0, 0, 0, 0, 0, 0, 0, 0, 0, 0, 0, 0, 0, 0, 0, 0, 0, 0, 0, 0, 0, 0, 0, 0, 0, 0, 0, 0, 0, 0, 0, 0, 0, 0, 0, 0, 0, 0, 0, 0, 0, 0, 0, 0, 0, 0, 0, 0, 0, 0, 0, 0, 0, 0, 0, 0, 0, 0, 0, 0, 0, 0, 0, 0, 0, 0, 0, 0, 0, 0, 0, 0, 0, 0, 0, 0, 0, 0, 0, 0, 0, 0, 0, 0, 0, 0, 0, 0, 0, 0, 0, 0, 0, 0, 0, 0, 0, 0, 0, 0, 0, 0, 0, 0, 0, 0, 0, 0, 0, 0, 0, 0, 0, 0, 0, 0, 0, 0, 0, 0, 0, 0, 0, 0, 0, 0, 0, 0, 0, 0, 0, 0, 0, 0, 0, 0, 0, 0, 0, 0, 0, 0, 0, 0, 0, 0, 0, 0, 0, 0, 0, 0, 0, 0, 0, 0, 0, 0, 0, 0, 0, 0, 0, 0, 0, 0, 0, 0, 0, 0, 0, 0, 0, 0, 0, 0, 0, 0, 0, 0, 0, 0, 0, 0, 0, 0, 0, 0, 0, 0, 0, 0, 0, 0, 0, 0, 0, 0, 0, 0, 0, 0, 0, 0, 0, 0, 0, 0, 0, 0, 0, 0, 0, 0, 0, 0, 0, 0, 0, 0, 0, 0, 0, 0, 0, 0, 0, 0, 0, 0, 0, 0, 0, 0, 0, 0, 0, 0, 0, 0, 0, 0, 0, 0, 0, 0, 0, 0, 0, 0, 0, 0, 0, 0, 0, 0, 0, 0, 0, 0, 0, 0, 0, 0, 0, 0, 0, 0, 0, 0, 0, 0, 0, 0, 0, 0, 0, 0, 0, 0, 0, 0, 0, 0, 0, 0, 0, 0, 0, 0, 0, 0, 0, 0, 0, 0, 0, 0, 0, 0, 0, 0, 0, 0, 0, 0, 0, 0, 0, 0, 0, 0, 0, 0, 0, 0, 0, 0, 0, 0, 0, 0, 0, 0, 0, 0, 0, 0, 0, 0, 0, 0, 0, 0, 0, 0, 0, 0, 0, 0, 0, 0, 0, 0, 0, 0, 0, 0, 0, 0, 0, 0, 0, 0, 0, 0, 0, 0, 0, 0, 0, 0, 0, 0, 0, 0, 0, 0, 0, 0, 0, 0, 0, 0, 0, 0, 0, 0, 0, 0, 0, 0, 0, 0, 0, 0, 0, 0, 0, 0, 0, 0, 0, 0, 0, 0, 0, 0, 0, 0, 0, 0, 0, 0, 0, 0, 0, 0, 0, 0, 0, 0, 0, 0, 0, 0, 0, 0, 0, 0, 0, 0, 0, 0, 0, 0, 0, 0, 0, 0, 0, 0, 0, 0, 0, 0, 0, 0, 0, 0, 0, 0, 0, 0, 0, 0, 0, 0, 0, 0, 0, 0, 0, 0, 0, 0, 0, 0, 0, 0, 0, 0, 0, 0, 0, 0, 0, 0, 0, 0, 0, 0, 0, 0, 0, 0, 0, 0, 0, 0, 0, 0, 0, 0, 0, 0, 0, 0, 0, 0, 0, 0, 0, 0, 0, 0, 0, 0, 0, 0, 0, 0, 0, 0, 0, 0, 0, 0, 0, 0, 0, 0, 0, 0, 0, 0, 0, 0, 0, 0, 0, 0, 0, 0, 0, 0, 0, 0, 0, 0, 0, 0, 0, 0, 0, 0, 0, 0, 0, 0, 0, 1, 0, 0, 0, 0, 0, 0, 0, 0, 0, 0, 0, 0, 0, 0, 0, 0, 0, 0, 0, 0, 0, 0, 0, 0, 0, 0, 0, 0, 0, 0, 0, 0, 0, 0, 0, 0, 0, 0, 0, 0, 0, 0, 0, 0, 0, 0, 0, 0, 0, 0, 0, 0, 0, 0, 0, 0, 0, 0, 0, 0, 0, 0, 0, 0, 0, 0, 0, 0, 0, 0, 0, 0, 0, 0, 1, 0, 0, 0, 0, 0, 0, 0, 0, 0, 0, 0, 0, 0, 0, 0, 0, 0, 0, 0, 0, 1, 0, 0, 1, 0, 0, 0, 0, 0, 0, 0, 0, 0, 0, 0, 0, 0, 0, 0, 0, 0, 0, 0, 0, 0, 0, 0, 0, 0, 0, 0, 0, 0, 0, 0, 0, 0, 0, 0, 0, 0, 0, 0, 0, 0, 0, 0, 0, 0, 0, 0, 0, 0, 0, 0, 0, 0, 0, 0, 0, 0, 0, 0, 0, 0, 0, 0, 0, 0, 0, 0, 0, 0, 0, 0, 0, 0, 0, 0, 0, 0, 0, 0, 0, 0, 0, 0, 0, 0, 0, 0, 0, 0, 0, 0, 0, 0, 0, 0, 0, 0, 0, 0, 0, 0, 0, 0, 0, 0, 0, 0, 0, 0, 0, 0, 0, 0, 0, 0, 0, 0, 0, 0, 0, 0, 0, 0, 0, 0, 0, 0, 0, 0, 0, 0, 0, 0, 0, 0, 0, 0, 0, 0, 0, 0, 0, 0, 0, 0, 0, 0, 0, 0, 0, 0, 0, 0, 0, 0, 0, 0, 0, 0, 0, 0, 0, 0, 0, 0, 0, 0, 0, 0, 0, 0, 0, 0, 0, 0, 0, 0, 0, 0, 0, 0, 0, 0, 0, 0, 0, 0, 0, 0, 0, 0, 0, 0, 0, 0, 0, 0, 0, 0, 0, 0, 0, 0, 0, 0, 0, 0, 0, 0, 0, 0, 0, 0, 0, 0, 0, 0, 0, 0, 0, 0, 0, 0, 0, 0, 0, 0, 0, 0, 0, 0, 0, 0, 0, 0, 0, 0, 0, 0, 0, 0, 0, 0, 0, 0, 0, 0, 0, 0, 0, 0, 0, 0, 0, 0, 0, 0, 0, 0, 0, 0, 0, 0, 0, 0, 0, 0, 0, 0, 0, 0, 0, 0, 0, 0, 0, 0, 0, 0, 0, 0, 0, 0, 0, 0, 0, 0, 0, 0, 0, 0, 0, 0, 0, 0, 0, 0, 0, 0, 0, 0, 0, 0, 0, 0, 0, 0, 0, 0, 0, 0, 0, 0, 0, 0, 0, 0, 0, 0, 0, 0, 0, 0, 0, 0, 0, 0, 0, 0, 0, 0, 0, 0, 0, 0, 0, 0, 0, 0, 0, 0, 0, 0, 0, 0, 0, 0, 0, 0, 0, 0, 0, 0, 0, 0, 0, 0, 0, 0, 0, 0, 0, 0, 0, 0, 0, 0, 0, 0, 0, 0, 0, 0, 0, 0, 0, 0, 0, 0, 0, 0, 0, 0, 0, 0, 0, 0, 0, 0, 0, 0, 0, 0, 0, 0, 0, 0, 0, 0, 0, 0, 0, 0, 0, 0, 0, 0, 0, 0, 0, 0, 0, 0, 0, 0, 0, 0, 0, 0, 0, 0, 0, 0, 0, 0, 0, 0, 0, 0, 0, 0, 0, 0, 0, 0, 0, 0, 0, 0, 0, 0, 0, 0, 0, 0, 0, 0, 0, 0, 0, 0, 0, 0, 0, 0, 0, 0, 0, 0, 0, 0, 0, 0, 0, 0, 0, 1, 0, 0, 0, 0, 0, 0, 0, 0, 0, 0, 0, 0, 0, 0, 0, 0, 0, 0, 0, 0, 0, 0, 0, 0, 0, 0, 0, 0, 0, 0, 0, 0, 0, 0, 0, 0, 0, 0, 0, 0, 0, 0, 0, 0, 0, 0, 0, 0, 0, 0, 0, 0, 0, 0, 0, 0, 0, 0, 0, 0, 0, 0, 0, 0, 0, 0, 0, 0, 0, 0, 0, 0, 0, 0, 0, 0, 0, 0, 0, 0, 0, 0, 0, 0, 0, 0, 0, 0, 0, 0, 0, 0, 0, 0, 0, 0, 0, 0, 0, 0, 0, 0, 0, 0, 0, 0, 0, 0, 0, 0, 0, 0, 0, 0, 0, 0, 0, 0, 0, 0, 0, 0, 0, 0, 0, 0, 0, 0, 0, 0, 0, 0, 0, 0, 0, 0, 0, 0, 0, 0, 0, 0, 0, 0, 0, 0, 0, 0, 0, 0, 0, 0, 0, 0, 0, 0, 0, 0, 0, 0, 0, 0, 0, 0, 0, 0, 0, 0, 0, 0, 0, 0, 0, 0, 0, 0, 0, 0, 0, 0, 0, 0, 0, 0, 0, 0, 0, 0, 0, 0, 0, 0, 0, 0, 0, 0, 0, 0, 0, 0, 0, 0, 0, 0, 0, 0, 0, 0, 0, 0, 0, 0, 0, 0, 0, 0, 0, 0, 0, 0, 0, 0, 0, 0, 0, 0, 0, 0, 0, 0, 0, 0, 0, 0, 0, 0, 0, 0, 0, 0, 0, 0, 0, 0, 0, 0, 0, 0, 0, 0, 0, 0, 0, 0, 0, 0, 0, 0, 0, 0, 0, 0, 0, 0, 0, 0, 0, 0, 0, 0, 0, 0, 0, 0, 0, 0, 0, 0, 0, 0, 0, 0, 0, 0, 0, 0, 0, 0, 0, 0, 0, 0, 0, 0, 0, 0, 0, 0, 0, 0, 0, 0, 0, 0, 0, 0, 0, 0, 0, 0, 0, 0, 0, 0, 0, 0, 0, 0, 0, 0, 0, 0, 0, 0, 0, 0, 0, 0, 0, 0, 0, 0, 0, 0, 0, 0, 0, 0, 0, 0, 0, 0, 0, 0, 0, 0, 0, 0, 0, 0, 0, 0, 0, 0, 0, 0, 0, 0, 0, 0, 0, 0, 0, 0, 0, 0, 0, 0, 0, 0, 0, 0, 0, 0, 0, 0, 0, 0, 0, 0, 0, 0, 0, 0, 0, 0, 0, 0, 0, 0, 0, 0, 0, 0, 0, 0, 0, 0, 0, 0, 0, 0, 0, 0, 0, 0, 0, 0, 0, 0, 0, 0, 0, 0, 0, 0, 0, 0, 0, 0, 0, 0, 0, 0, 0, 0, 0, 0, 0, 0, 0, 0, 0, 0, 0, 0, 0, 0, 0, 0, 0, 0, 0, 0, 0, 0, 0, 0, 0, 0, 0, 0, 0, 0, 0, 0, 0, 0, 0, 0, 0, 0, 0, 0, 0, 0, 0, 0, 0, 0, 0, 0, 0, 0, 0, 0, 0, 0, 0, 0, 0, 0, 0, 0, 0, 0, 0, 0, 0, 0, 0, 0, 0, 0, 0, 0, 0, 0, 0, 0, 0, 0, 0, 0, 0, 0, 0, 0, 0, 0, 0, 0, 1, 0, 0, 0, 0, 0, 0, 0, 0, 0, 0, 0, 0, 0, 0, 0, 0, 0, 0, 0, 0, 0, 0, 0, 0, 0, 0, 0, 0, 0, 0, 0, 0, 0, 0, 0, 2, 0, 0, 0, 0, 0, 0, 0, 0, 0, 0, 0, 0, 0, 0, 0, 0, 0, 0, 0, 0, 0, 0, 0, 0, 0, 0, 0, 0, 0, 0, 0, 0, 0, 0, 0, 0, 0, 0, 0, 0, 1, 0, 0, 0, 0, 0, 0, 0, 0, 0, 0, 0, 0, 0, 0, 0, 0, 0, 0, 0, 0, 0, 0, 0, 0, 0, 0, 0, 0, 0, 0, 0, 0, 0, 0, 0, 0, 0, 0, 0, 0, 0, 0, 0, 0, 0, 0, 0, 0, 0, 0, 0, 0, 0, 0, 0, 0, 0, 0, 0, 0, 0, 0, 0, 0, 0, 0, 0, 0, 0, 0, 0, 0, 0, 0, 0, 0, 0, 0, 0, 0, 0, 0, 0, 0, 0, 0, 0, 0, 0, 0, 0, 0, 0, 0, 0, 0, 0, 0, 0, 0, 0, 0, 0, 0, 0, 0, 0, 0, 0, 0, 0, 0, 0, 0, 0, 0, 0, 0, 0, 0, 0, 0, 0, 0, 0, 0, 0, 0, 0, 0, 0, 0, 0, 0, 0, 0, 0, 0, 0, 0, 0, 0, 0, 0, 0, 0, 0, 0, 0, 0, 0, 0, 0, 0, 0, 0, 0, 0, 0, 0, 0, 0, 0, 0, 0, 0, 0, 0, 0, 0, 0, 0, 0, 0, 0, 0, 0, 0, 0, 0, 0, 0, 0, 0, 0, 0, 0, 0, 0, 0, 0, 0, 0, 0, 0, 0, 0, 0, 0, 0, 0, 0, 0, 0, 0, 0, 0, 0, 0, 0, 0, 0, 0, 0, 0, 0, 0, 0, 0, 0, 0, 0, 0, 0, 0, 0, 0, 0, 0, 0, 0, 0, 0, 0, 0, 0, 0, 0, 0, 0, 0, 0, 0, 0, 0, 0, 0, 0, 0, 0, 0, 0, 0, 0, 0, 0, 0, 0, 0, 0, 0, 0, 0, 0, 0, 0, 0, 0, 0, 0, 0, 0, 0, 0, 0, 0, 0, 0, 0, 0, 0, 0, 0, 0, 0, 0, 0, 0, 0, 0, 0, 0, 0, 0, 0, 0, 0, 0, 0, 0, 0, 0, 0, 0, 0, 0, 0, 0, 0, 0, 0, 0, 0, 0, 0, 0, 0, 0, 0, 0, 0, 0, 0, 0, 0, 0, 0, 0, 0, 0, 0, 0, 0, 0, 0, 0, 0, 0, 0, 0, 0, 0, 0, 0, 0, 0, 0, 0, 0, 0, 0, 0, 0, 0, 0, 0, 0, 0, 0, 0, 0, 0, 0, 0, 0, 0, 0, 0, 0, 0, 0, 0, 0, 0, 0, 0, 0, 0, 0, 0, 0, 0, 0, 0, 0, 0, 0, 0, 0, 0, 0, 0, 0, 0, 0, 0, 0, 0, 0, 0, 0, 0, 0, 0, 0, 0, 0, 0, 0, 0, 0, 0, 0, 0, 0, 0, 0, 0, 0, 0, 0, 0, 0, 0, 0, 0, 0, 0, 0, 0, 0, 0, 0, 0, 0, 0, 0, 0, 0, 0, 0, 0, 0, 0, 0, 0, 0, 0, 0, 0, 0, 0, 0, 0, 0, 0, 0, 0, 0, 0, 0, 0, 0, 0, 0, 0, 0, 0, 0, 0, 0, 0, 0, 0, 0, 0, 0, 0, 0, 0, 0, 0, 0, 0, 0, 0, 0, 0, 0, 0, 0, 0, 0, 0, 0, 0, 0, 1, 0, 0, 0, 0, 0, 0, 0, 0, 0, 0, 0, 0, 0, 0, 0, 0, 0, 0, 0, 0, 0, 0, 0, 0, 0, 0, 0, 0, 0, 0, 0, 0, 0, 0, 0, 0, 0, 0, 0, 0, 0, 0, 0, 0, 0, 0, 0, 0, 0, 0, 0, 0, 0, 0, 0, 0, 0, 0, 0, 0, 0, 0, 0, 0, 0, 0, 0, 0, 0, 0, 0, 0, 0, 0, 0, 0, 0, 0, 0, 0, 0, 0, 0, 0, 0, 0, 0, 0, 0, 0, 0, 0, 0, 0, 0, 0, 0, 0, 0, 0, 0, 0, 0, 0, 0, 0, 0, 0, 0, 0, 2, 0, 0, 0, 0, 0, 0, 0, 0, 0, 0, 0, 0, 0, 0, 0, 0, 0, 0, 0, 0, 0, 0, 0, 0, 0, 0, 0, 0, 0, 0, 0, 0, 0, 0, 0, 0, 0, 0, 0, 0, 0, 0, 0, 0, 0, 0, 0, 0, 0, 0, 0, 0, 0, 0, 0, 0, 0, 0, 0, 0, 0, 0, 0, 0, 0, 0, 0, 0, 0, 0, 0, 0, 0, 0, 0, 0, 0, 0, 0, 0, 0, 0, 0, 0, 0, 0, 0, 0, 0, 0, 0, 0, 0, 0, 0, 0, 0, 0, 0, 0, 0, 0, 0, 0, 0, 0, 0, 0, 0, 0, 0, 0, 0, 0, 0, 0, 0, 0, 0, 0, 0, 0, 0, 0, 0, 0, 0, 0, 0, 0, 0, 0, 0, 0, 0, 0, 0, 0, 0, 0, 0, 0, 0, 0, 0, 0, 0, 0, 0, 0, 0, 0, 0, 0, 0, 0, 0, 0, 0, 0, 0, 0, 0, 0, 0, 0, 0, 0, 0, 0, 0, 0, 0, 0, 0, 0, 0, 0, 0, 0, 0, 0, 0, 0, 0, 0, 0, 0, 0, 0, 0, 0, 0, 0, 0, 0, 0, 0, 0, 0, 0, 0, 0, 0, 0, 0, 0, 0, 0, 0, 0, 0, 0, 0, 0, 0, 0, 0, 0, 0, 0, 0, 0, 0, 0, 0, 0, 0, 0, 0, 0, 0, 0, 0, 0, 0, 0, 0, 0, 0, 0, 0, 0, 0, 0, 0, 0, 0, 0, 0, 0, 0, 0, 0, 0, 0, 0, 0, 0, 0, 0, 0, 0, 0, 0, 0, 0, 0, 0, 0, 0, 0, 0, 0, 0, 0, 0, 0, 0, 0, 0, 0, 0, 0, 0, 0, 0, 0, 0, 0, 0, 0, 0, 0, 0, 0, 0, 0, 0, 0, 0, 0, 0, 0, 0, 0, 0, 0, 0, 0, 0, 0, 0, 0, 0, 0, 0, 0, 0, 0, 0, 0, 0, 0, 0, 0, 0, 0, 0, 0, 0, 0, 0, 0, 0, 0, 0, 0, 0, 0, 0, 0, 0, 0, 0, 0, 0, 0, 0, 0, 0, 0, 0, 0, 0, 0, 0, 0, 0, 0, 0, 0, 0, 0, 0, 0, 0, 0, 0, 0, 0, 0, 0, 0, 0, 0, 0, 0, 0, 0, 0, 0, 0, 0, 0, 0, 0, 0, 0, 0, 0, 0, 0, 0, 0, 0, 0, 0, 0, 0, 0, 0, 0, 0, 0, 0, 0, 0, 0, 0, 0, 0, 0, 0, 0, 0, 0, 0, 0, 0, 0, 0, 0, 0, 0, 0, 0, 0, 0, 0, 0, 0, 0, 0, 0, 0, 0, 0, 0, 0, 0, 0, 0, 0, 0, 0, 0, 0, 0, 0, 0, 0, 0, 0, 0, 0, 0, 0, 0, 0, 0, 0, 0, 0, 0, 0, 0, 0, 0, 0, 0, 0, 0, 0, 0, 0, 0, 0, 0, 0, 0, 0, 0, 0, 0, 0, 0, 0, 0, 0, 0, 0, 0, 0, 0, 0, 0, 0, 0, 0, 0, 0, 0, 0, 0, 0, 0, 0, 0, 0, 0, 0, 0, 0, 0, 0, 0, 0, 0, 0, 0, 0, 0, 0, 0, 0, 0, 0, 0, 0, 0, 0, 0, 0, 0, 0, 0, 0, 0, 0, 0, 0, 0, 0, 0, 0, 0, 0, 0, 0, 0, 0, 0, 0, 0, 0, 0, 0, 0, 0, 0, 0, 0, 0, 0, 0, 0, 0, 0, 0, 0, 0, 0, 0, 0, 0, 0, 0, 0, 0, 0, 0, 0, 0, 0, 0, 0, 0, 0, 0, 0, 0, 0, 0, 0, 0, 0, 0, 0, 0, 0, 0, 0, 0, 0, 0, 0, 0, 0, 0, 0, 0, 0, 0, 0, 0, 0, 0, 0, 0, 0, 0, 0, 0, 0, 0, 0, 0, 0, 0, 0, 0, 0, 0, 0, 0, 0, 0, 0, 0, 0, 0, 0, 0, 0, 0, 0, 0, 0, 0, 0, 0, 0, 0, 0, 0, 0, 0, 0, 0, 0, 0, 0, 0, 0, 0, 0, 0, 0, 0, 0, 0, 0, 0, 0, 0, 0, 0, 0, 0, 0, 0, 0, 0, 0, 0, 0, 0, 0, 0, 1, 0, 0, 0, 0, 0, 0, 0, 0, 0, 0, 0, 0, 0, 0, 0, 0, 0, 0, 0, 0, 0, 0, 0, 0, 0, 0, 0, 0, 0, 0, 0, 0, 0, 0, 0, 0, 0, 0, 0, 0, 0, 0, 0, 0, 0, 0, 0, 0, 0, 0, 0, 0, 0, 0, 0, 0, 0, 0, 0, 0, 0, 0, 0, 0, 0, 0, 0, 0, 0, 0, 0, 0, 0, 0, 0, 0, 0, 0, 0, 0, 0, 0, 0, 0, 0, 0, 0, 0, 0, 0, 0, 0, 0, 0, 0, 0, 0, 0, 0, 0, 0, 0, 0, 0, 0, 0, 0, 1, 0, 0, 0, 0, 0, 0, 0, 0, 0, 0, 0, 0, 0, 0, 0, 0, 0, 0, 0, 0, 0, 0, 0, 0, 0, 0, 0, 0, 0, 0, 0, 0, 0, 0, 0, 0, 0, 0, 0, 0, 0, 0, 0, 0, 0, 0, 0, 0, 0, 0, 0, 0, 0, 0, 0, 0, 0, 0, 0, 0, 0, 0, 0, 0, 0, 0, 0, 0, 0, 0, 0, 0, 0, 0, 0, 0, 0, 0, 0, 0, 0, 0, 0, 0, 0, 0, 0, 0, 0, 0, 0, 0, 0, 0, 0, 0, 0, 0, 0, 0, 0, 0, 0, 0, 0, 0, 0, 0, 0, 0, 0, 0, 0, 0, 0, 0, 0, 0, 0, 0, 0, 0, 0, 0, 0, 0, 0, 0, 0, 0, 0, 0, 0, 0, 0, 0, 0, 0, 0, 0, 0, 0, 0, 0, 0, 0, 0, 0, 0, 0, 0, 0, 0, 0, 0, 0, 0, 0, 0, 0, 0, 0, 0, 0, 0, 0, 0, 0, 0, 0, 0, 0, 0, 0, 0, 0, 0, 0, 0, 0, 0, 0, 0, 0, 0, 0, 0, 0, 0, 0, 0, 0, 0, 0, 0, 0, 0, 0, 0, 0, 0, 0, 0, 0, 0, 0, 0, 0, 0, 0, 0, 0, 0, 0, 0, 0, 0, 0, 0, 0, 0, 0, 0, 0, 0, 0, 0, 0, 0, 0, 0, 0, 0, 0, 0, 0, 0, 0, 0, 0, 0, 0, 0, 0, 0, 0, 0, 0, 0, 0, 0, 0, 0, 0, 0, 0, 0, 0, 0, 0, 0, 0, 0, 0, 0, 0, 0, 0, 0, 0, 0, 0, 0, 0, 0, 0, 0, 0, 0, 0, 0, 0, 0, 0, 0, 0, 0, 0, 0, 0, 0, 0, 0, 0, 0, 0, 0, 0, 0, 0, 0, 0, 0, 0, 0, 0, 0, 0, 0, 0, 0, 0, 0, 0, 0, 0, 0, 0, 0, 0, 0, 0, 0, 0, 0, 0, 0, 0, 0, 0, 0, 0, 0, 0, 0, 0, 0, 0, 0, 0, 0, 0, 0, 0, 0, 0, 0, 0, 0, 0, 0, 0, 0, 0, 0, 0, 0, 0, 0, 0, 0, 0, 0, 0, 0, 0, 0, 0, 0, 0, 0, 0, 0, 0, 0, 0, 0, 0, 0, 0, 0, 0, 0, 0, 0, 0, 0, 0, 0, 0, 0, 0, 0, 0, 0, 0, 0, 0, 0, 0, 0, 0, 0, 0, 0, 0, 0, 0, 0, 0, 0, 0, 0, 0, 0, 0, 0, 0, 0, 0, 0, 0, 0, 0, 0, 0, 0, 0, 0, 0, 0, 0, 0, 0, 0, 0, 0, 0, 0, 0, 0, 0, 0, 0, 0, 0, 0, 0, 0, 0, 0, 0, 0, 0, 0, 0, 0, 0, 0, 0, 0, 0, 0, 2, 0, 1, 0]\n"
     ]
    }
   ],
   "source": [
    "test_bow = bow_encoding(test_words, vocabulary)\n",
    "print(test_bow)"
   ]
  },
  {
   "cell_type": "code",
   "execution_count": 40,
   "metadata": {},
   "outputs": [
    {
     "data": {
      "text/plain": [
       "5000"
      ]
     },
     "execution_count": 40,
     "metadata": {},
     "output_type": "execute_result"
    }
   ],
   "source": [
    "len(test_bow)"
   ]
  },
  {
   "cell_type": "markdown",
   "metadata": {},
   "source": [
    "So now we know how to construct a bag of words encoding of a user provided review, how to we send it to our endpoint? First, we need to start the endpoint back up."
   ]
  },
  {
   "cell_type": "code",
   "execution_count": 41,
   "metadata": {},
   "outputs": [
    {
     "name": "stderr",
     "output_type": "stream",
     "text": [
      "WARNING:sagemaker:Using already existing model: xgboost-2020-05-01-11-27-39-813\n"
     ]
    },
    {
     "name": "stdout",
     "output_type": "stream",
     "text": [
      "-----------!"
     ]
    }
   ],
   "source": [
    "xgb_predictor = xgb.deploy(initial_instance_count = 1, instance_type = 'ml.m4.xlarge')"
   ]
  },
  {
   "cell_type": "markdown",
   "metadata": {},
   "source": [
    "At this point we could just do the same thing that we did earlier when we tested our deployed model and send `test_bow` to our endpoint using the `xgb_predictor` object. However, when we eventually construct our Lambda function we won't have access to this object, so how do we call a SageMaker endpoint?\n",
    "\n",
    "It turns out that Python functions that are used in Lambda have access to another Amazon library called `boto3`. This library provides an API for working with Amazon services, including SageMaker. To start with, we need to get a handle to the SageMaker runtime."
   ]
  },
  {
   "cell_type": "code",
   "execution_count": 42,
   "metadata": {},
   "outputs": [],
   "source": [
    "import boto3\n",
    "\n",
    "runtime = boto3.Session().client('sagemaker-runtime')"
   ]
  },
  {
   "cell_type": "markdown",
   "metadata": {},
   "source": [
    "And now that we have access to the SageMaker runtime, we can ask it to make use of (invoke) an endpoint that has already been created. However, we need to provide SageMaker with the name of the deployed endpoint. To find this out we can print it out using the `xgb_predictor` object."
   ]
  },
  {
   "cell_type": "code",
   "execution_count": 43,
   "metadata": {},
   "outputs": [
    {
     "data": {
      "text/plain": [
       "'xgboost-2020-05-01-11-27-39-813'"
      ]
     },
     "execution_count": 43,
     "metadata": {},
     "output_type": "execute_result"
    }
   ],
   "source": [
    "xgb_predictor.endpoint"
   ]
  },
  {
   "cell_type": "markdown",
   "metadata": {},
   "source": [
    "Using the SageMaker runtime and the name of our endpoint, we can invoke the endpoint and send it the `test_bow` data."
   ]
  },
  {
   "cell_type": "code",
   "execution_count": 44,
   "metadata": {},
   "outputs": [
    {
     "ename": "ParamValidationError",
     "evalue": "Parameter validation failed:\nInvalid type for parameter Body, value: [0, 0, 0, 0, 0, 0, 0, 0, 0, 0, 0, 0, 0, 0, 0, 0, 0, 0, 0, 0, 0, 0, 0, 0, 0, 0, 0, 0, 0, 0, 0, 0, 0, 0, 0, 0, 0, 0, 0, 0, 0, 0, 0, 0, 0, 0, 0, 0, 0, 0, 0, 0, 0, 0, 0, 0, 0, 0, 0, 0, 0, 0, 0, 0, 0, 0, 0, 0, 0, 0, 0, 0, 0, 0, 0, 0, 0, 0, 0, 0, 0, 0, 0, 0, 0, 0, 0, 0, 0, 0, 0, 0, 0, 0, 0, 0, 0, 0, 0, 0, 0, 0, 0, 0, 0, 0, 0, 0, 0, 0, 0, 0, 0, 0, 0, 0, 0, 0, 0, 0, 0, 0, 0, 0, 0, 0, 0, 0, 0, 0, 0, 0, 0, 0, 0, 0, 0, 0, 0, 0, 0, 0, 0, 0, 0, 0, 0, 0, 0, 0, 0, 0, 0, 0, 0, 0, 0, 0, 0, 0, 0, 0, 0, 0, 0, 0, 0, 0, 0, 0, 0, 0, 0, 0, 0, 0, 0, 0, 0, 0, 0, 0, 0, 0, 0, 0, 0, 0, 0, 0, 0, 0, 0, 0, 0, 0, 0, 0, 0, 0, 0, 0, 0, 0, 0, 0, 0, 0, 0, 0, 0, 0, 0, 0, 0, 0, 0, 0, 0, 0, 0, 0, 0, 0, 0, 0, 1, 0, 0, 0, 0, 0, 0, 0, 0, 0, 0, 0, 0, 0, 0, 0, 0, 0, 0, 0, 0, 0, 0, 0, 0, 0, 0, 0, 0, 0, 1, 0, 0, 0, 0, 0, 0, 0, 0, 0, 0, 0, 0, 0, 0, 0, 0, 0, 0, 0, 0, 0, 0, 0, 0, 0, 0, 0, 0, 0, 0, 0, 0, 0, 0, 0, 0, 0, 0, 0, 0, 0, 0, 0, 0, 0, 0, 0, 0, 0, 0, 0, 0, 0, 0, 0, 0, 0, 0, 0, 0, 0, 0, 0, 0, 0, 0, 0, 0, 0, 0, 0, 0, 0, 0, 0, 0, 0, 0, 0, 0, 0, 0, 0, 0, 0, 0, 0, 0, 0, 0, 0, 0, 0, 0, 0, 0, 0, 0, 0, 0, 0, 0, 0, 0, 0, 0, 0, 0, 0, 0, 0, 0, 0, 0, 0, 0, 0, 0, 0, 0, 0, 0, 0, 0, 0, 0, 0, 0, 0, 0, 0, 0, 0, 0, 0, 0, 0, 0, 0, 0, 0, 0, 0, 0, 0, 0, 0, 0, 0, 0, 0, 0, 0, 0, 0, 0, 0, 0, 0, 0, 0, 0, 0, 0, 0, 0, 0, 0, 0, 0, 0, 0, 0, 0, 0, 0, 0, 0, 0, 0, 0, 0, 0, 0, 0, 0, 0, 0, 0, 0, 0, 0, 0, 0, 0, 0, 0, 0, 0, 0, 0, 0, 0, 0, 0, 0, 0, 0, 0, 0, 0, 0, 0, 0, 0, 0, 0, 0, 0, 0, 0, 0, 0, 0, 0, 0, 0, 0, 0, 0, 0, 0, 0, 0, 0, 0, 0, 0, 0, 0, 0, 0, 0, 0, 0, 0, 0, 0, 0, 0, 0, 0, 0, 0, 0, 0, 0, 0, 0, 0, 0, 0, 0, 0, 0, 0, 0, 0, 0, 0, 0, 0, 0, 0, 0, 0, 0, 0, 0, 0, 0, 0, 0, 0, 0, 0, 0, 0, 0, 0, 0, 0, 0, 0, 0, 0, 0, 0, 0, 0, 0, 0, 0, 0, 0, 0, 0, 0, 0, 0, 0, 0, 0, 0, 0, 0, 0, 0, 0, 0, 0, 0, 0, 0, 0, 0, 0, 0, 0, 0, 0, 0, 0, 0, 0, 0, 0, 0, 0, 0, 0, 0, 0, 0, 0, 0, 0, 0, 0, 0, 0, 0, 0, 0, 0, 0, 0, 0, 0, 0, 0, 0, 0, 0, 0, 0, 0, 0, 0, 0, 0, 0, 0, 0, 0, 0, 0, 0, 0, 1, 0, 0, 0, 0, 0, 0, 0, 0, 0, 0, 0, 0, 0, 0, 0, 0, 0, 0, 0, 0, 0, 0, 0, 0, 0, 0, 0, 0, 0, 0, 0, 0, 0, 0, 0, 0, 0, 0, 0, 0, 0, 0, 0, 0, 0, 0, 0, 0, 0, 0, 0, 0, 0, 0, 0, 0, 0, 0, 0, 0, 0, 0, 0, 0, 0, 0, 0, 0, 0, 0, 0, 0, 0, 0, 0, 0, 0, 0, 0, 0, 0, 0, 0, 0, 0, 0, 0, 0, 0, 0, 0, 0, 0, 0, 0, 0, 0, 0, 0, 0, 0, 0, 0, 0, 0, 0, 0, 0, 0, 0, 0, 0, 0, 0, 0, 0, 0, 0, 0, 0, 0, 0, 0, 0, 0, 0, 0, 0, 0, 0, 0, 0, 0, 0, 0, 0, 0, 0, 0, 0, 0, 0, 0, 0, 0, 0, 0, 0, 0, 0, 0, 0, 0, 0, 0, 0, 0, 0, 0, 0, 0, 0, 0, 0, 0, 0, 0, 0, 0, 0, 0, 0, 0, 0, 0, 0, 0, 0, 0, 0, 0, 0, 0, 0, 0, 0, 0, 0, 0, 0, 0, 0, 0, 0, 0, 0, 0, 0, 0, 0, 0, 0, 0, 0, 0, 0, 0, 0, 0, 0, 0, 0, 0, 0, 0, 0, 0, 0, 0, 0, 0, 0, 0, 0, 0, 0, 0, 0, 0, 0, 0, 0, 0, 0, 0, 0, 0, 0, 0, 0, 0, 0, 0, 0, 0, 0, 0, 0, 0, 0, 0, 0, 0, 1, 0, 0, 0, 0, 0, 0, 0, 0, 0, 0, 0, 0, 0, 0, 0, 0, 0, 0, 0, 0, 0, 0, 0, 0, 0, 0, 0, 0, 0, 0, 0, 0, 0, 0, 0, 0, 0, 0, 0, 0, 0, 0, 0, 0, 0, 0, 0, 0, 0, 0, 0, 0, 0, 0, 0, 0, 0, 0, 0, 0, 0, 0, 0, 0, 0, 0, 0, 0, 0, 0, 0, 0, 0, 0, 0, 0, 0, 0, 0, 0, 0, 0, 0, 0, 0, 0, 1, 0, 0, 0, 0, 0, 0, 0, 0, 0, 0, 0, 0, 0, 0, 0, 0, 0, 0, 0, 0, 0, 0, 0, 0, 0, 0, 0, 0, 0, 0, 0, 0, 0, 0, 0, 0, 0, 0, 0, 0, 0, 0, 0, 0, 0, 0, 0, 0, 0, 0, 0, 0, 0, 0, 0, 0, 0, 0, 0, 0, 0, 0, 0, 0, 0, 0, 0, 0, 0, 0, 0, 0, 0, 0, 0, 0, 0, 0, 0, 0, 0, 0, 0, 0, 0, 0, 0, 0, 0, 0, 0, 0, 0, 0, 0, 0, 0, 0, 0, 0, 0, 0, 0, 0, 0, 0, 0, 0, 0, 0, 0, 0, 0, 0, 0, 0, 0, 0, 0, 0, 0, 0, 0, 0, 0, 0, 0, 0, 0, 0, 0, 0, 0, 0, 0, 0, 0, 0, 0, 0, 0, 0, 0, 0, 0, 0, 0, 0, 0, 0, 0, 0, 0, 0, 0, 0, 0, 0, 0, 0, 0, 0, 0, 0, 0, 0, 0, 0, 0, 0, 0, 0, 0, 0, 0, 0, 0, 0, 0, 0, 0, 0, 0, 0, 0, 0, 0, 0, 0, 0, 0, 0, 0, 0, 0, 0, 0, 0, 0, 0, 0, 0, 0, 0, 0, 0, 0, 0, 0, 0, 0, 0, 0, 0, 0, 0, 0, 0, 0, 0, 0, 0, 0, 0, 0, 0, 0, 0, 0, 0, 0, 0, 0, 0, 0, 0, 0, 0, 0, 0, 0, 0, 0, 0, 0, 0, 0, 0, 0, 0, 0, 0, 1, 0, 0, 0, 0, 0, 0, 0, 0, 0, 0, 0, 0, 0, 0, 0, 0, 0, 0, 0, 0, 0, 0, 0, 0, 0, 0, 0, 0, 0, 0, 0, 0, 0, 0, 0, 0, 0, 0, 0, 0, 0, 0, 0, 0, 0, 0, 0, 0, 0, 0, 0, 0, 0, 0, 0, 1, 0, 0, 0, 0, 0, 0, 0, 0, 0, 0, 0, 0, 0, 0, 0, 0, 0, 0, 0, 0, 0, 0, 0, 0, 0, 0, 0, 0, 0, 0, 0, 0, 0, 0, 0, 0, 0, 0, 0, 0, 0, 0, 0, 0, 0, 0, 0, 0, 0, 0, 0, 0, 0, 0, 0, 0, 0, 0, 0, 0, 0, 0, 0, 0, 0, 0, 0, 0, 0, 0, 0, 0, 0, 0, 0, 0, 0, 0, 0, 0, 0, 0, 0, 0, 0, 0, 0, 0, 0, 0, 0, 0, 0, 0, 0, 0, 0, 0, 0, 0, 0, 0, 0, 0, 0, 0, 0, 0, 0, 0, 0, 0, 0, 0, 0, 0, 0, 0, 0, 0, 0, 0, 0, 0, 0, 0, 0, 0, 0, 0, 0, 0, 0, 0, 0, 0, 0, 0, 0, 0, 0, 0, 0, 0, 0, 0, 0, 0, 0, 0, 0, 0, 0, 0, 0, 0, 0, 0, 0, 0, 0, 0, 0, 0, 0, 0, 0, 0, 0, 0, 0, 0, 0, 0, 0, 0, 0, 0, 0, 0, 0, 0, 0, 0, 0, 0, 0, 0, 0, 0, 0, 0, 0, 0, 0, 0, 0, 0, 0, 0, 0, 0, 0, 0, 0, 0, 0, 0, 0, 0, 0, 0, 0, 0, 0, 0, 0, 0, 0, 0, 0, 0, 0, 0, 0, 0, 0, 0, 0, 0, 0, 0, 0, 0, 0, 0, 0, 0, 0, 0, 0, 0, 0, 0, 0, 0, 0, 0, 0, 0, 0, 0, 0, 0, 0, 0, 0, 0, 0, 0, 0, 0, 0, 0, 0, 0, 0, 0, 0, 0, 0, 0, 0, 0, 0, 0, 0, 0, 0, 0, 0, 0, 0, 0, 0, 0, 0, 0, 0, 0, 0, 0, 0, 0, 0, 0, 0, 0, 0, 0, 0, 0, 0, 0, 0, 0, 0, 0, 0, 0, 0, 0, 0, 0, 0, 0, 0, 0, 0, 0, 0, 0, 0, 0, 0, 0, 0, 0, 0, 0, 0, 0, 0, 0, 0, 0, 0, 0, 0, 0, 0, 0, 0, 0, 0, 0, 0, 0, 0, 0, 0, 0, 0, 0, 0, 0, 0, 0, 0, 0, 0, 0, 0, 0, 0, 0, 0, 0, 0, 0, 0, 0, 0, 0, 0, 0, 0, 0, 0, 0, 0, 0, 0, 0, 0, 0, 0, 0, 0, 0, 0, 0, 0, 0, 0, 0, 0, 0, 0, 0, 0, 0, 0, 0, 0, 0, 0, 0, 0, 0, 0, 0, 0, 0, 0, 0, 0, 0, 0, 0, 0, 0, 0, 0, 0, 0, 0, 0, 0, 0, 0, 0, 0, 0, 0, 0, 0, 0, 0, 0, 0, 0, 0, 0, 0, 0, 0, 0, 0, 0, 0, 0, 0, 0, 0, 0, 0, 0, 0, 0, 0, 0, 0, 0, 0, 0, 0, 0, 0, 0, 0, 0, 0, 0, 0, 0, 0, 0, 0, 0, 0, 0, 0, 0, 0, 0, 0, 0, 0, 0, 0, 0, 0, 0, 0, 0, 0, 0, 0, 0, 0, 0, 0, 0, 0, 0, 0, 0, 0, 0, 0, 0, 0, 0, 0, 0, 0, 0, 0, 0, 0, 0, 0, 0, 0, 0, 0, 0, 0, 0, 0, 0, 0, 0, 0, 0, 0, 0, 0, 0, 0, 0, 0, 0, 0, 0, 0, 0, 0, 0, 0, 0, 0, 0, 0, 0, 0, 0, 0, 0, 0, 0, 0, 0, 0, 0, 0, 0, 0, 0, 0, 0, 0, 0, 0, 0, 0, 0, 0, 0, 0, 0, 0, 0, 0, 0, 0, 0, 0, 0, 0, 0, 0, 0, 0, 0, 0, 0, 0, 0, 0, 0, 0, 0, 0, 0, 0, 0, 0, 0, 0, 0, 0, 0, 0, 0, 0, 0, 0, 0, 0, 0, 0, 0, 0, 0, 0, 0, 0, 0, 0, 0, 0, 0, 0, 0, 0, 0, 0, 0, 0, 0, 0, 0, 0, 0, 0, 0, 0, 0, 0, 0, 0, 0, 0, 0, 0, 0, 0, 0, 0, 0, 0, 0, 0, 0, 0, 0, 0, 0, 0, 0, 0, 0, 0, 0, 0, 0, 0, 0, 0, 1, 0, 0, 0, 0, 0, 0, 0, 0, 0, 0, 0, 0, 0, 0, 0, 0, 0, 0, 0, 0, 0, 0, 0, 0, 0, 0, 0, 0, 0, 0, 0, 0, 0, 0, 0, 0, 0, 0, 0, 0, 0, 0, 0, 0, 0, 0, 0, 0, 0, 0, 0, 0, 0, 0, 0, 0, 0, 0, 0, 0, 0, 0, 0, 0, 0, 0, 0, 0, 0, 0, 0, 0, 0, 0, 1, 0, 0, 0, 0, 0, 0, 0, 0, 0, 0, 0, 0, 0, 0, 0, 0, 0, 0, 0, 0, 1, 0, 0, 1, 0, 0, 0, 0, 0, 0, 0, 0, 0, 0, 0, 0, 0, 0, 0, 0, 0, 0, 0, 0, 0, 0, 0, 0, 0, 0, 0, 0, 0, 0, 0, 0, 0, 0, 0, 0, 0, 0, 0, 0, 0, 0, 0, 0, 0, 0, 0, 0, 0, 0, 0, 0, 0, 0, 0, 0, 0, 0, 0, 0, 0, 0, 0, 0, 0, 0, 0, 0, 0, 0, 0, 0, 0, 0, 0, 0, 0, 0, 0, 0, 0, 0, 0, 0, 0, 0, 0, 0, 0, 0, 0, 0, 0, 0, 0, 0, 0, 0, 0, 0, 0, 0, 0, 0, 0, 0, 0, 0, 0, 0, 0, 0, 0, 0, 0, 0, 0, 0, 0, 0, 0, 0, 0, 0, 0, 0, 0, 0, 0, 0, 0, 0, 0, 0, 0, 0, 0, 0, 0, 0, 0, 0, 0, 0, 0, 0, 0, 0, 0, 0, 0, 0, 0, 0, 0, 0, 0, 0, 0, 0, 0, 0, 0, 0, 0, 0, 0, 0, 0, 0, 0, 0, 0, 0, 0, 0, 0, 0, 0, 0, 0, 0, 0, 0, 0, 0, 0, 0, 0, 0, 0, 0, 0, 0, 0, 0, 0, 0, 0, 0, 0, 0, 0, 0, 0, 0, 0, 0, 0, 0, 0, 0, 0, 0, 0, 0, 0, 0, 0, 0, 0, 0, 0, 0, 0, 0, 0, 0, 0, 0, 0, 0, 0, 0, 0, 0, 0, 0, 0, 0, 0, 0, 0, 0, 0, 0, 0, 0, 0, 0, 0, 0, 0, 0, 0, 0, 0, 0, 0, 0, 0, 0, 0, 0, 0, 0, 0, 0, 0, 0, 0, 0, 0, 0, 0, 0, 0, 0, 0, 0, 0, 0, 0, 0, 0, 0, 0, 0, 0, 0, 0, 0, 0, 0, 0, 0, 0, 0, 0, 0, 0, 0, 0, 0, 0, 0, 0, 0, 0, 0, 0, 0, 0, 0, 0, 0, 0, 0, 0, 0, 0, 0, 0, 0, 0, 0, 0, 0, 0, 0, 0, 0, 0, 0, 0, 0, 0, 0, 0, 0, 0, 0, 0, 0, 0, 0, 0, 0, 0, 0, 0, 0, 0, 0, 0, 0, 0, 0, 0, 0, 0, 0, 0, 0, 0, 0, 0, 0, 0, 0, 0, 0, 0, 0, 0, 0, 0, 0, 0, 0, 0, 0, 0, 0, 0, 0, 0, 0, 0, 0, 0, 0, 0, 0, 0, 0, 0, 0, 0, 0, 0, 0, 0, 0, 0, 0, 0, 0, 0, 0, 0, 0, 0, 0, 0, 0, 0, 0, 0, 0, 0, 0, 0, 0, 0, 0, 0, 0, 0, 0, 0, 0, 0, 0, 0, 0, 0, 0, 0, 0, 0, 0, 0, 0, 0, 0, 0, 0, 0, 0, 0, 0, 0, 0, 0, 0, 0, 0, 0, 0, 0, 0, 0, 0, 0, 0, 1, 0, 0, 0, 0, 0, 0, 0, 0, 0, 0, 0, 0, 0, 0, 0, 0, 0, 0, 0, 0, 0, 0, 0, 0, 0, 0, 0, 0, 0, 0, 0, 0, 0, 0, 0, 0, 0, 0, 0, 0, 0, 0, 0, 0, 0, 0, 0, 0, 0, 0, 0, 0, 0, 0, 0, 0, 0, 0, 0, 0, 0, 0, 0, 0, 0, 0, 0, 0, 0, 0, 0, 0, 0, 0, 0, 0, 0, 0, 0, 0, 0, 0, 0, 0, 0, 0, 0, 0, 0, 0, 0, 0, 0, 0, 0, 0, 0, 0, 0, 0, 0, 0, 0, 0, 0, 0, 0, 0, 0, 0, 0, 0, 0, 0, 0, 0, 0, 0, 0, 0, 0, 0, 0, 0, 0, 0, 0, 0, 0, 0, 0, 0, 0, 0, 0, 0, 0, 0, 0, 0, 0, 0, 0, 0, 0, 0, 0, 0, 0, 0, 0, 0, 0, 0, 0, 0, 0, 0, 0, 0, 0, 0, 0, 0, 0, 0, 0, 0, 0, 0, 0, 0, 0, 0, 0, 0, 0, 0, 0, 0, 0, 0, 0, 0, 0, 0, 0, 0, 0, 0, 0, 0, 0, 0, 0, 0, 0, 0, 0, 0, 0, 0, 0, 0, 0, 0, 0, 0, 0, 0, 0, 0, 0, 0, 0, 0, 0, 0, 0, 0, 0, 0, 0, 0, 0, 0, 0, 0, 0, 0, 0, 0, 0, 0, 0, 0, 0, 0, 0, 0, 0, 0, 0, 0, 0, 0, 0, 0, 0, 0, 0, 0, 0, 0, 0, 0, 0, 0, 0, 0, 0, 0, 0, 0, 0, 0, 0, 0, 0, 0, 0, 0, 0, 0, 0, 0, 0, 0, 0, 0, 0, 0, 0, 0, 0, 0, 0, 0, 0, 0, 0, 0, 0, 0, 0, 0, 0, 0, 0, 0, 0, 0, 0, 0, 0, 0, 0, 0, 0, 0, 0, 0, 0, 0, 0, 0, 0, 0, 0, 0, 0, 0, 0, 0, 0, 0, 0, 0, 0, 0, 0, 0, 0, 0, 0, 0, 0, 0, 0, 0, 0, 0, 0, 0, 0, 0, 0, 0, 0, 0, 0, 0, 0, 0, 0, 0, 0, 0, 0, 0, 0, 0, 0, 0, 0, 0, 0, 0, 0, 0, 0, 0, 0, 0, 0, 0, 0, 0, 0, 0, 0, 0, 0, 0, 0, 0, 0, 0, 0, 0, 0, 0, 0, 0, 0, 0, 0, 0, 0, 0, 0, 0, 0, 0, 0, 0, 0, 0, 0, 0, 0, 0, 0, 0, 0, 0, 0, 0, 0, 0, 0, 0, 0, 0, 0, 0, 0, 0, 0, 0, 0, 0, 0, 0, 0, 0, 0, 0, 0, 0, 0, 0, 0, 0, 0, 0, 0, 0, 0, 0, 0, 0, 0, 0, 0, 0, 0, 0, 0, 0, 0, 0, 0, 0, 0, 0, 0, 0, 0, 0, 0, 0, 0, 0, 0, 0, 0, 0, 0, 0, 0, 0, 0, 0, 0, 0, 0, 0, 0, 0, 0, 0, 0, 0, 0, 0, 0, 0, 0, 0, 0, 0, 0, 0, 0, 0, 0, 0, 0, 0, 0, 0, 1, 0, 0, 0, 0, 0, 0, 0, 0, 0, 0, 0, 0, 0, 0, 0, 0, 0, 0, 0, 0, 0, 0, 0, 0, 0, 0, 0, 0, 0, 0, 0, 0, 0, 0, 0, 2, 0, 0, 0, 0, 0, 0, 0, 0, 0, 0, 0, 0, 0, 0, 0, 0, 0, 0, 0, 0, 0, 0, 0, 0, 0, 0, 0, 0, 0, 0, 0, 0, 0, 0, 0, 0, 0, 0, 0, 0, 1, 0, 0, 0, 0, 0, 0, 0, 0, 0, 0, 0, 0, 0, 0, 0, 0, 0, 0, 0, 0, 0, 0, 0, 0, 0, 0, 0, 0, 0, 0, 0, 0, 0, 0, 0, 0, 0, 0, 0, 0, 0, 0, 0, 0, 0, 0, 0, 0, 0, 0, 0, 0, 0, 0, 0, 0, 0, 0, 0, 0, 0, 0, 0, 0, 0, 0, 0, 0, 0, 0, 0, 0, 0, 0, 0, 0, 0, 0, 0, 0, 0, 0, 0, 0, 0, 0, 0, 0, 0, 0, 0, 0, 0, 0, 0, 0, 0, 0, 0, 0, 0, 0, 0, 0, 0, 0, 0, 0, 0, 0, 0, 0, 0, 0, 0, 0, 0, 0, 0, 0, 0, 0, 0, 0, 0, 0, 0, 0, 0, 0, 0, 0, 0, 0, 0, 0, 0, 0, 0, 0, 0, 0, 0, 0, 0, 0, 0, 0, 0, 0, 0, 0, 0, 0, 0, 0, 0, 0, 0, 0, 0, 0, 0, 0, 0, 0, 0, 0, 0, 0, 0, 0, 0, 0, 0, 0, 0, 0, 0, 0, 0, 0, 0, 0, 0, 0, 0, 0, 0, 0, 0, 0, 0, 0, 0, 0, 0, 0, 0, 0, 0, 0, 0, 0, 0, 0, 0, 0, 0, 0, 0, 0, 0, 0, 0, 0, 0, 0, 0, 0, 0, 0, 0, 0, 0, 0, 0, 0, 0, 0, 0, 0, 0, 0, 0, 0, 0, 0, 0, 0, 0, 0, 0, 0, 0, 0, 0, 0, 0, 0, 0, 0, 0, 0, 0, 0, 0, 0, 0, 0, 0, 0, 0, 0, 0, 0, 0, 0, 0, 0, 0, 0, 0, 0, 0, 0, 0, 0, 0, 0, 0, 0, 0, 0, 0, 0, 0, 0, 0, 0, 0, 0, 0, 0, 0, 0, 0, 0, 0, 0, 0, 0, 0, 0, 0, 0, 0, 0, 0, 0, 0, 0, 0, 0, 0, 0, 0, 0, 0, 0, 0, 0, 0, 0, 0, 0, 0, 0, 0, 0, 0, 0, 0, 0, 0, 0, 0, 0, 0, 0, 0, 0, 0, 0, 0, 0, 0, 0, 0, 0, 0, 0, 0, 0, 0, 0, 0, 0, 0, 0, 0, 0, 0, 0, 0, 0, 0, 0, 0, 0, 0, 0, 0, 0, 0, 0, 0, 0, 0, 0, 0, 0, 0, 0, 0, 0, 0, 0, 0, 0, 0, 0, 0, 0, 0, 0, 0, 0, 0, 0, 0, 0, 0, 0, 0, 0, 0, 0, 0, 0, 0, 0, 0, 0, 0, 0, 0, 0, 0, 0, 0, 0, 0, 0, 0, 0, 0, 0, 0, 0, 0, 0, 0, 0, 0, 0, 0, 0, 0, 0, 0, 0, 0, 0, 0, 0, 0, 0, 0, 0, 0, 0, 0, 0, 0, 0, 0, 0, 0, 0, 0, 0, 0, 0, 0, 0, 0, 0, 0, 0, 0, 0, 0, 0, 0, 0, 0, 0, 0, 0, 0, 0, 0, 0, 0, 0, 0, 0, 0, 0, 0, 0, 0, 0, 0, 0, 0, 1, 0, 0, 0, 0, 0, 0, 0, 0, 0, 0, 0, 0, 0, 0, 0, 0, 0, 0, 0, 0, 0, 0, 0, 0, 0, 0, 0, 0, 0, 0, 0, 0, 0, 0, 0, 0, 0, 0, 0, 0, 0, 0, 0, 0, 0, 0, 0, 0, 0, 0, 0, 0, 0, 0, 0, 0, 0, 0, 0, 0, 0, 0, 0, 0, 0, 0, 0, 0, 0, 0, 0, 0, 0, 0, 0, 0, 0, 0, 0, 0, 0, 0, 0, 0, 0, 0, 0, 0, 0, 0, 0, 0, 0, 0, 0, 0, 0, 0, 0, 0, 0, 0, 0, 0, 0, 0, 0, 0, 0, 0, 2, 0, 0, 0, 0, 0, 0, 0, 0, 0, 0, 0, 0, 0, 0, 0, 0, 0, 0, 0, 0, 0, 0, 0, 0, 0, 0, 0, 0, 0, 0, 0, 0, 0, 0, 0, 0, 0, 0, 0, 0, 0, 0, 0, 0, 0, 0, 0, 0, 0, 0, 0, 0, 0, 0, 0, 0, 0, 0, 0, 0, 0, 0, 0, 0, 0, 0, 0, 0, 0, 0, 0, 0, 0, 0, 0, 0, 0, 0, 0, 0, 0, 0, 0, 0, 0, 0, 0, 0, 0, 0, 0, 0, 0, 0, 0, 0, 0, 0, 0, 0, 0, 0, 0, 0, 0, 0, 0, 0, 0, 0, 0, 0, 0, 0, 0, 0, 0, 0, 0, 0, 0, 0, 0, 0, 0, 0, 0, 0, 0, 0, 0, 0, 0, 0, 0, 0, 0, 0, 0, 0, 0, 0, 0, 0, 0, 0, 0, 0, 0, 0, 0, 0, 0, 0, 0, 0, 0, 0, 0, 0, 0, 0, 0, 0, 0, 0, 0, 0, 0, 0, 0, 0, 0, 0, 0, 0, 0, 0, 0, 0, 0, 0, 0, 0, 0, 0, 0, 0, 0, 0, 0, 0, 0, 0, 0, 0, 0, 0, 0, 0, 0, 0, 0, 0, 0, 0, 0, 0, 0, 0, 0, 0, 0, 0, 0, 0, 0, 0, 0, 0, 0, 0, 0, 0, 0, 0, 0, 0, 0, 0, 0, 0, 0, 0, 0, 0, 0, 0, 0, 0, 0, 0, 0, 0, 0, 0, 0, 0, 0, 0, 0, 0, 0, 0, 0, 0, 0, 0, 0, 0, 0, 0, 0, 0, 0, 0, 0, 0, 0, 0, 0, 0, 0, 0, 0, 0, 0, 0, 0, 0, 0, 0, 0, 0, 0, 0, 0, 0, 0, 0, 0, 0, 0, 0, 0, 0, 0, 0, 0, 0, 0, 0, 0, 0, 0, 0, 0, 0, 0, 0, 0, 0, 0, 0, 0, 0, 0, 0, 0, 0, 0, 0, 0, 0, 0, 0, 0, 0, 0, 0, 0, 0, 0, 0, 0, 0, 0, 0, 0, 0, 0, 0, 0, 0, 0, 0, 0, 0, 0, 0, 0, 0, 0, 0, 0, 0, 0, 0, 0, 0, 0, 0, 0, 0, 0, 0, 0, 0, 0, 0, 0, 0, 0, 0, 0, 0, 0, 0, 0, 0, 0, 0, 0, 0, 0, 0, 0, 0, 0, 0, 0, 0, 0, 0, 0, 0, 0, 0, 0, 0, 0, 0, 0, 0, 0, 0, 0, 0, 0, 0, 0, 0, 0, 0, 0, 0, 0, 0, 0, 0, 0, 0, 0, 0, 0, 0, 0, 0, 0, 0, 0, 0, 0, 0, 0, 0, 0, 0, 0, 0, 0, 0, 0, 0, 0, 0, 0, 0, 0, 0, 0, 0, 0, 0, 0, 0, 0, 0, 0, 0, 0, 0, 0, 0, 0, 0, 0, 0, 0, 0, 0, 0, 0, 0, 0, 0, 0, 0, 0, 0, 0, 0, 0, 0, 0, 0, 0, 0, 0, 0, 0, 0, 0, 0, 0, 0, 0, 0, 0, 0, 0, 0, 0, 0, 0, 0, 0, 0, 0, 0, 0, 0, 0, 0, 0, 0, 0, 0, 0, 0, 0, 0, 0, 0, 0, 0, 0, 0, 0, 0, 0, 0, 0, 0, 0, 0, 0, 0, 0, 0, 0, 0, 0, 0, 0, 0, 0, 0, 0, 0, 0, 0, 0, 0, 0, 0, 0, 0, 0, 0, 0, 0, 0, 0, 0, 0, 0, 0, 0, 0, 0, 0, 0, 0, 0, 0, 0, 0, 0, 0, 0, 0, 0, 0, 0, 0, 0, 0, 0, 0, 0, 0, 0, 0, 0, 0, 0, 0, 0, 0, 0, 0, 0, 0, 0, 0, 0, 0, 0, 0, 0, 0, 0, 0, 0, 0, 0, 0, 0, 0, 0, 0, 0, 0, 0, 0, 0, 0, 0, 0, 0, 0, 0, 0, 0, 0, 0, 0, 0, 0, 0, 0, 0, 0, 0, 0, 0, 0, 0, 0, 0, 0, 0, 0, 0, 0, 0, 0, 0, 0, 0, 0, 0, 0, 0, 0, 0, 0, 0, 0, 0, 0, 0, 0, 0, 0, 0, 0, 0, 0, 0, 0, 0, 0, 0, 0, 0, 0, 0, 0, 1, 0, 0, 0, 0, 0, 0, 0, 0, 0, 0, 0, 0, 0, 0, 0, 0, 0, 0, 0, 0, 0, 0, 0, 0, 0, 0, 0, 0, 0, 0, 0, 0, 0, 0, 0, 0, 0, 0, 0, 0, 0, 0, 0, 0, 0, 0, 0, 0, 0, 0, 0, 0, 0, 0, 0, 0, 0, 0, 0, 0, 0, 0, 0, 0, 0, 0, 0, 0, 0, 0, 0, 0, 0, 0, 0, 0, 0, 0, 0, 0, 0, 0, 0, 0, 0, 0, 0, 0, 0, 0, 0, 0, 0, 0, 0, 0, 0, 0, 0, 0, 0, 0, 0, 0, 0, 0, 0, 1, 0, 0, 0, 0, 0, 0, 0, 0, 0, 0, 0, 0, 0, 0, 0, 0, 0, 0, 0, 0, 0, 0, 0, 0, 0, 0, 0, 0, 0, 0, 0, 0, 0, 0, 0, 0, 0, 0, 0, 0, 0, 0, 0, 0, 0, 0, 0, 0, 0, 0, 0, 0, 0, 0, 0, 0, 0, 0, 0, 0, 0, 0, 0, 0, 0, 0, 0, 0, 0, 0, 0, 0, 0, 0, 0, 0, 0, 0, 0, 0, 0, 0, 0, 0, 0, 0, 0, 0, 0, 0, 0, 0, 0, 0, 0, 0, 0, 0, 0, 0, 0, 0, 0, 0, 0, 0, 0, 0, 0, 0, 0, 0, 0, 0, 0, 0, 0, 0, 0, 0, 0, 0, 0, 0, 0, 0, 0, 0, 0, 0, 0, 0, 0, 0, 0, 0, 0, 0, 0, 0, 0, 0, 0, 0, 0, 0, 0, 0, 0, 0, 0, 0, 0, 0, 0, 0, 0, 0, 0, 0, 0, 0, 0, 0, 0, 0, 0, 0, 0, 0, 0, 0, 0, 0, 0, 0, 0, 0, 0, 0, 0, 0, 0, 0, 0, 0, 0, 0, 0, 0, 0, 0, 0, 0, 0, 0, 0, 0, 0, 0, 0, 0, 0, 0, 0, 0, 0, 0, 0, 0, 0, 0, 0, 0, 0, 0, 0, 0, 0, 0, 0, 0, 0, 0, 0, 0, 0, 0, 0, 0, 0, 0, 0, 0, 0, 0, 0, 0, 0, 0, 0, 0, 0, 0, 0, 0, 0, 0, 0, 0, 0, 0, 0, 0, 0, 0, 0, 0, 0, 0, 0, 0, 0, 0, 0, 0, 0, 0, 0, 0, 0, 0, 0, 0, 0, 0, 0, 0, 0, 0, 0, 0, 0, 0, 0, 0, 0, 0, 0, 0, 0, 0, 0, 0, 0, 0, 0, 0, 0, 0, 0, 0, 0, 0, 0, 0, 0, 0, 0, 0, 0, 0, 0, 0, 0, 0, 0, 0, 0, 0, 0, 0, 0, 0, 0, 0, 0, 0, 0, 0, 0, 0, 0, 0, 0, 0, 0, 0, 0, 0, 0, 0, 0, 0, 0, 0, 0, 0, 0, 0, 0, 0, 0, 0, 0, 0, 0, 0, 0, 0, 0, 0, 0, 0, 0, 0, 0, 0, 0, 0, 0, 0, 0, 0, 0, 0, 0, 0, 0, 0, 0, 0, 0, 0, 0, 0, 0, 0, 0, 0, 0, 0, 0, 0, 0, 0, 0, 0, 0, 0, 0, 0, 0, 0, 0, 0, 0, 0, 0, 0, 0, 0, 0, 0, 0, 0, 0, 0, 0, 0, 0, 0, 0, 0, 0, 0, 0, 0, 0, 0, 0, 0, 0, 0, 0, 0, 0, 0, 0, 0, 0, 0, 0, 0, 0, 0, 0, 0, 0, 0, 0, 0, 0, 0, 0, 0, 0, 0, 0, 0, 0, 0, 0, 2, 0, 1, 0], type: <class 'list'>, valid types: <class 'bytes'>, <class 'bytearray'>, file-like object",
     "output_type": "error",
     "traceback": [
      "\u001b[0;31m---------------------------------------------------------------------------\u001b[0m",
      "\u001b[0;31mParamValidationError\u001b[0m                      Traceback (most recent call last)",
      "\u001b[0;32m<ipython-input-44-c9ab54ae3a48>\u001b[0m in \u001b[0;36m<module>\u001b[0;34m()\u001b[0m\n\u001b[1;32m      1\u001b[0m response = runtime.invoke_endpoint(EndpointName = xgb_predictor.endpoint, # The name of the endpoint we created\n\u001b[1;32m      2\u001b[0m                                        \u001b[0mContentType\u001b[0m \u001b[0;34m=\u001b[0m \u001b[0;34m'text/csv'\u001b[0m\u001b[0;34m,\u001b[0m                     \u001b[0;31m# The data format that is expected\u001b[0m\u001b[0;34m\u001b[0m\u001b[0m\n\u001b[0;32m----> 3\u001b[0;31m                                        Body = test_bow)\n\u001b[0m",
      "\u001b[0;32m~/anaconda3/envs/python3/lib/python3.6/site-packages/botocore/client.py\u001b[0m in \u001b[0;36m_api_call\u001b[0;34m(self, *args, **kwargs)\u001b[0m\n\u001b[1;32m    314\u001b[0m                     \"%s() only accepts keyword arguments.\" % py_operation_name)\n\u001b[1;32m    315\u001b[0m             \u001b[0;31m# The \"self\" in this scope is referring to the BaseClient.\u001b[0m\u001b[0;34m\u001b[0m\u001b[0;34m\u001b[0m\u001b[0m\n\u001b[0;32m--> 316\u001b[0;31m             \u001b[0;32mreturn\u001b[0m \u001b[0mself\u001b[0m\u001b[0;34m.\u001b[0m\u001b[0m_make_api_call\u001b[0m\u001b[0;34m(\u001b[0m\u001b[0moperation_name\u001b[0m\u001b[0;34m,\u001b[0m \u001b[0mkwargs\u001b[0m\u001b[0;34m)\u001b[0m\u001b[0;34m\u001b[0m\u001b[0m\n\u001b[0m\u001b[1;32m    317\u001b[0m \u001b[0;34m\u001b[0m\u001b[0m\n\u001b[1;32m    318\u001b[0m         \u001b[0m_api_call\u001b[0m\u001b[0;34m.\u001b[0m\u001b[0m__name__\u001b[0m \u001b[0;34m=\u001b[0m \u001b[0mstr\u001b[0m\u001b[0;34m(\u001b[0m\u001b[0mpy_operation_name\u001b[0m\u001b[0;34m)\u001b[0m\u001b[0;34m\u001b[0m\u001b[0m\n",
      "\u001b[0;32m~/anaconda3/envs/python3/lib/python3.6/site-packages/botocore/client.py\u001b[0m in \u001b[0;36m_make_api_call\u001b[0;34m(self, operation_name, api_params)\u001b[0m\n\u001b[1;32m    597\u001b[0m         }\n\u001b[1;32m    598\u001b[0m         request_dict = self._convert_to_request_dict(\n\u001b[0;32m--> 599\u001b[0;31m             api_params, operation_model, context=request_context)\n\u001b[0m\u001b[1;32m    600\u001b[0m \u001b[0;34m\u001b[0m\u001b[0m\n\u001b[1;32m    601\u001b[0m         \u001b[0mservice_id\u001b[0m \u001b[0;34m=\u001b[0m \u001b[0mself\u001b[0m\u001b[0;34m.\u001b[0m\u001b[0m_service_model\u001b[0m\u001b[0;34m.\u001b[0m\u001b[0mservice_id\u001b[0m\u001b[0;34m.\u001b[0m\u001b[0mhyphenize\u001b[0m\u001b[0;34m(\u001b[0m\u001b[0;34m)\u001b[0m\u001b[0;34m\u001b[0m\u001b[0m\n",
      "\u001b[0;32m~/anaconda3/envs/python3/lib/python3.6/site-packages/botocore/client.py\u001b[0m in \u001b[0;36m_convert_to_request_dict\u001b[0;34m(self, api_params, operation_model, context)\u001b[0m\n\u001b[1;32m    645\u001b[0m             api_params, operation_model, context)\n\u001b[1;32m    646\u001b[0m         request_dict = self._serializer.serialize_to_request(\n\u001b[0;32m--> 647\u001b[0;31m             api_params, operation_model)\n\u001b[0m\u001b[1;32m    648\u001b[0m         \u001b[0;32mif\u001b[0m \u001b[0;32mnot\u001b[0m \u001b[0mself\u001b[0m\u001b[0;34m.\u001b[0m\u001b[0m_client_config\u001b[0m\u001b[0;34m.\u001b[0m\u001b[0minject_host_prefix\u001b[0m\u001b[0;34m:\u001b[0m\u001b[0;34m\u001b[0m\u001b[0m\n\u001b[1;32m    649\u001b[0m             \u001b[0mrequest_dict\u001b[0m\u001b[0;34m.\u001b[0m\u001b[0mpop\u001b[0m\u001b[0;34m(\u001b[0m\u001b[0;34m'host_prefix'\u001b[0m\u001b[0;34m,\u001b[0m \u001b[0;32mNone\u001b[0m\u001b[0;34m)\u001b[0m\u001b[0;34m\u001b[0m\u001b[0m\n",
      "\u001b[0;32m~/anaconda3/envs/python3/lib/python3.6/site-packages/botocore/validate.py\u001b[0m in \u001b[0;36mserialize_to_request\u001b[0;34m(self, parameters, operation_model)\u001b[0m\n\u001b[1;32m    295\u001b[0m                                                     operation_model.input_shape)\n\u001b[1;32m    296\u001b[0m             \u001b[0;32mif\u001b[0m \u001b[0mreport\u001b[0m\u001b[0;34m.\u001b[0m\u001b[0mhas_errors\u001b[0m\u001b[0;34m(\u001b[0m\u001b[0;34m)\u001b[0m\u001b[0;34m:\u001b[0m\u001b[0;34m\u001b[0m\u001b[0m\n\u001b[0;32m--> 297\u001b[0;31m                 \u001b[0;32mraise\u001b[0m \u001b[0mParamValidationError\u001b[0m\u001b[0;34m(\u001b[0m\u001b[0mreport\u001b[0m\u001b[0;34m=\u001b[0m\u001b[0mreport\u001b[0m\u001b[0;34m.\u001b[0m\u001b[0mgenerate_report\u001b[0m\u001b[0;34m(\u001b[0m\u001b[0;34m)\u001b[0m\u001b[0;34m)\u001b[0m\u001b[0;34m\u001b[0m\u001b[0m\n\u001b[0m\u001b[1;32m    298\u001b[0m         return self._serializer.serialize_to_request(parameters,\n\u001b[1;32m    299\u001b[0m                                                      operation_model)\n",
      "\u001b[0;31mParamValidationError\u001b[0m: Parameter validation failed:\nInvalid type for parameter Body, value: [0, 0, 0, 0, 0, 0, 0, 0, 0, 0, 0, 0, 0, 0, 0, 0, 0, 0, 0, 0, 0, 0, 0, 0, 0, 0, 0, 0, 0, 0, 0, 0, 0, 0, 0, 0, 0, 0, 0, 0, 0, 0, 0, 0, 0, 0, 0, 0, 0, 0, 0, 0, 0, 0, 0, 0, 0, 0, 0, 0, 0, 0, 0, 0, 0, 0, 0, 0, 0, 0, 0, 0, 0, 0, 0, 0, 0, 0, 0, 0, 0, 0, 0, 0, 0, 0, 0, 0, 0, 0, 0, 0, 0, 0, 0, 0, 0, 0, 0, 0, 0, 0, 0, 0, 0, 0, 0, 0, 0, 0, 0, 0, 0, 0, 0, 0, 0, 0, 0, 0, 0, 0, 0, 0, 0, 0, 0, 0, 0, 0, 0, 0, 0, 0, 0, 0, 0, 0, 0, 0, 0, 0, 0, 0, 0, 0, 0, 0, 0, 0, 0, 0, 0, 0, 0, 0, 0, 0, 0, 0, 0, 0, 0, 0, 0, 0, 0, 0, 0, 0, 0, 0, 0, 0, 0, 0, 0, 0, 0, 0, 0, 0, 0, 0, 0, 0, 0, 0, 0, 0, 0, 0, 0, 0, 0, 0, 0, 0, 0, 0, 0, 0, 0, 0, 0, 0, 0, 0, 0, 0, 0, 0, 0, 0, 0, 0, 0, 0, 0, 0, 0, 0, 0, 0, 0, 0, 1, 0, 0, 0, 0, 0, 0, 0, 0, 0, 0, 0, 0, 0, 0, 0, 0, 0, 0, 0, 0, 0, 0, 0, 0, 0, 0, 0, 0, 0, 1, 0, 0, 0, 0, 0, 0, 0, 0, 0, 0, 0, 0, 0, 0, 0, 0, 0, 0, 0, 0, 0, 0, 0, 0, 0, 0, 0, 0, 0, 0, 0, 0, 0, 0, 0, 0, 0, 0, 0, 0, 0, 0, 0, 0, 0, 0, 0, 0, 0, 0, 0, 0, 0, 0, 0, 0, 0, 0, 0, 0, 0, 0, 0, 0, 0, 0, 0, 0, 0, 0, 0, 0, 0, 0, 0, 0, 0, 0, 0, 0, 0, 0, 0, 0, 0, 0, 0, 0, 0, 0, 0, 0, 0, 0, 0, 0, 0, 0, 0, 0, 0, 0, 0, 0, 0, 0, 0, 0, 0, 0, 0, 0, 0, 0, 0, 0, 0, 0, 0, 0, 0, 0, 0, 0, 0, 0, 0, 0, 0, 0, 0, 0, 0, 0, 0, 0, 0, 0, 0, 0, 0, 0, 0, 0, 0, 0, 0, 0, 0, 0, 0, 0, 0, 0, 0, 0, 0, 0, 0, 0, 0, 0, 0, 0, 0, 0, 0, 0, 0, 0, 0, 0, 0, 0, 0, 0, 0, 0, 0, 0, 0, 0, 0, 0, 0, 0, 0, 0, 0, 0, 0, 0, 0, 0, 0, 0, 0, 0, 0, 0, 0, 0, 0, 0, 0, 0, 0, 0, 0, 0, 0, 0, 0, 0, 0, 0, 0, 0, 0, 0, 0, 0, 0, 0, 0, 0, 0, 0, 0, 0, 0, 0, 0, 0, 0, 0, 0, 0, 0, 0, 0, 0, 0, 0, 0, 0, 0, 0, 0, 0, 0, 0, 0, 0, 0, 0, 0, 0, 0, 0, 0, 0, 0, 0, 0, 0, 0, 0, 0, 0, 0, 0, 0, 0, 0, 0, 0, 0, 0, 0, 0, 0, 0, 0, 0, 0, 0, 0, 0, 0, 0, 0, 0, 0, 0, 0, 0, 0, 0, 0, 0, 0, 0, 0, 0, 0, 0, 0, 0, 0, 0, 0, 0, 0, 0, 0, 0, 0, 0, 0, 0, 0, 0, 0, 0, 0, 0, 0, 0, 0, 0, 0, 0, 0, 0, 0, 0, 0, 0, 0, 0, 0, 0, 0, 0, 0, 0, 0, 0, 0, 0, 0, 0, 0, 0, 0, 0, 0, 0, 0, 0, 0, 0, 0, 0, 0, 0, 0, 0, 0, 0, 0, 0, 0, 0, 0, 0, 0, 0, 1, 0, 0, 0, 0, 0, 0, 0, 0, 0, 0, 0, 0, 0, 0, 0, 0, 0, 0, 0, 0, 0, 0, 0, 0, 0, 0, 0, 0, 0, 0, 0, 0, 0, 0, 0, 0, 0, 0, 0, 0, 0, 0, 0, 0, 0, 0, 0, 0, 0, 0, 0, 0, 0, 0, 0, 0, 0, 0, 0, 0, 0, 0, 0, 0, 0, 0, 0, 0, 0, 0, 0, 0, 0, 0, 0, 0, 0, 0, 0, 0, 0, 0, 0, 0, 0, 0, 0, 0, 0, 0, 0, 0, 0, 0, 0, 0, 0, 0, 0, 0, 0, 0, 0, 0, 0, 0, 0, 0, 0, 0, 0, 0, 0, 0, 0, 0, 0, 0, 0, 0, 0, 0, 0, 0, 0, 0, 0, 0, 0, 0, 0, 0, 0, 0, 0, 0, 0, 0, 0, 0, 0, 0, 0, 0, 0, 0, 0, 0, 0, 0, 0, 0, 0, 0, 0, 0, 0, 0, 0, 0, 0, 0, 0, 0, 0, 0, 0, 0, 0, 0, 0, 0, 0, 0, 0, 0, 0, 0, 0, 0, 0, 0, 0, 0, 0, 0, 0, 0, 0, 0, 0, 0, 0, 0, 0, 0, 0, 0, 0, 0, 0, 0, 0, 0, 0, 0, 0, 0, 0, 0, 0, 0, 0, 0, 0, 0, 0, 0, 0, 0, 0, 0, 0, 0, 0, 0, 0, 0, 0, 0, 0, 0, 0, 0, 0, 0, 0, 0, 0, 0, 0, 0, 0, 0, 0, 0, 0, 0, 0, 0, 0, 0, 0, 1, 0, 0, 0, 0, 0, 0, 0, 0, 0, 0, 0, 0, 0, 0, 0, 0, 0, 0, 0, 0, 0, 0, 0, 0, 0, 0, 0, 0, 0, 0, 0, 0, 0, 0, 0, 0, 0, 0, 0, 0, 0, 0, 0, 0, 0, 0, 0, 0, 0, 0, 0, 0, 0, 0, 0, 0, 0, 0, 0, 0, 0, 0, 0, 0, 0, 0, 0, 0, 0, 0, 0, 0, 0, 0, 0, 0, 0, 0, 0, 0, 0, 0, 0, 0, 0, 0, 1, 0, 0, 0, 0, 0, 0, 0, 0, 0, 0, 0, 0, 0, 0, 0, 0, 0, 0, 0, 0, 0, 0, 0, 0, 0, 0, 0, 0, 0, 0, 0, 0, 0, 0, 0, 0, 0, 0, 0, 0, 0, 0, 0, 0, 0, 0, 0, 0, 0, 0, 0, 0, 0, 0, 0, 0, 0, 0, 0, 0, 0, 0, 0, 0, 0, 0, 0, 0, 0, 0, 0, 0, 0, 0, 0, 0, 0, 0, 0, 0, 0, 0, 0, 0, 0, 0, 0, 0, 0, 0, 0, 0, 0, 0, 0, 0, 0, 0, 0, 0, 0, 0, 0, 0, 0, 0, 0, 0, 0, 0, 0, 0, 0, 0, 0, 0, 0, 0, 0, 0, 0, 0, 0, 0, 0, 0, 0, 0, 0, 0, 0, 0, 0, 0, 0, 0, 0, 0, 0, 0, 0, 0, 0, 0, 0, 0, 0, 0, 0, 0, 0, 0, 0, 0, 0, 0, 0, 0, 0, 0, 0, 0, 0, 0, 0, 0, 0, 0, 0, 0, 0, 0, 0, 0, 0, 0, 0, 0, 0, 0, 0, 0, 0, 0, 0, 0, 0, 0, 0, 0, 0, 0, 0, 0, 0, 0, 0, 0, 0, 0, 0, 0, 0, 0, 0, 0, 0, 0, 0, 0, 0, 0, 0, 0, 0, 0, 0, 0, 0, 0, 0, 0, 0, 0, 0, 0, 0, 0, 0, 0, 0, 0, 0, 0, 0, 0, 0, 0, 0, 0, 0, 0, 0, 0, 0, 0, 0, 0, 0, 0, 0, 0, 1, 0, 0, 0, 0, 0, 0, 0, 0, 0, 0, 0, 0, 0, 0, 0, 0, 0, 0, 0, 0, 0, 0, 0, 0, 0, 0, 0, 0, 0, 0, 0, 0, 0, 0, 0, 0, 0, 0, 0, 0, 0, 0, 0, 0, 0, 0, 0, 0, 0, 0, 0, 0, 0, 0, 0, 1, 0, 0, 0, 0, 0, 0, 0, 0, 0, 0, 0, 0, 0, 0, 0, 0, 0, 0, 0, 0, 0, 0, 0, 0, 0, 0, 0, 0, 0, 0, 0, 0, 0, 0, 0, 0, 0, 0, 0, 0, 0, 0, 0, 0, 0, 0, 0, 0, 0, 0, 0, 0, 0, 0, 0, 0, 0, 0, 0, 0, 0, 0, 0, 0, 0, 0, 0, 0, 0, 0, 0, 0, 0, 0, 0, 0, 0, 0, 0, 0, 0, 0, 0, 0, 0, 0, 0, 0, 0, 0, 0, 0, 0, 0, 0, 0, 0, 0, 0, 0, 0, 0, 0, 0, 0, 0, 0, 0, 0, 0, 0, 0, 0, 0, 0, 0, 0, 0, 0, 0, 0, 0, 0, 0, 0, 0, 0, 0, 0, 0, 0, 0, 0, 0, 0, 0, 0, 0, 0, 0, 0, 0, 0, 0, 0, 0, 0, 0, 0, 0, 0, 0, 0, 0, 0, 0, 0, 0, 0, 0, 0, 0, 0, 0, 0, 0, 0, 0, 0, 0, 0, 0, 0, 0, 0, 0, 0, 0, 0, 0, 0, 0, 0, 0, 0, 0, 0, 0, 0, 0, 0, 0, 0, 0, 0, 0, 0, 0, 0, 0, 0, 0, 0, 0, 0, 0, 0, 0, 0, 0, 0, 0, 0, 0, 0, 0, 0, 0, 0, 0, 0, 0, 0, 0, 0, 0, 0, 0, 0, 0, 0, 0, 0, 0, 0, 0, 0, 0, 0, 0, 0, 0, 0, 0, 0, 0, 0, 0, 0, 0, 0, 0, 0, 0, 0, 0, 0, 0, 0, 0, 0, 0, 0, 0, 0, 0, 0, 0, 0, 0, 0, 0, 0, 0, 0, 0, 0, 0, 0, 0, 0, 0, 0, 0, 0, 0, 0, 0, 0, 0, 0, 0, 0, 0, 0, 0, 0, 0, 0, 0, 0, 0, 0, 0, 0, 0, 0, 0, 0, 0, 0, 0, 0, 0, 0, 0, 0, 0, 0, 0, 0, 0, 0, 0, 0, 0, 0, 0, 0, 0, 0, 0, 0, 0, 0, 0, 0, 0, 0, 0, 0, 0, 0, 0, 0, 0, 0, 0, 0, 0, 0, 0, 0, 0, 0, 0, 0, 0, 0, 0, 0, 0, 0, 0, 0, 0, 0, 0, 0, 0, 0, 0, 0, 0, 0, 0, 0, 0, 0, 0, 0, 0, 0, 0, 0, 0, 0, 0, 0, 0, 0, 0, 0, 0, 0, 0, 0, 0, 0, 0, 0, 0, 0, 0, 0, 0, 0, 0, 0, 0, 0, 0, 0, 0, 0, 0, 0, 0, 0, 0, 0, 0, 0, 0, 0, 0, 0, 0, 0, 0, 0, 0, 0, 0, 0, 0, 0, 0, 0, 0, 0, 0, 0, 0, 0, 0, 0, 0, 0, 0, 0, 0, 0, 0, 0, 0, 0, 0, 0, 0, 0, 0, 0, 0, 0, 0, 0, 0, 0, 0, 0, 0, 0, 0, 0, 0, 0, 0, 0, 0, 0, 0, 0, 0, 0, 0, 0, 0, 0, 0, 0, 0, 0, 0, 0, 0, 0, 0, 0, 0, 0, 0, 0, 0, 0, 0, 0, 0, 0, 0, 0, 0, 0, 0, 0, 0, 0, 0, 0, 0, 0, 0, 0, 0, 0, 0, 0, 0, 0, 0, 0, 0, 0, 0, 0, 0, 0, 0, 0, 0, 0, 0, 0, 0, 0, 0, 0, 0, 0, 0, 0, 0, 0, 0, 0, 0, 0, 0, 0, 0, 0, 0, 0, 0, 0, 0, 0, 0, 0, 0, 0, 0, 0, 0, 0, 0, 0, 0, 0, 0, 0, 0, 0, 0, 0, 0, 0, 0, 0, 0, 0, 0, 0, 0, 0, 0, 0, 0, 0, 0, 0, 0, 0, 0, 0, 0, 0, 0, 0, 0, 0, 0, 0, 0, 0, 0, 0, 0, 0, 0, 0, 0, 0, 0, 0, 0, 0, 0, 0, 0, 0, 0, 0, 0, 0, 0, 0, 0, 0, 0, 0, 0, 0, 0, 0, 0, 0, 0, 0, 0, 0, 0, 0, 0, 0, 0, 0, 0, 0, 0, 0, 0, 0, 0, 0, 0, 0, 0, 0, 0, 0, 0, 0, 0, 0, 0, 0, 0, 0, 0, 0, 1, 0, 0, 0, 0, 0, 0, 0, 0, 0, 0, 0, 0, 0, 0, 0, 0, 0, 0, 0, 0, 0, 0, 0, 0, 0, 0, 0, 0, 0, 0, 0, 0, 0, 0, 0, 0, 0, 0, 0, 0, 0, 0, 0, 0, 0, 0, 0, 0, 0, 0, 0, 0, 0, 0, 0, 0, 0, 0, 0, 0, 0, 0, 0, 0, 0, 0, 0, 0, 0, 0, 0, 0, 0, 0, 1, 0, 0, 0, 0, 0, 0, 0, 0, 0, 0, 0, 0, 0, 0, 0, 0, 0, 0, 0, 0, 1, 0, 0, 1, 0, 0, 0, 0, 0, 0, 0, 0, 0, 0, 0, 0, 0, 0, 0, 0, 0, 0, 0, 0, 0, 0, 0, 0, 0, 0, 0, 0, 0, 0, 0, 0, 0, 0, 0, 0, 0, 0, 0, 0, 0, 0, 0, 0, 0, 0, 0, 0, 0, 0, 0, 0, 0, 0, 0, 0, 0, 0, 0, 0, 0, 0, 0, 0, 0, 0, 0, 0, 0, 0, 0, 0, 0, 0, 0, 0, 0, 0, 0, 0, 0, 0, 0, 0, 0, 0, 0, 0, 0, 0, 0, 0, 0, 0, 0, 0, 0, 0, 0, 0, 0, 0, 0, 0, 0, 0, 0, 0, 0, 0, 0, 0, 0, 0, 0, 0, 0, 0, 0, 0, 0, 0, 0, 0, 0, 0, 0, 0, 0, 0, 0, 0, 0, 0, 0, 0, 0, 0, 0, 0, 0, 0, 0, 0, 0, 0, 0, 0, 0, 0, 0, 0, 0, 0, 0, 0, 0, 0, 0, 0, 0, 0, 0, 0, 0, 0, 0, 0, 0, 0, 0, 0, 0, 0, 0, 0, 0, 0, 0, 0, 0, 0, 0, 0, 0, 0, 0, 0, 0, 0, 0, 0, 0, 0, 0, 0, 0, 0, 0, 0, 0, 0, 0, 0, 0, 0, 0, 0, 0, 0, 0, 0, 0, 0, 0, 0, 0, 0, 0, 0, 0, 0, 0, 0, 0, 0, 0, 0, 0, 0, 0, 0, 0, 0, 0, 0, 0, 0, 0, 0, 0, 0, 0, 0, 0, 0, 0, 0, 0, 0, 0, 0, 0, 0, 0, 0, 0, 0, 0, 0, 0, 0, 0, 0, 0, 0, 0, 0, 0, 0, 0, 0, 0, 0, 0, 0, 0, 0, 0, 0, 0, 0, 0, 0, 0, 0, 0, 0, 0, 0, 0, 0, 0, 0, 0, 0, 0, 0, 0, 0, 0, 0, 0, 0, 0, 0, 0, 0, 0, 0, 0, 0, 0, 0, 0, 0, 0, 0, 0, 0, 0, 0, 0, 0, 0, 0, 0, 0, 0, 0, 0, 0, 0, 0, 0, 0, 0, 0, 0, 0, 0, 0, 0, 0, 0, 0, 0, 0, 0, 0, 0, 0, 0, 0, 0, 0, 0, 0, 0, 0, 0, 0, 0, 0, 0, 0, 0, 0, 0, 0, 0, 0, 0, 0, 0, 0, 0, 0, 0, 0, 0, 0, 0, 0, 0, 0, 0, 0, 0, 0, 0, 0, 0, 0, 0, 0, 0, 0, 0, 0, 0, 0, 0, 0, 0, 0, 0, 0, 0, 0, 0, 0, 0, 0, 0, 0, 0, 0, 0, 0, 0, 0, 0, 0, 0, 0, 0, 0, 0, 0, 0, 0, 0, 0, 0, 0, 0, 0, 0, 0, 0, 0, 0, 0, 0, 0, 0, 0, 0, 0, 0, 0, 0, 0, 0, 0, 0, 0, 0, 0, 0, 0, 0, 0, 0, 0, 1, 0, 0, 0, 0, 0, 0, 0, 0, 0, 0, 0, 0, 0, 0, 0, 0, 0, 0, 0, 0, 0, 0, 0, 0, 0, 0, 0, 0, 0, 0, 0, 0, 0, 0, 0, 0, 0, 0, 0, 0, 0, 0, 0, 0, 0, 0, 0, 0, 0, 0, 0, 0, 0, 0, 0, 0, 0, 0, 0, 0, 0, 0, 0, 0, 0, 0, 0, 0, 0, 0, 0, 0, 0, 0, 0, 0, 0, 0, 0, 0, 0, 0, 0, 0, 0, 0, 0, 0, 0, 0, 0, 0, 0, 0, 0, 0, 0, 0, 0, 0, 0, 0, 0, 0, 0, 0, 0, 0, 0, 0, 0, 0, 0, 0, 0, 0, 0, 0, 0, 0, 0, 0, 0, 0, 0, 0, 0, 0, 0, 0, 0, 0, 0, 0, 0, 0, 0, 0, 0, 0, 0, 0, 0, 0, 0, 0, 0, 0, 0, 0, 0, 0, 0, 0, 0, 0, 0, 0, 0, 0, 0, 0, 0, 0, 0, 0, 0, 0, 0, 0, 0, 0, 0, 0, 0, 0, 0, 0, 0, 0, 0, 0, 0, 0, 0, 0, 0, 0, 0, 0, 0, 0, 0, 0, 0, 0, 0, 0, 0, 0, 0, 0, 0, 0, 0, 0, 0, 0, 0, 0, 0, 0, 0, 0, 0, 0, 0, 0, 0, 0, 0, 0, 0, 0, 0, 0, 0, 0, 0, 0, 0, 0, 0, 0, 0, 0, 0, 0, 0, 0, 0, 0, 0, 0, 0, 0, 0, 0, 0, 0, 0, 0, 0, 0, 0, 0, 0, 0, 0, 0, 0, 0, 0, 0, 0, 0, 0, 0, 0, 0, 0, 0, 0, 0, 0, 0, 0, 0, 0, 0, 0, 0, 0, 0, 0, 0, 0, 0, 0, 0, 0, 0, 0, 0, 0, 0, 0, 0, 0, 0, 0, 0, 0, 0, 0, 0, 0, 0, 0, 0, 0, 0, 0, 0, 0, 0, 0, 0, 0, 0, 0, 0, 0, 0, 0, 0, 0, 0, 0, 0, 0, 0, 0, 0, 0, 0, 0, 0, 0, 0, 0, 0, 0, 0, 0, 0, 0, 0, 0, 0, 0, 0, 0, 0, 0, 0, 0, 0, 0, 0, 0, 0, 0, 0, 0, 0, 0, 0, 0, 0, 0, 0, 0, 0, 0, 0, 0, 0, 0, 0, 0, 0, 0, 0, 0, 0, 0, 0, 0, 0, 0, 0, 0, 0, 0, 0, 0, 0, 0, 0, 0, 0, 0, 0, 0, 0, 0, 0, 0, 0, 0, 0, 0, 0, 0, 0, 0, 0, 0, 0, 0, 0, 0, 0, 0, 0, 0, 0, 0, 0, 0, 0, 0, 0, 0, 0, 0, 0, 0, 0, 0, 0, 0, 0, 0, 0, 0, 0, 0, 0, 0, 0, 0, 0, 0, 0, 0, 0, 0, 0, 0, 0, 0, 0, 0, 0, 0, 0, 0, 0, 0, 0, 0, 0, 0, 0, 0, 0, 0, 0, 0, 0, 0, 0, 0, 0, 0, 0, 0, 0, 0, 0, 0, 0, 0, 0, 0, 0, 0, 0, 0, 0, 0, 0, 0, 0, 0, 0, 0, 0, 0, 0, 1, 0, 0, 0, 0, 0, 0, 0, 0, 0, 0, 0, 0, 0, 0, 0, 0, 0, 0, 0, 0, 0, 0, 0, 0, 0, 0, 0, 0, 0, 0, 0, 0, 0, 0, 0, 2, 0, 0, 0, 0, 0, 0, 0, 0, 0, 0, 0, 0, 0, 0, 0, 0, 0, 0, 0, 0, 0, 0, 0, 0, 0, 0, 0, 0, 0, 0, 0, 0, 0, 0, 0, 0, 0, 0, 0, 0, 1, 0, 0, 0, 0, 0, 0, 0, 0, 0, 0, 0, 0, 0, 0, 0, 0, 0, 0, 0, 0, 0, 0, 0, 0, 0, 0, 0, 0, 0, 0, 0, 0, 0, 0, 0, 0, 0, 0, 0, 0, 0, 0, 0, 0, 0, 0, 0, 0, 0, 0, 0, 0, 0, 0, 0, 0, 0, 0, 0, 0, 0, 0, 0, 0, 0, 0, 0, 0, 0, 0, 0, 0, 0, 0, 0, 0, 0, 0, 0, 0, 0, 0, 0, 0, 0, 0, 0, 0, 0, 0, 0, 0, 0, 0, 0, 0, 0, 0, 0, 0, 0, 0, 0, 0, 0, 0, 0, 0, 0, 0, 0, 0, 0, 0, 0, 0, 0, 0, 0, 0, 0, 0, 0, 0, 0, 0, 0, 0, 0, 0, 0, 0, 0, 0, 0, 0, 0, 0, 0, 0, 0, 0, 0, 0, 0, 0, 0, 0, 0, 0, 0, 0, 0, 0, 0, 0, 0, 0, 0, 0, 0, 0, 0, 0, 0, 0, 0, 0, 0, 0, 0, 0, 0, 0, 0, 0, 0, 0, 0, 0, 0, 0, 0, 0, 0, 0, 0, 0, 0, 0, 0, 0, 0, 0, 0, 0, 0, 0, 0, 0, 0, 0, 0, 0, 0, 0, 0, 0, 0, 0, 0, 0, 0, 0, 0, 0, 0, 0, 0, 0, 0, 0, 0, 0, 0, 0, 0, 0, 0, 0, 0, 0, 0, 0, 0, 0, 0, 0, 0, 0, 0, 0, 0, 0, 0, 0, 0, 0, 0, 0, 0, 0, 0, 0, 0, 0, 0, 0, 0, 0, 0, 0, 0, 0, 0, 0, 0, 0, 0, 0, 0, 0, 0, 0, 0, 0, 0, 0, 0, 0, 0, 0, 0, 0, 0, 0, 0, 0, 0, 0, 0, 0, 0, 0, 0, 0, 0, 0, 0, 0, 0, 0, 0, 0, 0, 0, 0, 0, 0, 0, 0, 0, 0, 0, 0, 0, 0, 0, 0, 0, 0, 0, 0, 0, 0, 0, 0, 0, 0, 0, 0, 0, 0, 0, 0, 0, 0, 0, 0, 0, 0, 0, 0, 0, 0, 0, 0, 0, 0, 0, 0, 0, 0, 0, 0, 0, 0, 0, 0, 0, 0, 0, 0, 0, 0, 0, 0, 0, 0, 0, 0, 0, 0, 0, 0, 0, 0, 0, 0, 0, 0, 0, 0, 0, 0, 0, 0, 0, 0, 0, 0, 0, 0, 0, 0, 0, 0, 0, 0, 0, 0, 0, 0, 0, 0, 0, 0, 0, 0, 0, 0, 0, 0, 0, 0, 0, 0, 0, 0, 0, 0, 0, 0, 0, 0, 0, 0, 0, 0, 0, 0, 0, 0, 0, 0, 0, 0, 0, 0, 0, 0, 0, 0, 0, 0, 0, 0, 0, 0, 0, 0, 0, 0, 0, 0, 0, 0, 0, 0, 0, 0, 0, 0, 0, 0, 0, 0, 0, 0, 0, 0, 0, 0, 0, 0, 0, 0, 0, 0, 0, 0, 0, 0, 0, 0, 0, 0, 0, 0, 0, 0, 0, 0, 0, 0, 0, 0, 1, 0, 0, 0, 0, 0, 0, 0, 0, 0, 0, 0, 0, 0, 0, 0, 0, 0, 0, 0, 0, 0, 0, 0, 0, 0, 0, 0, 0, 0, 0, 0, 0, 0, 0, 0, 0, 0, 0, 0, 0, 0, 0, 0, 0, 0, 0, 0, 0, 0, 0, 0, 0, 0, 0, 0, 0, 0, 0, 0, 0, 0, 0, 0, 0, 0, 0, 0, 0, 0, 0, 0, 0, 0, 0, 0, 0, 0, 0, 0, 0, 0, 0, 0, 0, 0, 0, 0, 0, 0, 0, 0, 0, 0, 0, 0, 0, 0, 0, 0, 0, 0, 0, 0, 0, 0, 0, 0, 0, 0, 0, 2, 0, 0, 0, 0, 0, 0, 0, 0, 0, 0, 0, 0, 0, 0, 0, 0, 0, 0, 0, 0, 0, 0, 0, 0, 0, 0, 0, 0, 0, 0, 0, 0, 0, 0, 0, 0, 0, 0, 0, 0, 0, 0, 0, 0, 0, 0, 0, 0, 0, 0, 0, 0, 0, 0, 0, 0, 0, 0, 0, 0, 0, 0, 0, 0, 0, 0, 0, 0, 0, 0, 0, 0, 0, 0, 0, 0, 0, 0, 0, 0, 0, 0, 0, 0, 0, 0, 0, 0, 0, 0, 0, 0, 0, 0, 0, 0, 0, 0, 0, 0, 0, 0, 0, 0, 0, 0, 0, 0, 0, 0, 0, 0, 0, 0, 0, 0, 0, 0, 0, 0, 0, 0, 0, 0, 0, 0, 0, 0, 0, 0, 0, 0, 0, 0, 0, 0, 0, 0, 0, 0, 0, 0, 0, 0, 0, 0, 0, 0, 0, 0, 0, 0, 0, 0, 0, 0, 0, 0, 0, 0, 0, 0, 0, 0, 0, 0, 0, 0, 0, 0, 0, 0, 0, 0, 0, 0, 0, 0, 0, 0, 0, 0, 0, 0, 0, 0, 0, 0, 0, 0, 0, 0, 0, 0, 0, 0, 0, 0, 0, 0, 0, 0, 0, 0, 0, 0, 0, 0, 0, 0, 0, 0, 0, 0, 0, 0, 0, 0, 0, 0, 0, 0, 0, 0, 0, 0, 0, 0, 0, 0, 0, 0, 0, 0, 0, 0, 0, 0, 0, 0, 0, 0, 0, 0, 0, 0, 0, 0, 0, 0, 0, 0, 0, 0, 0, 0, 0, 0, 0, 0, 0, 0, 0, 0, 0, 0, 0, 0, 0, 0, 0, 0, 0, 0, 0, 0, 0, 0, 0, 0, 0, 0, 0, 0, 0, 0, 0, 0, 0, 0, 0, 0, 0, 0, 0, 0, 0, 0, 0, 0, 0, 0, 0, 0, 0, 0, 0, 0, 0, 0, 0, 0, 0, 0, 0, 0, 0, 0, 0, 0, 0, 0, 0, 0, 0, 0, 0, 0, 0, 0, 0, 0, 0, 0, 0, 0, 0, 0, 0, 0, 0, 0, 0, 0, 0, 0, 0, 0, 0, 0, 0, 0, 0, 0, 0, 0, 0, 0, 0, 0, 0, 0, 0, 0, 0, 0, 0, 0, 0, 0, 0, 0, 0, 0, 0, 0, 0, 0, 0, 0, 0, 0, 0, 0, 0, 0, 0, 0, 0, 0, 0, 0, 0, 0, 0, 0, 0, 0, 0, 0, 0, 0, 0, 0, 0, 0, 0, 0, 0, 0, 0, 0, 0, 0, 0, 0, 0, 0, 0, 0, 0, 0, 0, 0, 0, 0, 0, 0, 0, 0, 0, 0, 0, 0, 0, 0, 0, 0, 0, 0, 0, 0, 0, 0, 0, 0, 0, 0, 0, 0, 0, 0, 0, 0, 0, 0, 0, 0, 0, 0, 0, 0, 0, 0, 0, 0, 0, 0, 0, 0, 0, 0, 0, 0, 0, 0, 0, 0, 0, 0, 0, 0, 0, 0, 0, 0, 0, 0, 0, 0, 0, 0, 0, 0, 0, 0, 0, 0, 0, 0, 0, 0, 0, 0, 0, 0, 0, 0, 0, 0, 0, 0, 0, 0, 0, 0, 0, 0, 0, 0, 0, 0, 0, 0, 0, 0, 0, 0, 0, 0, 0, 0, 0, 0, 0, 0, 0, 0, 0, 0, 0, 0, 0, 0, 0, 0, 0, 0, 0, 0, 0, 0, 0, 0, 0, 0, 0, 0, 0, 0, 0, 0, 0, 0, 0, 0, 0, 0, 0, 0, 0, 0, 0, 0, 0, 0, 0, 0, 0, 0, 0, 0, 0, 0, 0, 0, 0, 0, 0, 0, 0, 0, 0, 0, 0, 0, 0, 0, 0, 0, 0, 0, 0, 0, 0, 0, 0, 0, 0, 0, 0, 0, 0, 0, 0, 0, 0, 0, 0, 0, 0, 0, 0, 0, 0, 0, 0, 0, 0, 0, 0, 0, 0, 0, 0, 0, 0, 0, 0, 0, 0, 0, 0, 0, 0, 0, 0, 0, 0, 0, 0, 0, 0, 0, 0, 0, 0, 0, 0, 0, 0, 0, 0, 0, 0, 0, 0, 0, 0, 0, 0, 0, 0, 0, 0, 0, 0, 0, 0, 0, 0, 0, 0, 0, 0, 0, 0, 0, 0, 0, 1, 0, 0, 0, 0, 0, 0, 0, 0, 0, 0, 0, 0, 0, 0, 0, 0, 0, 0, 0, 0, 0, 0, 0, 0, 0, 0, 0, 0, 0, 0, 0, 0, 0, 0, 0, 0, 0, 0, 0, 0, 0, 0, 0, 0, 0, 0, 0, 0, 0, 0, 0, 0, 0, 0, 0, 0, 0, 0, 0, 0, 0, 0, 0, 0, 0, 0, 0, 0, 0, 0, 0, 0, 0, 0, 0, 0, 0, 0, 0, 0, 0, 0, 0, 0, 0, 0, 0, 0, 0, 0, 0, 0, 0, 0, 0, 0, 0, 0, 0, 0, 0, 0, 0, 0, 0, 0, 0, 1, 0, 0, 0, 0, 0, 0, 0, 0, 0, 0, 0, 0, 0, 0, 0, 0, 0, 0, 0, 0, 0, 0, 0, 0, 0, 0, 0, 0, 0, 0, 0, 0, 0, 0, 0, 0, 0, 0, 0, 0, 0, 0, 0, 0, 0, 0, 0, 0, 0, 0, 0, 0, 0, 0, 0, 0, 0, 0, 0, 0, 0, 0, 0, 0, 0, 0, 0, 0, 0, 0, 0, 0, 0, 0, 0, 0, 0, 0, 0, 0, 0, 0, 0, 0, 0, 0, 0, 0, 0, 0, 0, 0, 0, 0, 0, 0, 0, 0, 0, 0, 0, 0, 0, 0, 0, 0, 0, 0, 0, 0, 0, 0, 0, 0, 0, 0, 0, 0, 0, 0, 0, 0, 0, 0, 0, 0, 0, 0, 0, 0, 0, 0, 0, 0, 0, 0, 0, 0, 0, 0, 0, 0, 0, 0, 0, 0, 0, 0, 0, 0, 0, 0, 0, 0, 0, 0, 0, 0, 0, 0, 0, 0, 0, 0, 0, 0, 0, 0, 0, 0, 0, 0, 0, 0, 0, 0, 0, 0, 0, 0, 0, 0, 0, 0, 0, 0, 0, 0, 0, 0, 0, 0, 0, 0, 0, 0, 0, 0, 0, 0, 0, 0, 0, 0, 0, 0, 0, 0, 0, 0, 0, 0, 0, 0, 0, 0, 0, 0, 0, 0, 0, 0, 0, 0, 0, 0, 0, 0, 0, 0, 0, 0, 0, 0, 0, 0, 0, 0, 0, 0, 0, 0, 0, 0, 0, 0, 0, 0, 0, 0, 0, 0, 0, 0, 0, 0, 0, 0, 0, 0, 0, 0, 0, 0, 0, 0, 0, 0, 0, 0, 0, 0, 0, 0, 0, 0, 0, 0, 0, 0, 0, 0, 0, 0, 0, 0, 0, 0, 0, 0, 0, 0, 0, 0, 0, 0, 0, 0, 0, 0, 0, 0, 0, 0, 0, 0, 0, 0, 0, 0, 0, 0, 0, 0, 0, 0, 0, 0, 0, 0, 0, 0, 0, 0, 0, 0, 0, 0, 0, 0, 0, 0, 0, 0, 0, 0, 0, 0, 0, 0, 0, 0, 0, 0, 0, 0, 0, 0, 0, 0, 0, 0, 0, 0, 0, 0, 0, 0, 0, 0, 0, 0, 0, 0, 0, 0, 0, 0, 0, 0, 0, 0, 0, 0, 0, 0, 0, 0, 0, 0, 0, 0, 0, 0, 0, 0, 0, 0, 0, 0, 0, 0, 0, 0, 0, 0, 0, 0, 0, 0, 0, 0, 0, 0, 0, 0, 0, 0, 0, 0, 0, 0, 0, 0, 0, 0, 0, 0, 0, 0, 0, 0, 0, 0, 0, 0, 0, 0, 0, 0, 0, 0, 0, 0, 0, 0, 0, 0, 0, 0, 0, 0, 0, 0, 0, 0, 0, 0, 0, 0, 0, 0, 0, 0, 0, 0, 0, 0, 0, 0, 0, 0, 0, 2, 0, 1, 0], type: <class 'list'>, valid types: <class 'bytes'>, <class 'bytearray'>, file-like object"
     ]
    }
   ],
   "source": [
    "response = runtime.invoke_endpoint(EndpointName = xgb_predictor.endpoint, # The name of the endpoint we created\n",
    "                                       ContentType = 'text/csv',                     # The data format that is expected\n",
    "                                       Body = test_bow)"
   ]
  },
  {
   "cell_type": "markdown",
   "metadata": {},
   "source": [
    "So why did we get an error?\n",
    "\n",
    "Because we tried to send the endpoint a list of integers but it expected us to send data of type `text/csv`. So, we need to convert it."
   ]
  },
  {
   "cell_type": "code",
   "execution_count": 45,
   "metadata": {},
   "outputs": [],
   "source": [
    "response = runtime.invoke_endpoint(EndpointName = xgb_predictor.endpoint, # The name of the endpoint we created\n",
    "                                       ContentType = 'text/csv',                     # The data format that is expected\n",
    "                                       Body = ','.join([str(val) for val in test_bow]).encode('utf-8'))"
   ]
  },
  {
   "cell_type": "code",
   "execution_count": 46,
   "metadata": {},
   "outputs": [
    {
     "name": "stdout",
     "output_type": "stream",
     "text": [
      "{'ResponseMetadata': {'RequestId': '705a6de4-98cd-4cb3-8681-11e08bee9695', 'HTTPStatusCode': 200, 'HTTPHeaders': {'x-amzn-requestid': '705a6de4-98cd-4cb3-8681-11e08bee9695', 'x-amzn-invoked-production-variant': 'AllTraffic', 'date': 'Fri, 1 May 2020 12:51:40 GMT', 'content-type': 'text/csv; charset=utf-8', 'content-length': '14'}, 'RetryAttempts': 0}, 'ContentType': 'text/csv; charset=utf-8', 'InvokedProductionVariant': 'AllTraffic', 'Body': <botocore.response.StreamingBody object at 0x7fd3385f58d0>}\n"
     ]
    }
   ],
   "source": [
    "print(response)"
   ]
  },
  {
   "cell_type": "markdown",
   "metadata": {},
   "source": [
    "As we can see, the response from our model is a somewhat complicated looking dict that contains a bunch of information. The bit that we are most interested in is `'Body'` object which is a streaming object that we need to `read` in order to make use of."
   ]
  },
  {
   "cell_type": "code",
   "execution_count": 47,
   "metadata": {},
   "outputs": [
    {
     "name": "stdout",
     "output_type": "stream",
     "text": [
      "0.393617153168\n"
     ]
    }
   ],
   "source": [
    "response = response['Body'].read().decode('utf-8')\n",
    "print(response)"
   ]
  },
  {
   "cell_type": "markdown",
   "metadata": {},
   "source": [
    "Now that we know how to process the incoming user data we can start setting up the infrastructure to make our simple web app work. To do this we will make use of two different services. Amazon's Lambda and API Gateway services.\n",
    "\n",
    "Lambda is a service which allows someone to write some relatively simple code and have it executed whenever a chosen trigger occurs. For example, you may want to update a database whenever new data is uploaded to a folder stored on S3.\n",
    "\n",
    "API Gateway is a service that allows you to create HTTP endpoints (url addresses) which are connected to other AWS services. One of the benefits to this is that you get to decide what credentials, if any, are required to access these endpoints.\n",
    "\n",
    "In our case we are going to set up an HTTP endpoint through API Gateway which is open to the public. Then, whenever anyone sends data to our public endpoint we will trigger a Lambda function which will send the input (in our case a review) to our model's endpoint and then return the result."
   ]
  },
  {
   "cell_type": "markdown",
   "metadata": {},
   "source": [
    "### Setting up a Lambda function\n",
    "\n",
    "The first thing we are going to do is set up a Lambda function. This Lambda function will be executed whenever our public API has data sent to it. When it is executed it will receive the data, perform any sort of processing that is required, send the data (the review) to the SageMaker endpoint we've created and then return the result.\n",
    "\n",
    "#### Part A: Create an IAM Role for the Lambda function\n",
    "\n",
    "Since we want the Lambda function to call a SageMaker endpoint, we need to make sure that it has permission to do so. To do this, we will construct a role that we can later give the Lambda function.\n",
    "\n",
    "Using the AWS Console, navigate to the **IAM** page and click on **Roles**. Then, click on **Create role**. Make sure that the **AWS service** is the type of trusted entity selected and choose **Lambda** as the service that will use this role, then click **Next: Permissions**.\n",
    "\n",
    "In the search box type `sagemaker` and select the check box next to the **AmazonSageMakerFullAccess** policy. Then, click on **Next: Review**.\n",
    "\n",
    "Lastly, give this role a name. Make sure you use a name that you will remember later on, for example `LambdaSageMakerRole`. Then, click on **Create role**."
   ]
  },
  {
   "cell_type": "markdown",
   "metadata": {},
   "source": [
    "#### Part B: Create a Lambda function\n",
    "\n",
    "Now it is time to actually create the Lambda function. Remember from earlier that in order to process the user provided input and send it to our endpoint we need to gather two pieces of information:\n",
    "\n",
    " - The name of the endpoint, and\n",
    " - the vocabulary object.\n",
    "\n",
    "We will copy these pieces of information to our Lambda function after we create it.\n",
    "\n",
    "To start, using the AWS Console, navigate to the AWS Lambda page and click on **Create a function**. When you get to the next page, make sure that **Author from scratch** is selected. Now, name your Lambda function, using a name that you will remember later on, for example `sentiment_analysis_xgboost_func`. Make sure that the **Python 3.6** runtime is selected and then choose the role that you created in the previous part. Then, click on **Create Function**.\n",
    "\n",
    "On the next page you will see some information about the Lambda function you've just created. If you scroll down you should see an editor in which you can write the code that will be executed when your Lambda function is triggered. Collecting the code we wrote above to process a single review and adding it to the provided example `lambda_handler` we arrive at the following.\n",
    "\n",
    "```python\n",
    "# We need to use the low-level library to interact with SageMaker since the SageMaker API\n",
    "# is not available natively through Lambda.\n",
    "import boto3\n",
    "\n",
    "# And we need the regular expression library to do some of the data processing\n",
    "import re\n",
    "\n",
    "REPLACE_NO_SPACE = re.compile(\"(\\.)|(\\;)|(\\:)|(\\!)|(\\')|(\\?)|(\\,)|(\\\")|(\\()|(\\))|(\\[)|(\\])\")\n",
    "REPLACE_WITH_SPACE = re.compile(\"(<br\\s*/><br\\s*/>)|(\\-)|(\\/)\")\n",
    "\n",
    "def review_to_words(review):\n",
    "    words = REPLACE_NO_SPACE.sub(\"\", review.lower())\n",
    "    words = REPLACE_WITH_SPACE.sub(\" \", words)\n",
    "    return words\n",
    "    \n",
    "def bow_encoding(words, vocabulary):\n",
    "    bow = [0] * len(vocabulary) # Start by setting the count for each word in the vocabulary to zero.\n",
    "    for word in words.split():  # For each word in the string\n",
    "        if word in vocabulary:  # If the word is one that occurs in the vocabulary, increase its count.\n",
    "            bow[vocabulary[word]] += 1\n",
    "    return bow\n",
    "\n",
    "\n",
    "def lambda_handler(event, context):\n",
    "    \n",
    "    vocab = \"*** ACTUAL VOCABULARY GOES HERE ***\"\n",
    "    \n",
    "    words = review_to_words(event['body'])\n",
    "    bow = bow_encoding(words, vocab)\n",
    "\n",
    "    # The SageMaker runtime is what allows us to invoke the endpoint that we've created.\n",
    "    runtime = boto3.Session().client('sagemaker-runtime')\n",
    "\n",
    "    # Now we use the SageMaker runtime to invoke our endpoint, sending the review we were given\n",
    "    response = runtime.invoke_endpoint(EndpointName = '***ENDPOINT NAME HERE***',# The name of the endpoint we created\n",
    "                                       ContentType = 'text/csv',                 # The data format that is expected\n",
    "                                       Body = ','.join([str(val) for val in bow]).encode('utf-8')) # The actual review\n",
    "\n",
    "    # The response is an HTTP response whose body contains the result of our inference\n",
    "    result = response['Body'].read().decode('utf-8')\n",
    "    \n",
    "    # Round the result so that our web app only gets '1' or '0' as a response.\n",
    "    result = round(float(result))\n",
    "\n",
    "    return {\n",
    "        'statusCode' : 200,\n",
    "        'headers' : { 'Content-Type' : 'text/plain', 'Access-Control-Allow-Origin' : '*' },\n",
    "        'body' : str(result)\n",
    "    }\n",
    "```"
   ]
  },
  {
   "cell_type": "markdown",
   "metadata": {},
   "source": [
    "Once you have copy and pasted the code above into the Lambda code editor, replace the `**ENDPOINT NAME HERE**` portion with the name of the endpoint that we deployed earlier. You can determine the name of the endpoint using the code cell below."
   ]
  },
  {
   "cell_type": "code",
   "execution_count": 48,
   "metadata": {},
   "outputs": [
    {
     "data": {
      "text/plain": [
       "'xgboost-2020-05-01-11-27-39-813'"
      ]
     },
     "execution_count": 48,
     "metadata": {},
     "output_type": "execute_result"
    }
   ],
   "source": [
    "xgb_predictor.endpoint"
   ]
  },
  {
   "cell_type": "markdown",
   "metadata": {},
   "source": [
    "In addition, you will need to copy the vocabulary dict to the appropriate place in the code at the beginning of the `lambda_handler` method. The cell below prints out the vocabulary dict in a way that is easy to copy and paste."
   ]
  },
  {
   "cell_type": "code",
   "execution_count": 49,
   "metadata": {},
   "outputs": [
    {
     "name": "stdout",
     "output_type": "stream",
     "text": [
      "{'jack': 2373, 'is': 2360, 'really': 3556, 'cool': 989, 'movie': 2926, 'funny': 1852, 'its': 2370, 'violent': 4748, 'and': 226, 'very': 4723, 'enjoyable': 1485, 'most': 2909, 'people': 3221, 'say': 3799, 'that': 4424, 'it': 2366, 'rated': 3527, 'but': 636, 'couldnt': 1008, 'be': 418, 'from': 1840, 'the': 4426, 'truth': 4599, 'has': 2043, 'great': 1964, 'special': 4097, 'effects': 1431, 'good': 1937, 'acting': 99, 'only': 3110, 'weird': 4841, 'thing': 4450, 'of': 3083, 'course': 1019, 'killer': 2470, 'think': 4452, 'this': 4457, 'was': 4805, 'actually': 109, 'one': 3107, 'best': 469, 'films': 1721, 'late': 2523, 'these': 4441, 'days': 1130, 'lack': 2502, 'master': 2757, 'piece': 3272, 'original': 3129, 'give': 1912, 'viewer': 4738, 'what': 4858, 'they': 4442, 'do': 1302, 'not': 3040, 'expect': 1575, '10': 0, 'out': 3141, 'grade': 1951, 'ed': 1415, 'also': 199, 'uncle': 4636, 'sam': 3777, 'to': 4507, 'fans': 1650, 'must': 2950, 'issue': 2364, 'plot': 3309, 'all': 187, 'wannabe': 4787, 'filmmakers': 1720, 'at': 331, 'hollywood': 2137, 'bus': 631, 'station': 4164, 'then': 4436, 'fill': 1714, 'in': 2257, 'set': 3898, 'their': 4431, 'story': 4207, 'whatever': 4859, 'town': 4541, 'or': 3124, 'urban': 4688, 'which': 4867, 'just': 2437, 'arrived': 301, 'you': 4986, 'know': 2489, 'exactly': 1551, 'about': 67, 'opening': 3114, 'shot': 3949, 'four': 1812, 'young': 4989, 'boys': 559, 'playing': 3300, 'slow': 4031, 'motion': 2913, 'accompanied': 86, 'by': 642, 'voice': 4761, 'over': 3148, 'narration': 2965, 'next': 3007, 'stop': 4201, 'after': 143, 'buy': 640, 'stock': 4193, 'footage': 1782, 'once': 3106, 'theyre': 4445, 'grown': 1984, 'easy': 1410, 'spot': 4131, 'writer': 4968, 'director': 1264, 'among': 217, 'hes': 2093, 'quiet': 3492, 'long': 2644, 'who': 4871, 'never': 3001, 'seen': 3865, 'without': 4913, 'his': 2118, 'book': 535, 'pants': 3182, 'means': 2783, 'superb': 4296, 'writing': 4971, 'talent': 4354, 'will': 4886, 'ticket': 4487, 'theres': 4440, 'no': 3020, 'directing': 1260, 'on': 3105, 'display': 1291, 'here': 2086, 'if': 2222, 'still': 4188, 'cant': 671, 'figure': 1711, 'he': 2056, 'heres': 2087, 'hint': 2112, 'character': 758, 'have': 2052, 'same': 3778, 'middle': 2833, 'name': 2960, 'took': 4523, 'an': 223, 'hour': 2176, 'twenty': 4612, 'something': 4066, 'men': 2805, 'were': 4848, 'supposed': 4306, 'high': 2100, 'school': 3813, 'looked': 2647, 'like': 2599, 'prison': 3401, 'apparently': 270, 'turned': 4606, 'principal': 3398, 'more': 2904, 'poor': 3328, 'rebel': 3561, 'can': 665, 'everyone': 1542, 'into': 2332, 'murder': 2939, 'stand': 4143, 'up': 4683, 'alcoholic': 177, 'father': 1666, 'how': 2181, 'hitting': 2126, 'back': 378, 'kid': 2464, 'else': 1448, 'numerous': 3062, 'fight': 1707, 'scenes': 3811, 'for': 1784, 'apparent': 269, 'purpose': 3474, 'bad': 382, 'dialogue': 1234, 'many': 2732, 'badly': 383, 'focus': 1766, 'cartoon': 704, 'characters': 760, 'keep': 2449, 'as': 311, 'bit': 488, 'players': 3299, 'extras': 1608, 'drawing': 1350, 'unintentional': 4658, 'laughs': 2534, 'audience': 352, 'overacting': 3149, 'extreme': 1609, 'dont': 1324, 'quite': 3495, 'get': 1899, 'self': 3869, 'important': 2247, 'listen': 2619, 'music': 2946, 'clue': 864, 'youre': 4992, 'feel': 1684, 'ryan': 3765, 'lots': 2662, 'frequent': 1831, 'she': 3923, 'travels': 4569, 'around': 297, 'country': 1014, 'working': 4944, 'amateur': 206, 'biggest': 480, 'sin': 3988, 'sympathy': 4343, 'kids': 2467, 'gun': 1996, 'down': 1335, 'old': 3100, 'ladies': 2506, 'run': 3755, 'tree': 4576, 'rob': 3710, 'steal': 4170, 'while': 4868, 'sad': 3767, 'sorry': 4076, 'lives': 2628, 'we': 4823, 'could': 1007, 'go': 1924, 'college': 875, 'yeah': 4977, 'thats': 4425, 'why': 4878, 'every': 1539, 'filmmaker': 1719, 'believes': 456, 'life': 2592, 'so': 4046, 'far': 1653, 'interesting': 2325, 'world': 4946, 'wait': 4770, 'see': 3855, 'seems': 3864, 'better': 472, 'looking': 2648, 'when': 4862, 'learned': 2551, 'sir': 4000, 'death': 1141, 'first': 1736, 'thought': 4462, 're': 3535, 'seeing': 3857, 'wonderful': 4928, 'commentary': 899, 'film': 1716, 'provides': 3450, 'even': 1533, 'years': 4979, 'helps': 2082, 'charm': 767, 'frame': 1815, 'eyes': 1613, 'face': 1616, 'are': 285, 'white': 4870, 'suit': 4284, 'wears': 4832, 'both': 547, 'considered': 951, 'lifetime': 2594, 'favorites': 1672, 'kudos': 2497, 'drama': 1346, 'action': 100, 'romance': 3732, 'scene': 3809, 'make': 2713, 'laugh': 2529, 'love': 2669, 'japanese': 2382, 'american': 213, 'lord': 2652, 'presentation': 3375, 'especially': 1520, 'uses': 4697, 'language': 2516, 'english': 1483, 'movies': 2927, 'watch': 4811, 'believe': 454, 'hardy': 2037, 'already': 197, 'two': 4620, 'comic': 893, 'genius': 1887, 'today': 4508, '70': 55, 'ago': 154, 'word': 4937, 'either': 1438, 'mouth': 2920, 'able': 66, 'audiences': 353, 'comedy': 890, 'wasnt': 4807, 'sophisticated': 4075, 'any': 256, 'stretch': 4221, 'reason': 3557, 'stuff': 4243, 'guys': 2001, 'did': 1241, 'time': 4495, 'laughed': 2532, 'guess': 1989, 'takes': 4351, 'simple': 3983, 'mind': 2849, 'enjoy': 1484, 'man': 2721, 'too': 4522, 'arent': 288, 'nice': 3008, 'with': 4911, 'doesnt': 1309, 'suck': 4269, 'enough': 1491, 'merit': 2816, 'watching': 4815, 'instead': 2307, 'past': 3207, 'parts': 3199, 'having': 2054, 'those': 4460, 'worth': 4953, 'picking': 3267, 'her': 2085, 'themes': 4434, 'girl': 1909, 'sound': 4081, 'familiar': 1643, 'should': 3951, 'because': 432, 'wrote': 4974, 'screenplay': 3831, 'classic': 835, 'prefer': 3368, 'unlike': 4670, 'jean': 2389, 'accept': 80, 'kind': 2476, 'leaves': 2556, 'road': 3709, 'side': 3965, 'house': 2178, 'mother': 2911, 'shes': 3930, 'decided': 1149, 'way': 4820, 'gain': 1863, 'marry': 2745, 'talents': 4356, 'chorus': 803, 'limited': 2606, 'shell': 3927, 'trade': 4547, 'beauty': 430, 'starts': 4159, 'friend': 1835, 'kelly': 2452, 'getting': 1901, 'perform': 3227, 'party': 3200, 'thrown': 4481, 'lewis': 2586, 'stone': 4197, 'stones': 4198, 'wild': 4885, 'last': 2521, 'before': 440, 'doing': 1312, 'himself': 2111, 'few': 1700, 'him': 2110, 'fellow': 1691, 'until': 4680, 'sets': 3899, 'son': 4070, 'tone': 4517, 'looks': 2649, 'shake': 3914, 'family': 1645, 'went': 4847, 'production': 3419, 'mid': 2832, 'code': 869, 'under': 4639, 'ive': 2372, 'feeling': 1685, 'would': 4957, 'much': 2934, 'younger': 4990, 'version': 4720, 'west': 4852, 'always': 203, 'appreciated': 280, 'woman': 4921, 'had': 2003, 'loss': 2659, 'passing': 3204, 'three': 4469, 'later': 2525, 'ironically': 2356, 'casting': 711, 'doubt': 1332, 'influenced': 2287, 'successful': 4266, 'shorts': 3948, 'making': 2718, 'another': 250, 'famous': 1647, 'blonde': 511, 'todd': 4510, 'chemistry': 782, 'between': 475, 'die': 1243, 'year': 4978, 'freak': 1824, 'accident': 84, 'suicide': 4283, 'explanation': 1590, 'ever': 1538, 'been': 438, 'given': 1913, 'miss': 2866, 'bright': 581, 'elements': 1443, 'point': 3316, 'reaction': 3541, 'truly': 4597, 'magnificent': 2705, 'imagine': 2238, 'poster': 3353, 'suggested': 4281, 'trying': 4601, 'hold': 2129, 'laughter': 2535, 'during': 1387, 'made': 2697, 'seem': 3861, 'evil': 1548, 'smiling': 4037, 'possibly': 3351, 'dying': 1393, 'look': 2646, 'cross': 1066, 'horrific': 2166, 'comedic': 888, 'ball': 388, 'hardly': 2036, 'choose': 799, 'meet': 2793, 'dark': 1115, 'matter': 2769, 'anywhere': 263, 'true': 4596, 'mystery': 2956, 'hey': 2095, 'short': 3946, 'whos': 4876, 'going': 1931, 'complain': 919, 'huge': 2185, 'fan': 1648, 'series': 3890, 'waiting': 4772, 'addition': 118, 'episode': 1507, 'im': 2232, 'afraid': 140, 'does': 1308, 'live': 2625, 'legend': 2564, 'returns': 3668, 'daughters': 1122, 'wedding': 4836, 'gets': 1900, 'involved': 2346, 'investigation': 2343, 'soldier': 4053, 'flash': 1745, 'tour': 4538, 'duty': 1390, 'goes': 1930, 'killing': 2472, 'extremely': 1610, 'led': 2558, 'murderer': 2941, 'fat': 1663, 'fetched': 1698, 'there': 4438, 'however': 2183, 'some': 4061, 'filmed': 1717, 'totally': 4532, 'comments': 901, 'said': 3774, 'sucked': 4270, 'mean': 2779, 'development': 1225, 'strange': 4211, 'changed': 750, 'innocent': 2294, 'fun': 1848, 'seeking': 3859, 'chick': 786, 'convincing': 985, 'reasons': 3560, 'actresses': 106, 'being': 448, 'students': 4239, '30': 42, 'rest': 3657, 'watched': 4813, 'ten': 4399, 'minutes': 2859, 'started': 4157, 'fast': 1661, 'sex': 3907, 'lame': 2510, 'importantly': 2248, 'laughable': 2530, 'considering': 952, 'clothes': 860, 'yourself': 4993, 'favor': 1670, 'put': 3480, 'save': 3794, 'bucks': 606, 'conclusion': 936, 'score': 3822, 'personally': 3243, 'disney': 1289, 'my': 2951, 'though': 4461, 'absolutely': 72, 'none': 3028, 'them': 4432, 'match': 2762, 'although': 201, 'wouldnt': 4958, 'animation': 242, 'improvement': 2256, 'dress': 1357, 'war': 4792, 'sent': 3880, 'stay': 4166, 'silent': 3975, 'awkward': 374, 'brilliant': 583, 'angela': 232, 'perfect': 3224, 'price': 3389, 'david': 1124, 'desperate': 1208, 'interest': 2323, 'endings': 1472, 'surprise': 4312, 'me': 2778, 'exception': 1557, 'neither': 2996, 'happy': 2032, 'nor': 3032, 'dialog': 1232, 'designed': 1203, 'alright': 198, 'overall': 3150, 'performance': 3228, 'nine': 3017, 'six': 4010, 'costumes': 1006, 'eight': 1436, 'recently': 3567, 'viewed': 4737, 'decades': 1145, 'descent': 1193, 'heard': 2062, 'negative': 2991, 'than': 4420, 'other': 3135, 'friends': 1837, 'mine': 2853, 'contrast': 975, 'unique': 4662, 'rape': 3521, 'revenge': 3675, 'full': 1846, 'gore': 1941, 'your': 4991, 'grave': 1962, 'accused': 91, 'points': 3319, 'offers': 3090, 'us': 4690, 'anything': 260, 'new': 3003, 'terms': 4406, 'meaning': 2780, 'poorly': 3329, 'picture': 3269, 'quality': 3484, 'significant': 3972, 'message': 2819, 'hope': 2155, 'closely': 855, 'isnt': 2362, 'pretty': 3384, 'knew': 2486, 'wanted': 4789, 'big': 478, 'away': 369, 'slowly': 4032, 'portrayal': 3341, 'brings': 587, 'taxi': 4371, 'driver': 1366, 'unfortunately': 4654, 'script': 3834, 'writers': 4969, 'choices': 798, 'provide': 3448, 'sort': 4077, 'believable': 453, 'transition': 4561, 'failure': 1629, 'second': 3846, 'act': 97, 'became': 431, 'obvious': 3071, 'intentions': 2321, 'segment': 3867, 'club': 863, 'drug': 1373, 'use': 4692, 'obsession': 3070, 'black': 493, 'nightmare': 3014, 'dvd': 1391, 'hell': 2077, 'half': 2007, 'audio': 354, 'video': 4733, 'again': 146, 'help': 2079, 'sequence': 3887, 'damn': 1100, 'pointless': 3318, 'lead': 2545, 'otherwise': 3137, 'exceptionally': 1559, 'well': 4843, 'done': 1322, 'finale': 1723, 'our': 3139, 'success': 4265, 'dawson': 1128, 'end': 1468, 'realize': 3552, 'drawn': 1351, 'ugly': 4625, 'reality': 3551, 'certainly': 738, 'intriguing': 2335, 'check': 777, 'excellent': 1555, 'minute': 2858, 'plus': 3311, 'energy': 1478, 'show': 3953, 'crack': 1027, 'added': 116, 'third': 4455, 'cut': 1089, 'might': 2835, 'psychological': 3458, 'study': 4242, 'impact': 2244, 'senseless': 3878, 'acts': 107, 'violence': 4747, 'stands': 4147, 'final': 1722, 'weve': 4856, 'graphic': 1958, 'little': 2624, 'found': 1811, 'terrible': 4407, 'moved': 2922, 'entertaining': 1499, 'liked': 2600, 'opinion': 3118, 'alone': 194, '45': 50, 'marriage': 2743, 'solve': 4060, 'problem': 3408, 'refuses': 3587, 'allow': 189, 'itself': 2371, 'wife': 4884, 'used': 4693, 'based': 404, 'real': 3547, 'told': 4513, 'generation': 1883, 'nostalgic': 3039, 'where': 4864, 'felt': 1692, 'sense': 3877, 'responsibility': 3655, 'each': 1395, 'green': 1971, 'australian': 357, 'state': 4160, 'era': 1513, 'countryside': 1015, 'further': 1853, 'areas': 287, 'multiple': 2936, 'award': 366, 'winning': 4898, '15': 7, 'fine': 1729, 'beginning': 443, 'reel': 3581, 'aside': 315, 'obviously': 3072, 'come': 886, 'relatives': 3601, 'low': 2676, 'budget': 610, 'listed': 2618, 'imdb': 2240, 'lost': 2660, 'comes': 891, 'using': 4698, 'reviews': 3679, 'accurate': 90, 'eventually': 1537, 'rent': 3626, 'flick': 1754, 'things': 4451, 'understand': 4643, 'catch': 714, 'case': 707, 'term': 4405, 'thriller': 4472, 'read': 3543, 'thinks': 4454, 'deep': 1154, 'insight': 2298, 'human': 2188, 'soul': 4079, 'childhood': 790, 'wreck': 4965, 'become': 433, 'adults': 126, 'wow': 4962, 'bet': 470, 'impressed': 2251, 'makers': 2715, 'raised': 3508, 'horror': 2168, 'flicks': 1755, 'fail': 1625, 'dig': 1250, 'own': 3158, 'fresh': 1833, 'fall': 1637, 'pre': 3365, 'directors': 1266, 'came': 656, 'content': 966, 'tired': 4501, 'clichés': 846, 'borrowed': 545, 'dozen': 1338, 'result': 3660, 'unoriginal': 4673, 'uninspired': 4657, 'unbelievable': 4634, 'waste': 4808, 'ok': 3098, 'gotta': 1946, 'tell': 4395, 'ya': 4976, 'funniest': 1851, 'makes': 2716, 'crew': 1053, 'loud': 2664, 'stopped': 4202, 'five': 1743, 'double': 1331, 'beat': 423, 'hand': 2015, 'combat': 882, 'wooden': 4934, 'darkness': 1117, 'sci': 3815, 'fi': 1701, 'didnt': 1242, 'gotten': 1947, 'rise': 3702, 'lucy': 2684, 'tv': 4610, 'skip': 4016, 'right': 3696, 'travesty': 4570, 'tony': 4521, 'underground': 4640, 'starting': 4158, 'lose': 2654, 'pro': 3406, 'expectations': 1576, 'left': 2561, 'air': 164, 'different': 1248, 'introduced': 2337, 'whole': 4873, 'feature': 1678, 'off': 3084, 'now': 3054, 'sorts': 4078, 'levels': 2585, 'improved': 2255, 'length': 2569, 'level': 2584, 'designs': 1204, 'games': 1865, 'hidden': 2096, 'features': 1680, 'handful': 2017, 'pushed': 3478, 'limits': 2607, 'wondering': 4930, 'streets': 4217, 'fact': 1621, 'almost': 193, 'graphics': 1959, 'lot': 2661, 'game': 1864, 'con': 928, 'understandable': 4644, 'definitely': 1162, 'finish': 1732, 'within': 4912, 'day': 1129, 'refreshing': 3586, 'consider': 949, 'myself': 2953, 'fairy': 1632, 'tale': 4353, 'intrigued': 2334, 'michelle': 2830, 'trailers': 4555, 'villain': 4744, 'since': 3990, 'von': 4765, 'boy': 557, 'convincingly': 986, 'witch': 4909, 'age': 148, 'makeup': 2717, 'robert': 3713, 'de': 1131, 'niro': 3019, 'captain': 674, 'forced': 1787, 'hide': 2097, 'closet': 858, 'protect': 3443, 'reputation': 3640, 'actors': 104, 'claire': 831, 'danes': 1108, 'peter': 3247, 'others': 3136, 'work': 4940, 'stunning': 4244, 'faces': 1618, 'miller': 2846, 'grant': 1956, 'kate': 2446, 'charlie': 765, 'cox': 1026, 'early': 1400, 'ben': 463, 'compared': 912, 'princess': 3397, 'bride': 577, 'main': 2707, 'difference': 1246, 'part': 3193, 'hearing': 2063, 'happened': 2027, 'happens': 2029, 'throughout': 4478, 'note': 3044, 'highly': 2105, 'recommended': 3572, 'till': 4493, 'wish': 4904, 'caught': 722, 'scary': 3807, 'cable': 644, 'got': 1944, 'airplane': 166, 'leslie': 2574, 'youll': 4988, 'probably': 3407, 'heaven': 2068, 'usually': 4700, 'eye': 1611, 'candy': 668, 'teenage': 4389, 'box': 555, 'office': 3091, 'hit': 2122, 'week': 4837, 'enjoyed': 1486, 'times': 4497, 'odd': 3080, 'halloween': 2010, 'aliens': 184, '11': 2, 'dollars': 1315, 'spent': 4108, 'cash': 709, 'released': 3603, 'tape': 4365, 'saw': 3798, 'boring': 543, 'nothing': 3047, 'happening': 2028, 'happen': 2026, 'church': 813, 'dies': 1245, 'brought': 600, 'mom': 2885, 'idiot': 2218, 'dad': 1095, 'bring': 585, 'steven': 4182, 'kings': 2481, 'shining': 3933, 'comment': 898, 'awful': 372, 'wrong': 4973, 'thinking': 4453, 'person': 3238, 'job': 2405, 'kills': 2474, 'killers': 2471, 'dumb': 1385, 'general': 1880, 'area': 286, 'recommend': 3571, 'fifteen': 1706, 'maybe': 2776, 'deeper': 1155, 'humor': 2192, 'mature': 2773, 'months': 2897, 'attempt': 340, 'oscar': 3133, 'felix': 1689, 'cruel': 1070, 'personality': 3242, 'werent': 4849, 'amusing': 221, 'known': 2492, 'worried': 4949, 'oscars': 3134, 'antics': 255, 'push': 3477, 'edge': 1418, 'smile': 4036, 'television': 4394, 'greatest': 1966, 'comics': 895, 'problems': 3409, 'fully': 1847, 'understanding': 4645, 'stories': 4205, 'visual': 4757, 'style': 4249, 'dust': 1388, 'surprisingly': 4316, 'understood': 4647, 'decisions': 1152, 'cg': 739, 'close': 853, 'ups': 4686, 'gods': 1928, 'successfully': 4267, 'cult': 1077, 'shame': 3918, 'am': 204, 'chinese': 796, 'worst': 4952, 'except': 1556, 'horrible': 2163, 'directed': 1259, 'stick': 4185, 'business': 633, 'please': 3304, 'completely': 922, 'unconvincing': 4638, 'motivation': 2914, 'met': 2822, 'care': 684, 'less': 2575, 'expression': 1602, 'practically': 3362, 'changes': 751, 'downright': 1337, 'twice': 4613, 'least': 2554, 'erotic': 1515, 'yet': 4984, 'putting': 3482, 'sleep': 4024, 'busy': 635, 'regard': 3588, 'mr': 2929, 'glover': 1923, 'ms': 2931, 'goldberg': 1933, 'entire': 1502, 'idea': 2213, 'discussion': 1284, 'agreed': 156, 'efforts': 1433, 'hang': 2022, 'together': 4511, 'disappointed': 1273, 'waited': 4771, 'notes': 3046, 'money': 2888, 'unless': 4669, 'want': 4788, 'spend': 4105, 'evening': 1534, 'saying': 3800, 'hard': 2033, 'sell': 3871, 'telling': 4396, 'knows': 2493, 'history': 2121, 'etc': 1527, 'flat': 1748, 'hideous': 2098, 'talked': 4359, 'china': 795, 'sequences': 3888, 'map': 2733, 'focusing': 1769, 'current': 1084, 'wants': 4791, 'claim': 828, 'granted': 1957, 'distinct': 1296, 'nation': 2969, 'studios': 4241, 'relationship': 3597, 'wendy': 4846, 'superficial': 4298, 'somehow': 4063, 'feels': 1687, 'connected': 945, 'training': 4558, 'cheesy': 781, 'lets': 2580, 'chase': 769, 'everything': 1544, 'cry': 1073, 'played': 3297, 'unrealistic': 4677, 'ending': 1471, 'dog': 1310, 'brenda': 575, 'song': 4071, 'studio': 4240, 'atlantis': 332, 'step': 4175, 'choice': 797, 'such': 4268, 'mysterious': 2955, 'reviewers': 3678, 'positive': 3346, 'disneys': 1290, 'beast': 422, 'kirk': 2482, 'wise': 4903, 'gary': 1873, 'monster': 2892, 'kidding': 2465, 'nonsense': 3030, 'watchable': 4812, 'pg': 3250, 'suitable': 4285, 'parents': 3188, 'opposite': 3123, 'kill': 2468, 'predictable': 3367, 'ruin': 3750, 'inspired': 2301, 'usual': 4699, 'colorful': 878, 'detailed': 1218, 'impressive': 2253, 'sometimes': 4067, 'through': 4477, 'spoilers': 4124, 'likable': 2598, 'screen': 3829, 'everybody': 1540, 'behind': 447, 'james': 2378, 'howard': 2182, 'daring': 1114, 'exotic': 1574, 'spoiler': 4123, 'natural': 2973, 'authentic': 358, 'awesome': 371, 'tight': 4492, 'written': 4972, 'questions': 3489, 'luckily': 2682, 'cause': 723, 'hasnt': 2044, 'fake': 1635, 'kicks': 2463, 'sure': 4308, 'kicking': 2462, 'harder': 2035, 'hot': 2174, 'oil': 3097, 'amazingly': 210, 'shocked': 3939, 'target': 4366, 'soft': 4051, 'fiction': 1702, 'naturally': 2974, 'return': 3665, 'nancy': 2964, 'drew': 1360, 'central': 735, 'involving': 2349, 'dead': 1132, 'actress': 105, 'presented': 3376, 'simplistic': 3985, 'take': 4349, 'seriously': 3892, 'members': 2801, 'upset': 4687, 'results': 3662, 'rather': 3528, 'serious': 3891, 'meaningful': 2781, 'seemed': 3862, 'grow': 1982, 'experience': 1580, 'emma': 1457, 'roberts': 3714, 'hopefully': 2157, 'beautifully': 429, 'scripted': 3835, 'let': 2579, 'perhaps': 3235, 'morality': 2903, '1950s': 14, 'talking': 4360, 'react': 3540, 'hysterical': 2208, 'gift': 1906, 'female': 1693, 'beautiful': 428, 'popularity': 3334, 'doll': 1313, 'industry': 2280, 'coming': 896, 'theyd': 4443, 'properly': 3437, 'news': 3005, 'speak': 4094, 'robots': 3718, 'creepy': 1052, 'element': 1442, 'becomes': 434, 'humans': 2190, 'star': 4150, 'twilight': 4614, 'zone': 4999, 'stretched': 4222, 'imagination': 2236, 'normally': 3034, 'cared': 685, 'machine': 2693, 'mistake': 2871, 'paid': 3169, 'theater': 4427, 'shallow': 3917, 'meaningless': 2782, 'view': 4736, 'expert': 1585, 'learning': 2552, 'asian': 314, 'culture': 1079, 'knowing': 2490, 'names': 2963, 'example': 1553, 'sign': 3970, 'clean': 838, 'christian': 808, 'cultural': 1078, 'forms': 1801, 'beliefs': 452, 'countries': 1013, 'eastern': 1408, 'western': 4853, 'judge': 2424, 'question': 3487, 'sexual': 3908, 'revolution': 3680, 'girls': 1911, 'producers': 3416, 'genre': 1888, 'reflect': 3584, 'managed': 2723, 'york': 4985, 'international': 2326, 'festival': 1697, '2005': 35, 'boyfriend': 558, 'complexity': 924, 'emotionally': 1460, 'moving': 2928, 'strong': 4229, 'imagery': 2234, 'amazing': 209, 'fantasy': 1652, 'approach': 282, 'topic': 4526, 'demon': 1177, 'offering': 3089, 'situation': 4008, 'abusive': 75, 'twist': 4617, 'guard': 1988, 'towards': 4540, 'gothic': 1945, 'carrie': 697, 'summary': 4290, 'inane': 2258, 'stupid': 4247, 'mile': 2842, 'anymore': 258, 'forget': 1793, 'altogether': 202, 'okay': 3099, 'break': 569, 'roger': 3724, 'fancy': 1649, 'may': 2775, 'aired': 165, 'shower': 3957, 'kissing': 2484, 'line': 2610, 'wet': 4855, 'effort': 1432, 'ill': 2228, 'tried': 4584, 'giving': 1915, 'accents': 79, 'pathetic': 3210, 'mention': 2810, 'cast': 710, 'board': 522, 'occasionally': 3075, 'fabulous': 1615, 'sarah': 3785, 'gold': 1932, 'amy': 222, 'adams': 112, 'oh': 3096, 'heart': 2064, 'forces': 1788, 'yes': 4982, 'answer': 251, 'teen': 4388, 'bits': 490, 'creature': 1045, 'forward': 1808, 'dream': 1354, 'blood': 512, 'weeks': 4839, 'loads': 2633, 'whom': 4875, 'appeared': 276, 'home': 2142, 'circle': 821, 'aka': 168, 'above': 68, 'exercise': 1568, 'jeremy': 2394, 'holmes': 2139, 'actor': 103, 'literature': 2623, 'admit': 122, 'argument': 291, 'inferior': 2285, 'top': 4525, 'notch': 3043, 'productions': 3420, 'agree': 155, 'forever': 1792, 'closed': 854, 'subject': 4253, 'performances': 3229, 'bill': 481, 'rogers': 3725, 'drive': 1363, 'lynch': 2691, 'modern': 2882, 'maker': 2714, 'spell': 4104, 'straight': 4210, 'follow': 1772, 'storyline': 4208, 'missed': 2867, 'richard': 3686, 'remembered': 3617, 'bag': 384, 'terrific': 4409, 'cinematography': 820, 'captures': 678, 'nostalgia': 3038, 'wound': 4960, 'painful': 3171, 'effective': 1429, 'future': 1856, 'project': 3427, 'album': 175, 'blues': 519, 'shark': 3921, 'cinema': 816, 'lighting': 2596, 'camera': 659, 'blair': 497, 'matters': 2770, 'painfully': 3172, 'personal': 3240, 'scale': 3802, 'stolen': 4195, 'painting': 3175, 'begins': 444, 'apartment': 265, 'building': 615, 'inside': 2297, 'elderly': 1440, 'devoted': 1231, 'obscure': 3068, 'narrator': 2967, 'various': 4715, 'art': 304, 'describes': 1196, 'shows': 3960, 'tells': 4397, 'walks': 4780, 'enter': 1494, 'worlds': 4947, 'possible': 3350, 'including': 2264, 'large': 2517, 'trees': 4577, 'hill': 2108, 'secret': 3849, 'novel': 3052, 'room': 3735, 'description': 1197, 'leads': 2548, 'engage': 1479, 'separate': 3883, 'mostly': 2910, 'staying': 4168, 'bizarre': 492, 'powerful': 3360, 'challenging': 744, 'write': 4967, 'adds': 119, 'satire': 3788, 'nature': 2975, 'artistic': 308, 'interpretation': 2328, 'plastic': 3294, 'photos': 3261, 'taken': 4350, 'mirror': 2861, 'collection': 874, 'composed': 926, 'size': 4012, 'versions': 4721, 'figures': 1713, 'whether': 4866, 'definite': 1161, 'outside': 3146, 'works': 4945, 'walk': 4775, 'rarely': 3524, 'scenery': 3810, 'adventure': 130, 'stewart': 4184, 'plays': 3301, 'wealthy': 4827, 'runs': 3757, 'government': 1948, 'stereotypical': 4180, 'hero': 2088, 'portrays': 3344, 'saving': 3797, 'extra': 1606, 'credibility': 1047, 'dimensional': 1253, 'minor': 2857, 'walter': 4784, 'royal': 3746, 'harry': 2039, 'morgan': 2905, 'olivier': 3103, 'brilliantly': 584, 'entirely': 1503, 'hands': 2020, 'helped': 2080, 'reviewer': 3677, 'says': 3801, 'apart': 264, 'expected': 1577, 'photography': 3260, 'plenty': 3307, 'emotional': 1459, 'necessarily': 2983, 'buff': 611, 'episodes': 1508, 'showing': 3958, 'front': 1841, 'britain': 588, 'germany': 1898, 'japan': 2381, 'usa': 4691, 'handled': 2019, 'exposed': 1598, 'id': 2212, 'class': 833, 'certain': 737, 'strangely': 4212, 'jet': 2400, 'frank': 1821, 'debut': 1143, 'german': 1896, 'smaller': 4034, 'small': 4033, 'fantastic': 1651, 'weapons': 4829, 'science': 3816, 'mark': 2739, 'thankfully': 4422, 'repeated': 3631, 'anyone': 259, 'military': 2844, 'proud': 3444, 'mood': 2898, 'sadness': 3770, 'affected': 137, 'struggle': 4234, 'captured': 677, 'perfectly': 3226, 'portrayed': 3342, 'reveals': 3673, 'todays': 4509, 'society': 4050, 'male': 2719, 'change': 749, 'present': 3374, 'rat': 3525, 'race': 3499, 'shown': 3959, 'create': 1036, 'someone': 4064, 'topless': 4527, 'lasted': 2522, 'seconds': 3848, 'sticks': 4186, 'driven': 1365, 'whilst': 4869, 'sing': 3992, 'juvenile': 2441, 'bathroom': 412, 'gags': 1862, 'blatant': 502, 'rip': 3700, 'jim': 2402, 'crash': 1033, 'wall': 4781, 'stupidity': 4248, 'offer': 3087, 'whoever': 4872, 'avoid': 363, 'pile': 3275, 'rubbish': 3748, 'wells': 4845, '20th': 38, 'century': 736, 'profound': 3423, 'tales': 4357, 'evidence': 1546, 'believed': 455, 'near': 2979, 'undoubtedly': 4648, 'seed': 3856, 'adapted': 114, 'unable': 4631, 'novels': 3053, 'often': 3095, 'heavy': 2070, 'handed': 2016, 'sides': 3967, 'criticism': 1063, 'naked': 2959, 'hitler': 2124, 'anti': 254, 'impossible': 2249, 'conversation': 980, 'taking': 4352, 'place': 3282, 'pilot': 3276, 'number': 3060, 'fascinating': 1658, 'wide': 4880, 'striking': 4226, 'haunting': 2051, 'child': 789, 'phantom': 3251, 'army': 295, 'background': 380, 'fear': 1676, 'wonderfully': 4929, 'lazy': 2543, 'storytelling': 4209, 'setting': 3900, 'compelling': 916, 'images': 2235, 'along': 195, 'arthur': 305, 'memorable': 2802, 'fair': 1630, 'ask': 316, 'universe': 4666, 'shall': 3916, 'whose': 4877, 'flaws': 1752, 'forgive': 1795, 'loved': 2670, '80s': 59, 'quote': 3496, 'lines': 2612, 'youd': 4987, 'balls': 390, 'ron': 3734, 'underrated': 4642, 'mad': 2696, 'gem': 1877, 'treasure': 4571, 'island': 2361, 'release': 3602, 'vhs': 4725, 'worn': 4948, 'worse': 4951, 'ahead': 159, 'redeeming': 3577, 'shocking': 3940, 'seat': 3845, 'lake': 2509, 'ridiculous': 3693, 'plant': 3293, 'bed': 436, 'advanced': 128, 'powers': 3361, 'alex': 179, 'thomas': 4458, 'falls': 1640, 'drunk': 1375, 'ends': 1474, 'boat': 523, 'position': 3345, 'space': 4090, 'appears': 278, 'manner': 2729, 'body': 527, 'cringe': 1059, 'finally': 1724, 'editing': 1421, 'bunch': 623, 'scientists': 3819, 'suddenly': 4273, 'car': 680, 'spider': 4109, 'fits': 1741, 'perspective': 3245, 'millions': 2848, 'crap': 1031, 'recorded': 3574, 'becoming': 435, 'numbers': 3061, 'prince': 3396, 'singer': 3993, 'deal': 1135, 'beating': 425, 'williams': 4888, 'iii': 2227, 'behavior': 446, 'theatre': 4429, '1984': 23, 'songs': 4072, 'purple': 3473, 'rain': 3506, 'crazy': 1035, 'concert': 935, 'excitement': 1562, 'portion': 3338, 'subplots': 4256, 'nicely': 3009, 'morris': 2908, 'needed': 2988, 'direction': 1261, 'lousy': 2667, 'tons': 4520, 'beaten': 424, 'swim': 4337, 'dirty': 1268, 'river': 3707, 'treat': 4572, 'women': 4923, 'constantly': 958, 'fails': 1628, 'sweet': 4336, 'easily': 1406, 'blank': 501, 'delivery': 1173, 'dramatic': 1348, 'acted': 98, 'sit': 4003, 'student': 4238, 'majority': 2712, 'normal': 3033, 'throws': 4482, 'crafted': 1029, 'dean': 1139, 'anderson': 227, 'stargate': 4151, 'surprised': 4313, 'expressions': 1603, 'gives': 1914, 'pleasant': 3302, 'dating': 1120, 'fly': 1763, 'ii': 2226, 'leading': 2547, 'role': 3726, 'jane': 2380, 'following': 1774, 'nail': 2957, 'thus': 4486, 'british': 589, 'absolute': 71, 'attempted': 341, 'jazz': 2387, 'author': 359, 'briefly': 580, 'popular': 3333, 'temple': 4398, 'ages': 152, 'find': 1726, 'wonders': 4931, 'post': 3352, 'career': 686, 'public': 3460, 'mediocre': 2791, 'grace': 1950, 'silver': 3977, '20': 29, 'group': 1980, 'dislike': 1288, 'qualities': 3483, 'la': 2500, 'wood': 4933, 'slaughter': 4021, 'plain': 3286, 'uwe': 4703, 'barely': 399, 'talented': 4355, 'eg': 1434, '3000': 43, 'pull': 3461, 'head': 2057, 'aware': 368, 'paced': 3162, 'aspect': 321, 'lit': 2621, 'rented': 3628, 'solely': 4056, 'clearly': 840, 'lesser': 2576, 'rental': 3627, 'mansion': 2731, 'location': 2635, 'fictional': 1703, 'draws': 1352, 'latin': 2527, 'pure': 3471, 'raw': 3532, 'recent': 3566, 'intensity': 2317, 'historical': 2119, 'events': 1536, 'tiresome': 4502, 'vegas': 4717, 'decent': 1147, 'attached': 336, 'gorgeous': 1942, 'stevens': 4183, 'spends': 4107, 'program': 3424, 'hoping': 2160, 'shots': 3950, '70s': 56, 'visit': 4755, 'transfer': 4559, 'aint': 163, 'humble': 2191, 'enterprise': 1495, 'prequel': 3372, 'trek': 4578, 'cliché': 844, 'references': 3583, 'seven': 3903, 'ensemble': 1492, 'hints': 2113, 'particular': 3194, 'ways': 4822, 'earlier': 1399, 'scott': 3824, 'hits': 2125, 'officer': 3092, 'phone': 3255, 'supporting': 4304, 'picked': 3266, 'core': 995, 'variety': 4714, 'several': 3905, 'blade': 495, 'unit': 4663, 'warriors': 4803, 'favorite': 1671, 'smart': 4035, 'kurt': 2499, 'russell': 3761, 'incredible': 2269, 'facial': 1619, 'gave': 1875, 'combined': 885, 'sandra': 3782, 'emotions': 1461, 'tears': 4380, 'reminded': 3619, 'unusual': 4681, 'whenever': 4863, 'asks': 319, 'whats': 4860, 'youve': 4995, 'effect': 1428, 'peoples': 3222, 'words': 4938, 'color': 877, 'actual': 108, 'randomly': 3515, 'shoot': 3942, 'explain': 1586, 'basically': 407, 'trip': 4588, 'johnny': 2410, 'similar': 3978, 'honestly': 2147, 'hurt': 2202, 'brain': 562, 'cinematic': 818, 'add': 115, 'blah': 496, 'hurts': 2203, 'remotely': 3623, 'try': 4600, 'sat': 3786, 'closing': 859, 'heck': 2071, 'relies': 3606, 'techniques': 4384, 'tend': 4400, 'leave': 2555, 'indeed': 2271, 'simply': 3986, 'bloody': 513, 'type': 4621, 'per': 3223, 'serves': 3895, 'whatsoever': 4861, 'quick': 3490, 'theyve': 4446, 'copy': 994, 'filming': 1718, 'cheap': 774, 'held': 2074, 'cameras': 660, 'namely': 2962, 'depressed': 1187, 'screaming': 3827, 'soundtrack': 4085, 'rock': 3720, 'advise': 134, 'circumstances': 822, 'adult': 125, 'realistic': 3550, 'shadows': 3913, 'searching': 3842, 'warm': 4794, 'companion': 909, 'sincere': 3991, 'attitude': 346, 'hong': 2149, 'kong': 2494, 'infamous': 2284, 'cat': 713, 'disappeared': 1271, 'rough': 3741, 'crime': 1055, 'purchased': 3470, 'knock': 2488, 'lawyer': 2541, 'turns': 4609, 'threatening': 4468, 'cops': 993, 'police': 3322, 'officers': 3093, 'killed': 2469, 'guy': 2000, 'escapes': 1519, 'stops': 4203, 'chance': 747, 'breath': 573, 'intense': 2316, 'proves': 3447, 'track': 4544, 'finds': 1728, 'raped': 3522, 'saves': 3796, 'escape': 1517, 'keeps': 2451, 'speed': 4103, 'incident': 2260, 'breathtaking': 574, 'fitting': 1742, 'brutal': 603, 'eat': 1411, 'needs': 2990, 'blockbuster': 509, 'wont': 4932, '1980s': 21, 'viewers': 4739, 'anyway': 261, 'bother': 548, 'research': 3644, 'crimes': 1056, 'talk': 4358, 'compare': 911, 'vampire': 4711, 'alike': 185, 'facts': 1624, 'correct': 1000, 'search': 3841, 'serial': 3889, 'ones': 3108, 'describe': 1194, 'suffering': 4277, 'mental': 2808, 'anybody': 257, 'suffers': 4278, 'bottom': 551, 'list': 2617, 'rare': 3523, 'reaches': 3538, 'interested': 2324, 'non': 3027, 'tear': 4379, 'victims': 4730, 'dry': 1377, 'ice': 2210, 'touch': 4533, 'honest': 2146, 'businessman': 634, 'drugs': 1374, 'guns': 1998, 'tragic': 4552, 'america': 212, 'excessive': 1560, 'eighties': 1437, 'peace': 3219, 'free': 1827, 'sixties': 4011, 'aids': 161, 'regular': 3592, 'decide': 1148, 'ruthless': 3764, 'plan': 3287, 'suspense': 4330, 'surprises': 4314, 'tries': 4585, 'folk': 1770, 'heroes': 2089, 'montage': 2894, 'weak': 4824, 'insulting': 2310, 'bigger': 479, 'john': 2409, 'center': 732, 'ps': 3453, 'official': 3094, 'nights': 3016, 'conspiracy': 956, 'bargain': 400, 'bin': 483, 'folks': 1771, 'hear': 2061, 'pacing': 3163, 'cold': 872, 'sean': 3840, 'desperately': 1209, 'difficult': 1249, 'passion': 3205, 'generally': 1881, 'imitation': 2241, 'slightly': 4029, 'manages': 2725, 'delivers': 1172, 'sexy': 3911, 'thoroughly': 4459, 'disaster': 1276, 'redemption': 3578, 'touching': 4536, 'existence': 1571, '18': 10, 'meets': 2795, 'lonely': 2643, 'holiday': 2134, 'summer': 4291, 'order': 3126, 'winter': 4900, 'narrative': 2966, 'essential': 1522, 'experienced': 1581, 'fortunately': 1805, 'hospital': 2172, 'colour': 880, 'blue': 518, 'warming': 4795, 'delight': 1167, 'dramas': 1347, 'across': 96, 'touched': 4534, 'upon': 4684, 'french': 1830, 'title': 4504, 'key': 2458, 'psychiatrist': 3455, 'cheated': 775, 'loves': 2674, 'contact': 961, 'cannot': 670, 'affair': 135, 'darker': 1116, 'unfortunate': 4653, 'et': 1526, 'suggest': 4280, 'attempts': 343, 'local': 2634, 'bar': 396, 'living': 2629, 'pet': 3246, 'succeeds': 4264, 'major': 2711, 'situations': 4009, 'produced': 3414, 'clever': 841, 'scares': 3806, 'visually': 4758, 'settings': 3901, 'gruesome': 1986, 'adaptation': 113, 'rushed': 3760, 'complete': 921, 'stephen': 4176, 'widely': 4881, 'mainly': 2708, 'loving': 2675, 'happiness': 2031, 'technically': 4382, 'event': 1535, 'atmosphere': 333, 'sinister': 3998, 'credits': 1050, 'gray': 1963, 'dealing': 1136, 'baby': 376, 'familys': 1646, 'desperation': 1210, 'destroyed': 1214, 'sadly': 3769, 'previous': 3387, 'encounter': 1466, 'tragedy': 4551, 'prevent': 3385, 'surreal': 4317, 'nightmares': 3015, 'witness': 4914, 'regret': 3591, 'disturbed': 1299, 'asked': 317, 'delivered': 1170, 'worked': 4941, 'noble': 3021, 'tender': 4401, 'disturbing': 1300, 'touches': 4535, 'fears': 1677, 'returning': 3667, 'wanna': 4786, 'buried': 624, 'remake': 3612, 'visuals': 4759, 'adequate': 120, 'tim': 4494, 'roles': 3727, 'exciting': 1563, 'ape': 266, 'city': 825, 'bedroom': 437, 'include': 2261, 'meat': 2787, 'deserved': 1200, 'respect': 3652, 'nonsensical': 3031, 'inevitable': 2282, 'sequel': 3885, 'ought': 3138, 'planet': 3289, 'apes': 267, 'developed': 1223, 'single': 3996, 'burton': 630, 'intelligence': 2313, 'wit': 4908, 'humour': 2194, 'notably': 3042, 'basic': 406, 'allowing': 191, 'ability': 65, 'taylor': 4372, 'form': 1798, 'plans': 3292, 'stars': 4155, 'technology': 4385, 'carter': 703, 'herself': 2092, 'ignored': 2225, 'ho': 2127, 'freedom': 1828, 'fighter': 1708, 'warren': 4801, 'capable': 672, 'creating': 1039, 'particularly': 3195, 'michael': 2829, 'incredibly': 2270, 'design': 1202, 'allowed': 190, 'females': 1694, 'earth': 1403, 'jumps': 2432, 'rocket': 3721, 'jumping': 2431, 'fired': 1735, 'genuine': 1891, 'secondly': 3847, 'dubbed': 1379, 'animal': 239, 'light': 2595, 'relief': 3605, 'genuinely': 1892, 'feet': 1688, 'moment': 2886, 'roman': 3731, 'distant': 1295, 'forbidden': 1785, 'partly': 3197, 'merely': 2815, 'covered': 1023, 'typical': 4623, '60s': 54, 'futuristic': 1857, 'dealt': 1138, 'ideas': 2215, '2001': 31, 'running': 3756, '1972': 18, 'physically': 3263, 'method': 2824, 'includes': 2263, 'holes': 2133, 'system': 4345, 'visible': 4753, 'bodies': 526, 'conventional': 979, 'thousand': 4465, 'equipment': 1511, 'button': 639, 'glass': 1917, 'door': 1328, 'contemporary': 965, 'bullet': 620, 'proof': 3434, 'disappointing': 1274, 'charming': 768, 'poignant': 3315, 'dedicated': 1153, 'dreams': 1355, 'hopes': 2159, 'equally': 1510, 'teenagers': 4391, 'spectacular': 4101, 'chases': 771, 'ethan': 1528, 'europe': 1529, 'julie': 2428, 'paris': 3189, 'attend': 344, 'classes': 834, 'train': 4556, 'attracted': 349, 'instantly': 2306, 'start': 4156, 'hop': 2154, 'night': 3013, 'couldve': 1009, 'silly': 3976, 'lovely': 2671, 'viewing': 4740, 'praise': 3364, 'delivering': 1171, 'witty': 4917, 'dialogs': 1233, 'magic': 2703, 'falling': 1639, 'angel': 231, 'portraying': 3343, 'independent': 2272, 'attractive': 351, 'scottish': 3825, 'artist': 307, 'andy': 230, 'rocks': 3722, 'web': 4833, 'corner': 996, 'pieces': 3273, 'wonder': 4926, 'lucky': 2683, 'screening': 3830, 'fred': 1825, 'snake': 4042, 'teeth': 4393, 'bare': 398, 'remarkable': 3613, 'capturing': 679, 'frustration': 1843, 'glory': 1922, 'shine': 3931, 'hours': 2177, 'speaking': 4095, 'need': 2987, 'against': 147, 'humorous': 2193, 'struggles': 4235, 'express': 1600, 'increasingly': 2268, 'pass': 3201, 'artists': 309, 'capture': 676, 'creation': 1040, 'covers': 1024, 'territory': 4411, 'north': 3036, 'brief': 579, 'breaks': 571, 'nevertheless': 3002, 'canadian': 667, 'snow': 4045, 'sky': 4017, 'represents': 3639, 'suppose': 4305, 'ironic': 2355, 'intended': 2315, 'ended': 1470, '1970s': 17, 'counter': 1011, 'reach': 3536, 'presumably': 3380, 'indian': 2274, 'gratuitous': 1961, 'glad': 1916, 'appreciate': 279, 'golden': 1934, 'dreadful': 1353, 'deeply': 1156, 'precious': 3366, 'smoke': 4039, 'discover': 1279, 'walking': 4779, 'notice': 3048, 'cover': 1022, 'awe': 370, 'described': 1195, 'missing': 2869, 'renting': 3629, 'originally': 3131, 'hadnt': 2004, 'tonight': 4519, 'opportunity': 3121, 'delightful': 1168, 'nearly': 2981, 'site': 4005, 'gentle': 1890, 'carol': 693, 'appearance': 274, 'presence': 3373, 'cary': 706, 'friday': 1834, 'detective': 1220, 'william': 4887, 'powell': 3358, 'lady': 2507, 'thin': 4449, 'woody': 4936, 'allen': 188, 'depression': 1189, 'filled': 1715, 'occur': 3076, 'sid': 3964, 'born': 544, 'older': 3101, 'relatively': 3600, 'london': 2641, 'upper': 4685, 'sun': 4292, 'manhattan': 2726, 'rose': 3739, 'couple': 1016, 'examples': 1554, 'material': 2766, 'equal': 1509, 'alas': 172, 'reflection': 3585, 'diane': 1238, 'keaton': 2448, 'therefore': 4439, 'appropriate': 283, 'conflict': 939, 'concerned': 932, 'pop': 3330, 'obsessed': 3069, 'performing': 3233, 'crowd': 1067, 'jealous': 2388, 'band': 391, 'mate': 2765, 'khan': 2459, 'nowhere': 3056, 'focused': 1767, 'ambitious': 211, 'decides': 1150, 'explained': 1587, 'meant': 2784, 'wed': 4835, 'drivel': 1364, 'packed': 3166, 'unintentionally': 4659, 'hilarious': 2106, 'committed': 905, 'stage': 4139, 'silence': 3974, 'hooked': 2153, 'onto': 3111, 'dinner': 1254, 'crude': 1069, 'orders': 3127, 'pursuit': 3476, 'pretending': 3382, 'girlfriend': 1910, 'secretly': 3851, 'thoughts': 4464, 'lust': 2689, 'bands': 392, 'dancer': 1104, 'musical': 2947, 'comparison': 914, 'latest': 2526, 'melodrama': 2797, 'loosely': 2651, 'broad': 590, 'chooses': 800, 'subtlety': 4261, 'lovable': 2668, 'climax': 849, 'hall': 2009, 'punishment': 3467, 'remaining': 3610, 'unnecessary': 4672, 'roy': 3745, 'reduced': 3579, 'mere': 2814, 'utter': 4701, 'dude': 1381, 'sloppy': 4030, 'ultimately': 4628, 'harris': 2038, 'outstanding': 3147, 'accent': 78, 'paul': 3214, 'worthy': 4956, 'status': 4165, 'jr': 2423, 'enthusiasm': 1501, 'pain': 3170, 'hoped': 2156, 'documentary': 1307, 'leaving': 2557, 'professional': 3421, 'drinking': 1362, 'sexuality': 3909, 'enemies': 1476, '1996': 26, 'wearing': 4831, 'president': 3378, 'member': 2800, 'excited': 1561, 'regarding': 3589, 'amazed': 208, 'photo': 3257, 'engaging': 1481, 'swimming': 4338, 'pool': 3327, 'owner': 3159, 'letting': 2583, 'persons': 3244, 'community': 908, 'created': 1037, 'connection': 946, 'amongst': 218, 'clear': 839, 'involvement': 2347, 'random': 3514, 'woods': 4935, 'closest': 857, 'thoughtful': 4463, 'gripping': 1976, 'physical': 3262, 'spoke': 4125, 'dignity': 1252, 'power': 3359, 'demented': 1176, 'feelings': 1686, 'cost': 1003, 'longer': 2645, 'conversations': 981, 'americas': 215, 'notorious': 3051, 'literally': 2622, '100': 1, 'bruce': 602, 'stinker': 4191, 'named': 2961, 'hired': 2117, 'rid': 3690, 'leo': 2571, 'daughter': 1121, 'karen': 2444, 'ted': 4386, 'clint': 850, 'puts': 3481, 'warning': 4800, 'banned': 395, 'ex': 1549, 'charge': 761, 'barbara': 397, 'lawrence': 2539, 'methods': 2825, 'carried': 698, 'sheriff': 3929, 'hire': 2116, 'follows': 1775, 'solid': 4057, 'grim': 1974, 'highlights': 2104, 'burning': 627, 'showdown': 3955, 'bitter': 491, 'vivid': 4760, 'lively': 2627, 'atmospheric': 334, 'lee': 2559, 'realized': 3553, 'wilson': 4891, 'al': 170, 'grey': 1973, 'common': 906, 'spoof': 4127, 'field': 1704, 'competent': 917, 'dogs': 1311, 'nose': 3037, 'fate': 1665, 'reynolds': 3684, 'winds': 4895, 'magazine': 2701, 'bull': 619, 'unfunny': 4655, 'sister': 4001, 'red': 3576, 'edward': 1426, 'arnold': 296, 'ann': 244, 'unlikely': 4671, 'helping': 2081, 'raising': 3509, 'nominated': 3025, 'academy': 77, 'marks': 2742, 'warner': 4799, 'followed': 1773, 'married': 2744, 'co': 867, 'replaced': 3634, 'joan': 2404, 'premise': 3370, 'spiritual': 4116, 'pretend': 3381, '80': 58, 'jennifer': 2392, 'bible': 477, 'buildings': 616, 'former': 1800, 'god': 1926, 'greater': 1965, 'forest': 1791, 'twisted': 4618, 'survive': 4321, 'roll': 3728, 'intellectual': 2312, 'essentially': 1523, 'substance': 4258, 'inspiring': 2302, 'destroy': 1213, 'brothers': 599, 'immediately': 2242, 'irrelevant': 2358, 'pretentious': 3383, 'craft': 1028, 'pseudo': 3454, 'creative': 1041, 'convinced': 984, 'mild': 2839, 'mixed': 2877, 'shoes': 3941, 'disappointment': 1275, 'catchy': 717, 'moments': 2887, 'flow': 1762, 'exact': 1550, 'staring': 4152, 'bland': 500, 'beach': 419, 'alien': 183, 'floating': 1758, 'forgettable': 1794, 'wasted': 4809, 'amateurish': 207, 'uneven': 4649, 'disjointed': 1287, 'zero': 4996, 'turn': 4605, 'ego': 1435, 'unpredictable': 4675, 'spoken': 4126, 'overwhelming': 3157, 'foot': 1781, 'taste': 4369, 'tea': 4373, 'king': 2479, 'stays': 4169, 'european': 1530, 'inner': 2292, 'proved': 3446, 'skill': 4013, 'hanging': 2023, 'defend': 1158, 'mans': 2730, 'court': 1020, 'identify': 2216, 'beyond': 476, 'discovery': 1282, 'growing': 1983, 'mask': 2752, 'holds': 2131, 'revelation': 3674, 'notion': 3050, 'thirty': 4456, 'wrapped': 4964, 'remains': 3611, 'bringing': 586, 'irony': 2357, 'symbolism': 4341, 'importance': 2246, 'likely': 2601, 'wave': 4818, 'loser': 2655, 'pick': 3265, 'street': 4216, 'picks': 3268, 'realise': 3548, 'carrying': 701, 'exceptional': 1558, 'communist': 907, 'blend': 504, 'south': 4087, 'riveting': 3708, 'called': 652, 'political': 3324, 'protagonist': 3441, 'sheer': 3925, 'achievement': 94, '50s': 52, 'widmark': 4882, 'peters': 3248, 'ritter': 3705, 'surrounding': 4319, 'warmth': 4796, 'execution': 1566, 'pushing': 3479, 'centers': 734, 'ned': 2986, 'pie': 3271, 'pace': 3161, 'discovered': 1280, 'finger': 1731, 'alive': 186, 'died': 1244, 'mothers': 2912, 'cleverly': 842, 'titled': 4505, 'hole': 2132, 'worker': 4942, 'crush': 1072, 'moves': 2925, 'experiences': 1582, 'private': 3404, 'partner': 3198, 'murders': 2943, 'victim': 4729, 'plots': 3310, 'discovers': 1281, 'charlotte': 766, 'chuck': 812, 'charles': 764, 'anna': 245, 'rules': 3754, 'funeral': 1849, 'stole': 4194, 'call': 651, 'kept': 2456, 'lily': 2605, 'ellen': 1446, 'recognized': 3570, 'contains': 964, 'twists': 4619, 'spirits': 4115, '13': 4, 'wouldve': 4959, 'prepared': 3371, 'sounded': 4082, 'reading': 3544, 'themselves': 4435, 'goofy': 1939, 'computer': 927, 'curse': 1086, 'deserves': 1201, 'develop': 1222, 'plausible': 3295, 'arm': 292, 'prove': 3445, 'warned': 4798, 'flaw': 1749, 'heroine': 2091, 'trick': 4582, 'contrived': 976, 'absurd': 73, 'passes': 3203, 'carry': 700, 'pregnant': 3369, 'noticed': 3049, 'jimmy': 2403, 'anthony': 253, 'mann': 2728, 'westerns': 4854, 'serve': 3893, 'backdrop': 379, 'cynical': 1093, 'sidekick': 3966, 'villains': 4745, 'process': 3412, 'vast': 4716, 'range': 3516, 'play': 3296, 'authority': 360, 'nasty': 2968, 'superman': 4301, 'super': 4295, 'treated': 4573, 'throat': 4476, 'costume': 1005, 'lane': 2515, 'ass': 323, 'reporter': 3636, 'kevin': 2457, 'clark': 832, 'hills': 2109, 'learn': 2550, 'existed': 1570, 'extent': 1605, 'laughably': 2531, 'remember': 3616, 'savage': 3793, 'inevitably': 2283, 'southern': 4088, 'quirky': 3493, 'justice': 2438, 'boot': 538, 'catholic': 720, 'religion': 3607, 'groups': 1981, 'period': 3236, 'fault': 1668, 'husband': 2204, 'priest': 3392, 'shape': 3919, 'reaching': 3539, 'technique': 4383, 'angles': 237, 'movements': 2924, 'confusing': 942, 'contained': 963, 'trash': 4565, 'total': 4531, 'garbage': 1870, 'intentionally': 2320, 'campy': 664, 'dubbing': 1380, 'overdone': 3152, 'camp': 662, 'value': 4709, 'category': 718, 'grew': 1972, 'george': 1893, 'assumed': 329, 'deadly': 1133, 'pulled': 3462, '16': 8, 'timeless': 4496, 'adventures': 131, 'digital': 1251, 'books': 536, 'rings': 3699, 'won': 4925, 'win': 4892, 'itll': 2369, 'awards': 367, 'paper': 3183, 'featuring': 1681, 'cameos': 658, 'willis': 4890, 'adam': 111, 'hammer': 2014, 'cooper': 990, 'rachel': 3500, 'cook': 988, 'frankly': 1823, 'julia': 2427, 'consistent': 953, 'spirit': 4113, 'spy': 4135, 'attack': 337, 'via': 4726, 'stiff': 4187, 'struck': 4232, 'thugs': 4484, 'buddy': 609, 'slapstick': 4019, 'mix': 2876, 'measure': 2786, 'cutting': 1092, 'floor': 1759, 'wind': 4893, 'benefit': 465, 'concept': 930, 'soon': 4074, 'hype': 2207, 'deliver': 1169, 'originality': 3130, 'easier': 1405, 'bored': 541, 'directly': 1263, 'direct': 1258, 'che': 773, 'pride': 3391, 'struggling': 4236, 'ties': 4490, 'spring': 4134, 'initial': 2290, 'revolutionary': 3681, 'bleak': 503, 'grasp': 1960, 'month': 2896, 'somewhat': 4068, 'remain': 3609, 'alongside': 196, 'paint': 3173, 'portrait': 3339, 'der': 1191, 'decade': 1144, 'excuse': 1564, 'lesson': 2577, 'arguably': 289, 'landscapes': 2514, 'cuba': 1075, 'reference': 3582, 'structure': 4233, 'battles': 415, 'fallen': 1638, 'movement': 2923, 'combination': 883, 'similarities': 3979, 'statement': 4162, 'achieve': 92, 'prior': 3400, 'evident': 1547, 'subtle': 4260, 'vague': 4705, 'engaged': 1480, 'review': 3676, 'odds': 3082, 'task': 4368, 'segments': 3868, 'attention': 345, 'fit': 1740, 'pages': 3168, 'jamie': 2379, 'ward': 4793, 'surely': 4309, 'pleased': 3305, 'superhero': 4299, 'giant': 1905, 'weapon': 4828, 'pan': 3180, 'jokes': 2415, 'average': 362, 'joe': 2407, 'brown': 601, 'citizen': 824, 'confidence': 938, 'humanity': 2189, 'uk': 4626, 'blake': 498, 'path': 3209, 'wisdom': 4902, 'knowledge': 2491, 'haunted': 2050, 'pleasure': 3306, 'porn': 3336, 'doors': 1329, 'neighbors': 2994, 'alexander': 180, 'bought': 552, 'finished': 1733, 'dropped': 1370, 'rating': 3529, 'cuts': 1091, 'ah': 158, 'satisfied': 3789, 'fond': 1776, 'paltrow': 3178, 'pack': 3165, 'ie': 2221, 'handle': 2018, 'superior': 4300, 'terry': 4415, 'brad': 560, 'pitt': 3280, 'twelve': 4611, 'monkeys': 2891, 'cole': 873, 'notable': 3041, 'fairly': 1631, 'christmas': 810, 'jeffrey': 2391, 'tedious': 4387, 'worthwhile': 4955, 'deaths': 1142, 'gory': 1943, 'survivor': 4324, 'corpse': 999, 'lowest': 2678, 'slasher': 4020, 'joseph': 2419, 'smith': 4038, 'changing': 752, 'bear': 420, 'allows': 192, 'faced': 1617, 'scripts': 3836, 'colors': 879, 'overrated': 3156, 'ingredients': 2289, 'finding': 1727, 'joke': 2414, 'theme': 4433, 'photographer': 3259, 'move': 2921, 'california': 650, 'agrees': 157, 'condition': 937, 'concerning': 933, 'writes': 4970, 'pictures': 3270, 'coffee': 870, 'table': 4346, 'share': 3920, 'luck': 2681, 'sees': 3866, 'shortly': 3947, 'begin': 442, 'ensues': 1493, 'control': 977, 'plight': 3308, 'tension': 4404, 'intelligent': 2314, 'recognition': 3568, 'player': 3298, 'force': 1786, 'saga': 3773, 'duo': 1386, 'concerns': 934, 'native': 2972, 'subtitles': 4259, 'christians': 809, 'rule': 3753, 'admire': 121, 'jesus': 2399, 'fashion': 1659, 'terribly': 4408, 'sick': 3963, 'farce': 1654, 'jerry': 2396, 'shirt': 3937, 'sight': 3969, 'creativity': 1042, 'open': 3112, 'annie': 247, 'brand': 565, 'cheating': 776, 'depressing': 1188, 'bette': 471, 'davis': 1126, 'claimed': 829, 'mildred': 2841, 'forth': 1804, 'waitress': 4773, 'eager': 1396, 'sink': 3999, 'transformation': 4560, 'noted': 3045, 'philip': 3252, 'existent': 1572, 'interview': 2329, 'nervous': 2999, 'complicated': 925, 'essence': 1521, 'translation': 4562, 'attraction': 350, 'emotion': 1458, 'cousin': 1021, 'kay': 2447, 'johnson': 2411, 'vulnerable': 4768, 'realizes': 3554, 'bound': 553, 'moral': 2902, 'date': 1118, 'tense': 4403, 'shelf': 3926, 'romantic': 3733, 'comedies': 889, 'gene': 1879, 'lover': 2672, 'fox': 1814, 'justin': 2440, 'store': 4204, 'stale': 4141, 'nowadays': 3055, 'involve': 2345, 'thrilling': 4474, 'thrill': 4471, 'lovers': 2673, 'occurs': 3078, 'despite': 1211, 'executed': 1565, 'inspector': 2299, 'eve': 1532, 'meeting': 2794, 'children': 792, 'dawn': 1127, 'revealed': 3671, 'wolf': 4920, 'parties': 3196, 'roots': 3738, 'flashbacks': 1747, 'talks': 4361, 'contain': 962, 'views': 4742, 'places': 3284, 'mess': 2818, 'chaos': 755, 'mentioned': 2811, 'aspects': 322, 'appeal': 271, 'sake': 3775, 'vehicle': 4718, 'despair': 1207, 'calm': 655, 'offered': 3088, 'cup': 1080, 'credible': 1048, 'overly': 3155, 'midnight': 2834, 'purely': 3472, 'aged': 149, 'womens': 4924, 'service': 3896, 'thumbs': 4485, 'flawless': 1751, 'states': 4163, 'punch': 3466, 'torture': 4529, 'hated': 2047, 'terrorists': 4414, 'annoying': 249, 'sandler': 3781, 'irritating': 2359, 'comedian': 887, 'obnoxious': 3067, 'hate': 2046, 'danger': 1109, 'buying': 641, 'disappoint': 1272, 'potential': 3355, 'cliff': 847, 'food': 1778, 'cagney': 646, 'unhappy': 4656, 'hung': 2197, 'lees': 2560, 'jackie': 2374, 'drunken': 1376, 'trio': 4587, 'martial': 2747, 'arts': 310, 'kung': 2498, 'fu': 1844, 'offensive': 3086, 'rural': 3758, 'fighting': 1709, 'parody': 3192, 'dragon': 1344, 'restaurant': 3658, 'gangsters': 1869, 'lacks': 2505, 'babe': 375, 'proper': 3436, 'depth': 1190, 'ordinary': 3128, 'dated': 1119, 'yesterday': 4983, 'misery': 2865, 'contrary': 974, 'belief': 451, 'ground': 1979, 'walked': 4776, 'deserve': 1199, 'bridge': 578, 'cardboard': 682, 'vs': 4767, 'fell': 1690, 'asleep': 320, 'vampires': 4712, 'dangerous': 1110, 'unknown': 4668, 'device': 1227, 'outer': 3143, 'channel': 753, 'starred': 4153, 'boll': 529, 'strongly': 4231, 'signed': 3971, 'account': 89, 'warn': 4797, 'cop': 991, 'estate': 1525, 'sleeping': 4025, 'psychic': 3456, 'radio': 3504, 'calls': 654, 'ford': 1789, 'inducing': 2279, 'throw': 4479, 'drink': 1361, 'continuity': 972, 'arrested': 298, 'ring': 3698, 'grab': 1949, 'meanwhile': 2785, 'chasing': 772, 'record': 3573, 'loyal': 2679, 'thru': 4483, 'corny': 997, 'card': 681, 'introduces': 2338, 'liberal': 2588, 'details': 1219, 'entertained': 1498, 'lesbian': 2573, 'tame': 4363, 'imaginative': 2237, 'childrens': 793, 'anyways': 262, 'monkey': 2890, 'retarded': 3663, 'horribly': 2164, 'lessons': 2578, 'phony': 3256, 'los': 2653, 'angeles': 233, 'agents': 151, 'willing': 4889, 'image': 2233, 'hair': 2005, 'teaching': 4377, 'turning': 4608, 'initially': 2291, 'sudden': 4272, 'loose': 2650, 'battle': 414, 'recognize': 3569, 'psychotic': 3459, 'paranoia': 3186, 'leader': 2546, 'draw': 1349, 'amount': 219, 'breaking': 570, 'constant': 957, 'accepted': 82, 'seek': 3858, 'racism': 3502, '1960s': 15, 'par': 3184, 'focuses': 1768, 'tough': 4537, 'bank': 394, 'stereotype': 4178, 'gonna': 1936, 'domestic': 1318, 'abuse': 74, 'sisters': 4002, 'law': 2538, '2004': 34, 'husbands': 2205, 'treatment': 4574, 'divorce': 1301, 'muslim': 2949, 'individual': 2277, 'represented': 3638, 'rooms': 3736, 'occurred': 3077, 'cases': 708, 'featured': 1679, 'wishes': 4906, 'billy': 482, 'encounters': 1467, 'brother': 598, 'bobby': 525, 'charisma': 762, 'abilities': 64, 'thanks': 4423, 'edited': 1420, 'fights': 1710, 'dare': 1113, 'blowing': 515, 'carries': 699, 'section': 3853, 'lion': 2614, 'embarrassment': 1455, 'choreography': 802, 'styles': 4250, 'planned': 3290, 'monk': 2889, 'hearted': 2065, 'wished': 4905, 'served': 3894, 'opera': 3116, 'requires': 3642, 'centered': 733, 'directions': 1262, 'chosen': 805, 'pamela': 3179, 'blind': 506, 'headed': 2058, 'petty': 3249, 'quotes': 3497, 'nomination': 3026, 'ramones': 3512, 'vincent': 4746, 'van': 4713, 'mary': 2751, 'joey': 2408, 'showed': 3956, 'punk': 3468, '2002': 32, 'boom': 537, 'aforementioned': 139, 'modesty': 2883, 'providing': 3451, 'unforgettable': 4652, 'supposedly': 4307, 'teach': 4374, 'shakespeare': 3915, 'tongue': 4518, 'besides': 468, 'string': 4227, 'credit': 1049, 'lived': 2626, 'theatrical': 4430, 'fame': 1642, 'fortune': 1806, '1968': 16, 'likes': 2602, 'angry': 238, 'enjoying': 1487, 'promising': 3433, 'mrs': 2930, 'sidney': 3968, 'careers': 687, 'gone': 1935, 'fest': 1696, 'report': 3635, 'built': 618, 'united': 4664, 'andrew': 228, 'jackson': 2375, 'nearby': 2980, '60': 53, 'ships': 3935, 'stronger': 4230, 'landing': 2512, 'destiny': 1212, 'rival': 3706, 'charismatic': 763, 'henry': 2084, 'gordon': 1940, 'simon': 3982, 'veteran': 4724, 'albert': 174, 'hal': 2006, 'ralph': 3510, 'elaborate': 1439, 'climactic': 848, 'heston': 2094, 'entertainment': 1500, 'traveling': 4568, 'league': 2549, 'abandoned': 62, 'mill': 2845, 'minimum': 2856, 'insane': 2296, 'resolution': 3649, 'russian': 3762, 'cute': 1090, 'repeat': 3630, 'football': 1783, 'wars': 4804, 'spoil': 4121, 'mentioning': 2812, 'neat': 2982, 'brave': 567, 'criminals': 1058, 'menacing': 2807, 'ear': 1397, 'higher': 2101, 'chan': 746, 'legendary': 2565, 'thank': 4421, 'crying': 1074, 'everyday': 1541, 'flop': 1760, 'fascinated': 1657, 'vision': 4754, 'pair': 3176, 'ideal': 2214, 'convey': 982, 'blame': 499, 'emphasis': 1463, 'havent': 2053, 'france': 1816, 'everywhere': 1545, 'somebody': 4062, 'steve': 4181, 'nick': 3012, 'march': 2734, '2007': 37, 'batman': 413, 'animated': 241, 'wayne': 4821, 'dick': 1239, 'robin': 3715, 'expecting': 1578, 'danny': 1112, 'creates': 1038, 'sounds': 4084, 'mission': 2870, 'moore': 2901, 'trapped': 4564, 'performs': 3234, 'resist': 3648, 'winner': 4897, 'shadow': 3912, 'surviving': 4323, 'memories': 2803, 'soldiers': 4054, 'wwii': 4975, 'survived': 4322, 'invasion': 2340, 'tortured': 4530, 'sons': 4073, 'jump': 2429, 'iraq': 2351, 'tag': 4348, 'vietnam': 4735, 'innocence': 2293, 'patrick': 3213, 'jeff': 2390, 'satan': 3787, 'lou': 2663, 'diamond': 1236, 'gas': 1874, 'continue': 969, 'tracy': 4546, 'possibilities': 3348, 'routine': 3743, 'supernatural': 4302, 'thrillers': 4473, 'acceptable': 81, 'rate': 3526, 'continued': 970, 'ghosts': 1903, 'endless': 1473, 'someones': 4065, 'continues': 971, 'convoluted': 987, 'cake': 648, 'cliche': 843, 'neo': 2998, 'ultimate': 4627, 'bullets': 621, 'sword': 4340, 'trailer': 4554, 'hed': 2072, 'matrix': 2767, 'taught': 4370, 'worry': 4950, 'involves': 2348, 'affect': 136, 'sum': 4289, 'send': 3875, 'journey': 2421, 'agent': 150, 'grand': 1953, 'foreign': 1790, 'appalling': 268, 'reasonable': 3558, 'blows': 517, 'explore': 1594, 'annoyed': 248, 'utterly': 4702, 'influence': 2286, 'synopsis': 4344, 'hamlet': 2013, 'goodness': 1938, 'embarrassed': 1453, 'attempting': 342, 'dreary': 1356, 'reasonably': 3559, 'mst3k': 2932, 'masses': 2755, 'horse': 2170, 'snl': 4044, 'commercial': 902, 'dynamic': 1394, 'trouble': 4592, 'portray': 3340, 'sitcom': 4004, 'mentions': 2813, 'canada': 666, 'park': 3190, 'build': 614, 'blown': 516, 'strike': 4224, 'appear': 273, 'hunting': 2201, '35': 45, 'million': 2847, 'harsh': 2040, 'potentially': 3356, 'social': 4049, 'spin': 4112, 'exists': 1573, 'holding': 2130, 'guessed': 1990, 'laws': 2540, 'keeping': 2450, 'monsters': 2893, 'torn': 4528, 'reminiscent': 3621, 'horrifying': 2167, 'ray': 3533, 'safety': 3772, 'department': 1182, 'boss': 546, 'educational': 1425, 'angle': 236, 'nicholas': 3010, 'cage': 645, 'complex': 923, 'opens': 3115, 'deals': 1137, 'ignore': 2224, 'checking': 778, 'purposes': 3475, 'april': 284, 'lying': 2690, 'lie': 2590, 'advantage': 129, 'instance': 2304, 'shooting': 3943, 'empty': 1465, 'journalist': 2420, 'security': 3854, 'chief': 788, 'national': 2970, 'highest': 2102, 'rank': 3518, 'politics': 3326, 'thousands': 4466, 'lies': 2591, 'depicted': 1183, 'intention': 2319, 'selling': 3873, 'rich': 3685, 'costs': 1004, 'nazi': 2977, 'propaganda': 3435, 'returned': 3666, 'shelley': 3928, 'broadway': 592, 'wicked': 4879, 'cinderella': 815, 'garden': 1872, 'matthew': 2772, 'characterization': 759, 'martin': 2748, 'tiny': 4500, 'happily': 2030, 'christopher': 811, 'fire': 1734, 'detail': 1217, 'context': 968, 'chris': 806, 'nobody': 3022, 'degree': 1164, 'remind': 3618, 'count': 1010, 'max': 2774, 'lights': 2597, 'associated': 327, 'backgrounds': 381, 'witnesses': 4916, 'unexpected': 4650, 'strangers': 4214, 'instant': 2305, 'le': 2544, 'asking': 318, 'realizing': 3555, 'object': 3066, 'maria': 2736, 'neighborhood': 2993, 'pay': 3216, 'drops': 1372, 'morning': 2906, 'oliver': 3102, 'promises': 3432, 'due': 1382, 'hatred': 2049, 'starring': 4154, 'richardson': 3688, 'ready': 3546, 'mistress': 2874, 'doctor': 1304, 'arrives': 302, 'forgotten': 1797, 'wes': 4851, 'craven': 1034, 'ghost': 1902, 'troubled': 4593, 'entry': 1504, 'useful': 4694, 'guide': 1993, 'columbo': 881, 'ranks': 3519, 'unwatchable': 4682, 'falk': 1636, 'slightest': 4028, 'formula': 1802, 'proceedings': 3410, 'plague': 3285, 'welles': 4844, 'kane': 2442, 'scheme': 3812, 'childish': 791, '14': 6, 'intimate': 2331, 'sleazy': 4023, 'spanish': 4092, 'suffer': 4275, 'user': 4696, 'copies': 992, 'mexican': 2826, 'don': 1320, 'suspect': 4327, 'flashback': 1746, 'craig': 1030, 'dancing': 1107, 'hat': 2045, 'tradition': 4549, 'lyrics': 2692, 'ruined': 3751, 'decision': 1151, 'largely': 2518, 'population': 3335, 'complaint': 920, 'demands': 1175, 'sitting': 4007, 'gross': 1978, 'shock': 3938, 'factor': 1622, 'santa': 3783, 'sadistic': 3768, 'eating': 1413, 'jaw': 2384, 'pitch': 3279, 'robot': 3717, 'presents': 3377, 'angels': 234, 'baseball': 403, 'team': 4378, 'lloyd': 2630, 'projects': 3428, 'mysteries': 2954, 'faith': 1633, 'flynn': 1765, 'albeit': 173, 'misses': 2868, 'distribution': 1298, 'faithful': 1634, 'san': 3780, 'francisco': 1819, '1st': 28, 'generous': 1886, 'wholly': 4874, 'illogical': 2231, 'disbelief': 1277, 'teacher': 4375, 'kennedy': 2454, 'tom': 4514, 'robbins': 3712, 'pearl': 3220, 'huh': 2187, 'burned': 626, 'base': 402, 'values': 4710, 'standards': 4145, 'bbc': 417, 'dickens': 1240, 'occasional': 3074, 'poverty': 3357, 'motives': 2916, 'property': 3438, 'england': 1482, '1973': 19, 'retired': 3664, 'traditional': 4550, 'closer': 856, 'types': 4622, 'faster': 1662, 'quickly': 3491, 'enjoys': 1489, 'bergman': 466, 'critical': 1062, 'theaters': 4428, 'teenager': 4390, 'hippie': 2115, 'ancient': 225, 'castle': 712, 'drop': 1369, 'join': 2412, 'dance': 1103, 'mass': 2753, 'wear': 4830, 'activities': 102, 'responsible': 3656, 'fathers': 1667, 'semi': 3874, 'nude': 3058, 'heads': 2059, 'birthday': 487, 'suggests': 4282, 'commit': 904, 'arms': 294, 'legs': 2566, 'lips': 2615, 'flesh': 1753, 'possessed': 3347, 'kitchen': 2485, 'holy': 2140, 'water': 4816, 'slap': 4018, 'worthless': 4954, 'tribute': 4581, 'latter': 2528, 'dennis': 1179, 'heavily': 2069, 'remote': 3622, 'nuts': 3064, 'opinions': 3119, 'larry': 2520, 'campbell': 663, 'butt': 638, 'pulls': 3464, 'prize': 3405, 'beats': 426, 'chest': 784, 'flight': 1757, 'mildly': 2840, 'gay': 1876, 'subjects': 4254, 'fed': 1682, 'jerk': 2395, 'season': 3843, 'hearts': 2066, 'inept': 2281, 'university': 4667, 'spielberg': 4110, 'offended': 3085, 'idiots': 2220, 'letter': 2581, 'introduce': 2336, 'equivalent': 1512, 'standard': 4144, 'teens': 4392, 'relationships': 3598, 'showcase': 3954, 'amanda': 205, 'un': 4630, 'interaction': 2322, 'womans': 4922, 'believing': 457, 'laughing': 2533, 'split': 4120, 'swedish': 4335, 'guts': 1999, 'creatures': 1046, 'splatter': 4118, 'sub': 4252, 'titles': 4506, 'homage': 2141, 'firstly': 1737, 'unpleasant': 4674, 'faults': 1669, 'shouldnt': 3952, 'miscast': 2862, 'suited': 4286, 'sounding': 4083, 'dragged': 1343, 'drags': 1345, 'prime': 3395, 'resources': 3651, 'racist': 3503, 'network': 3000, 'dvds': 1392, 'useless': 4695, 'dolls': 1316, 'suffered': 4276, 'boredom': 542, '1990': 24, 'theyll': 4444, 'driving': 1368, 'clothing': 861, '3d': 46, 'awake': 365, 'rick': 3689, 'weekend': 4838, 'jenny': 2393, 'jake': 2377, 'accidentally': 85, 'sequels': 3886, 'ourselves': 3140, 'risk': 3704, 'anime': 243, 'causing': 726, 'selfish': 3870, 'dub': 1378, 'politically': 3325, 'gerard': 1895, 'recall': 3562, 'christ': 807, 'destruction': 1216, 'secrets': 3852, 'widow': 4883, 'guessing': 1991, 'intrigue': 2333, 'em': 1452, 'instinct': 2308, 'cameo': 657, 'suffice': 4279, '3rd': 47, 'musicals': 2948, 'reed': 3580, 'sings': 3997, '1933': 12, 'celebrity': 729, 'aid': 160, 'basis': 408, 'broadcast': 591, '1930s': 11, 'square': 4136, 'boxing': 556, 'blow': 514, 'jungle': 2434, 'assault': 324, 'mitchell': 2875, 'trained': 4557, 'solution': 4059, 'funnier': 1850, 'website': 4834, 'hood': 2151, 'virtually': 4751, 'discuss': 1283, 'polished': 3323, 'scared': 3805, 'videos': 4734, 'clips': 852, 'mall': 2720, 'desire': 1205, 'critic': 1061, 'basement': 405, 'zombies': 4998, 'freddy': 1826, 'lisa': 2616, 'demons': 1178, 'knife': 2487, 'bat': 410, 'matthau': 2771, 'catherine': 719, 'hanks': 2025, 'sympathetic': 4342, 'universal': 4665, 'tied': 4489, 'scientist': 3818, 'land': 2511, 'turkey': 4604, 'reunion': 3669, 'stereotypes': 4179, 'directs': 1267, 'sports': 4130, 'murderous': 2942, 'terror': 4412, 'del': 1165, 'guilty': 1995, 'conceived': 929, 'uncomfortable': 4637, 'reminds': 3620, 'saved': 3795, 'madonna': 2699, 'improve': 2254, 'afterwards': 145, 'bomb': 531, 'ad': 110, 'minimal': 2855, 'response': 3654, 'burt': 629, 'bo': 521, 'italian': 2367, 'sunday': 4293, 'chilling': 794, 'edgar': 1417, 'surprising': 4315, 'queen': 3485, 'bollywood': 530, 'massive': 2756, 'calling': 653, 'joined': 2413, 'company': 910, 'reveal': 3670, 'goal': 1925, 'skills': 4014, 'technical': 4381, 'defined': 1160, 'bore': 540, 'fare': 1655, 'strictly': 4223, 'courage': 1018, 'priceless': 3390, 'elizabeth': 1445, 'elephant': 1444, 'sappy': 3784, 'grandmother': 1955, 'safe': 3771, 'tarzan': 4367, 'admittedly': 123, 'dull': 1384, 'comical': 894, 'insult': 2309, 'afford': 138, 'fooled': 1780, 'attacks': 339, 'yellow': 4981, 'germans': 1897, 'horses': 2171, 'eerie': 1427, 'suits': 4287, 'scream': 3826, 'wasting': 4810, 'cruise': 1071, 'jason': 2383, 'brian': 576, 'cameron': 661, 'dr': 1340, 'curtis': 1087, 'consequences': 947, 'confused': 941, 'caring': 691, 'trust': 4598, 'warrior': 4802, 'defeat': 1157, 'comparing': 913, 'thrills': 4475, 'irish': 2353, 'ireland': 2352, 'walls': 4783, 'criminal': 1057, 'pig': 3274, 'earned': 1401, 'guilt': 1994, 'victor': 4731, 'impress': 2250, 'foster': 1809, 'wins': 4899, 'command': 897, 'noir': 3023, 'generic': 1885, 'mini': 2854, 'screens': 3832, 'caused': 724, 'memory': 2804, 'jesse': 2397, 'chicago': 785, 'tends': 4402, 'hollywoods': 2138, 'cats': 721, 'eddie': 1416, 'chaplin': 756, 'davies': 1125, 'screenwriter': 3833, 'behave': 445, 'consistently': 954, 'repetitive': 3633, 'implausible': 2245, 'moon': 2900, 'artificial': 306, 'skin': 4015, 'shop': 3945, 'row': 3744, 'listening': 2620, 'rescue': 3643, 'attacked': 338, 'distance': 1294, 'realism': 3549, 'luke': 2687, 'guarantee': 1987, 'needless': 2989, 'formulaic': 1803, 'product': 3418, 'promise': 3430, 'nuclear': 3057, 'workers': 4943, 'thick': 4447, 'factory': 1623, 'lab': 2501, 'ride': 3692, 'clip': 851, 'tie': 4488, 'scare': 3803, 'prisoners': 3403, 'suspenseful': 4331, 'mouse': 2919, 'paying': 3217, 'oddly': 3081, 'impression': 2252, 'wacky': 4769, 'seemingly': 3863, 'sold': 4052, 'dave': 1123, 'tommy': 4516, 'damon': 1101, 'spike': 4111, 'gang': 1867, 'cares': 690, 'surrounded': 4318, 'sneak': 4043, 'model': 2880, 'quest': 3486, 'nelson': 2997, 'trite': 4589, 'melting': 2799, 'union': 4661, 'cards': 683, 'uninteresting': 4660, 'domino': 1319, 'hunter': 2199, 'sentence': 3881, 'proceeds': 3411, 'learns': 2553, 'australia': 356, 'related': 3594, 'horrors': 2169, 'depicts': 1186, 'dances': 1106, 'samurai': 3779, 'resort': 3650, 'opened': 3113, 'possibility': 3349, 'commercials': 903, 'unreal': 4676, 'cd': 728, 'stress': 4220, 'explosion': 1596, 'furthermore': 1854, 'received': 3564, 'loses': 2657, 'leg': 2562, 'weight': 4840, 'spending': 4106, 'switch': 4339, 'rangers': 3517, 'breasts': 572, 'jobs': 2406, 'naive': 2958, 'losers': 2656, 'aunt': 355, 'cgi': 740, 'environment': 1505, 'witnessed': 4915, 'achieved': 93, 'daily': 1097, 'caliber': 649, 'assigned': 325, 'doctors': 1305, 'answers': 252, 'pot': 3354, 'friendly': 1836, 'receive': 3563, 'support': 4303, 'junior': 2435, 'hotel': 2175, 'frequently': 1832, 'trial': 4580, 'protagonists': 3442, 'test': 4416, 'poem': 3312, 'seasons': 3844, 'tad': 4347, 'grandfather': 1954, 'wives': 4918, 'ran': 3513, 'giallo': 1904, '1999': 27, 'storm': 4206, 'porno': 3337, 'nudity': 3059, 'scope': 3821, 'effectively': 1430, 'exploitation': 1592, 'experiments': 1584, 'heat': 2067, 'mel': 2796, 'locations': 2636, 'represent': 3637, 'jumped': 2430, 'props': 3439, 'frustrated': 1842, 'slight': 4027, 'acid': 95, 'online': 3109, 'information': 2288, 'village': 4743, 'figured': 1712, 'greatly': 1967, 'testament': 4417, 'contract': 973, 'press': 3379, 'singing': 3995, 'ham': 2011, 'ruby': 3749, 'virginia': 4750, 'ginger': 1908, 'available': 361, 'finest': 1730, 'bond': 532, 'pity': 3281, 'established': 1524, 'belongs': 460, 'afternoon': 144, 'stunts': 4246, 'stunt': 4245, 'dozens': 1339, 'mayor': 2777, 'margaret': 2735, 'settle': 3902, 'patients': 3212, 'mike': 2838, 'reads': 3545, 'failed': 1626, 'assume': 328, 'tricks': 4583, 'airport': 167, 'clumsy': 866, 'personalities': 3241, 'masterpiece': 2759, 'sensitive': 3879, 'india': 2273, 'identity': 2217, 'survival': 4320, 'critics': 1064, 'abysmal': 76, 'stanwyck': 4149, 'chain': 741, 'ballet': 389, 'bears': 421, 'resemblance': 3645, 'marie': 2737, 'kingdom': 2480, 'creator': 1043, 'chicks': 787, 'dressed': 1358, 'menace': 2806, 'crisis': 1060, 'kim': 2475, 'favourite': 1673, 'americans': 214, 'strength': 4219, 'theory': 4437, '90s': 61, 'gangster': 1868, 'judging': 2425, 'jones': 2418, 'entertain': 1497, 'dutch': 1389, 'youth': 4994, 'dear': 1140, 'concern': 931, 'illegal': 2229, 'fatal': 1664, 'exist': 1569, 'underlying': 4641, 'troubles': 4594, 'devils': 1229, 'experiment': 1583, 'hardcore': 2034, 'consists': 955, '50': 51, 'hundred': 2195, 'chair': 742, 'bath': 411, 'yelling': 4980, 'introduction': 2339, 'wanting': 4790, 'highlight': 2103, 'extraordinary': 1607, 'brazil': 568, 'maintain': 2710, 'embarrassing': 1454, 'swear': 4334, 'myers': 2952, 'donald': 1321, 'bang': 393, 'subsequent': 4257, 'viewings': 4741, 'frightening': 1839, 'carpenter': 694, 'franchise': 1817, 'speech': 4102, 'stylish': 4251, 'classics': 837, 'suspects': 4328, 'chess': 783, 'bold': 528, 'stuck': 4237, 'satisfying': 3791, 'logical': 2639, 'quit': 3494, 'producing': 3417, 'simplicity': 3984, 'actions': 101, 'empathy': 1462, 'miles': 2843, 'susan': 4326, 'slick': 4026, 'joy': 2422, 'curious': 1083, '17': 9, 'balance': 387, 'advice': 133, 'da': 1094, 'liking': 2604, 'explains': 1589, 'alfred': 181, 'installment': 2303, 'washington': 4806, 'plane': 3288, 'rabbit': 3498, 'saturday': 3792, 'expressed': 1601, 'families': 1644, 'depiction': 1185, 'format': 1799, 'civil': 826, 'stilted': 4190, 'lucas': 2680, 'laura': 2536, 'dan': 1102, 'pacino': 3164, 'bothered': 549, 'cure': 1081, 'voices': 4763, 'cartoons': 705, 'tune': 4602, 'expensive': 1579, 'regardless': 3590, 'rats': 3531, 'cheese': 780, '90': 60, 'scenario': 3808, 'border': 539, 'pointed': 3317, 'africa': 141, 'slave': 4022, 'caine': 647, 'hates': 2048, 'everyones': 1543, 'jewish': 2401, 'locked': 2637, 'lena': 2568, 'mob': 2879, 'bush': 632, 'ruth': 3763, 'typically': 4624, 'colonel': 876, 'opposed': 3122, 'inappropriate': 2259, 'bay': 416, 'gag': 1861, 'triumph': 4590, 'shut': 3961, 'matched': 2763, 'recording': 3575, 'beings': 449, 'fish': 1738, 'kinda': 2477, 'smooth': 4041, 'specific': 4099, 'welcome': 4842, 'maggie': 2702, 'sharp': 3922, 'wondered': 4927, 'shoots': 3944, 'blond': 510, 'preview': 3386, 'titanic': 4503, 'hiding': 2099, 'souls': 4080, 'spread': 4133, 'species': 4098, 'satisfy': 3790, 'harvey': 2042, 'appearances': 275, 'soccer': 4048, 'mickey': 2831, 'signs': 3973, 'determined': 1221, 'combine': 884, 'somewhere': 4069, 'larger': 2519, 'standing': 4146, 'riding': 3695, 'inventive': 2341, 'challenge': 743, 'cell': 730, 'wake': 4774, 'doc': 1303, 'relate': 3593, 'flying': 1764, 'fury': 1855, 'ocean': 3079, 'mummy': 2937, 'karloff': 2445, 'ignorant': 2223, 'ashamed': 312, 'occasion': 3073, 'halfway': 2008, 'atrocious': 335, 'below': 462, 'anne': 246, 'voiced': 4762, 'lacked': 2503, 'resulting': 3661, 'relative': 3599, 'raise': 3507, 'masters': 2761, 'wealth': 4826, 'houses': 2180, 'chose': 804, 'conflicts': 940, 'constructed': 959, 'elm': 1447, 'classical': 836, 'fix': 1744, 'speaks': 4096, 'soviet': 4089, 'daddy': 1096, 'melodramatic': 2798, 'homeless': 2143, 'rolled': 3729, 'psycho': 3457, 'terrifying': 4410, 'creep': 1051, 'tremendous': 4579, 'virgin': 4749, 'wounded': 4961, 'trap': 4563, 'friendship': 1838, 'hyde': 2206, 'cried': 1054, 'metal': 2823, 'spots': 4132, 'manipulative': 2727, 'dire': 1257, 'scores': 3823, 'burn': 625, 'feed': 1683, 'jay': 2386, 'navy': 2976, 'prostitute': 3440, 'conservative': 948, 'fever': 1699, 'chased': 770, 'fx': 1858, 'kidnapped': 2466, 'popcorn': 3331, 'loaded': 2632, 'outrageous': 3145, 'comfortable': 892, 'editor': 1423, 'construction': 960, 'outfit': 3144, 'berlin': 467, 'displayed': 1292, 'persona': 3239, 'cars': 702, 'confusion': 943, 'reactions': 3542, 'scientific': 3817, 'crucial': 1068, 'florida': 1761, 'noise': 3024, 'global': 1920, 'virus': 4752, 'threw': 4470, 'planning': 3291, 'douglas': 1334, 'sutherland': 4333, 'pal': 3177, '2003': 33, 'mechanical': 2788, 'eva': 1531, 'marketing': 2741, 'ridden': 3691, 'patient': 3211, 'issues': 2365, 'handsome': 2021, 'stranger': 4213, 'jessica': 2398, 'soap': 4047, 'disc': 1278, 'page': 3167, 'rolling': 3730, 'carefully': 689, 'included': 2262, 'invisible': 2344, 'vacation': 4704, 'assistant': 326, 'careful': 688, 'thief': 4448, 'unfolds': 4651, 'grows': 1985, 'progresses': 3426, 'overcome': 3151, 'ears': 1402, 'rocky': 3723, 'mountains': 2918, 'rush': 3759, 'mistaken': 2872, 'madness': 2698, 'ludicrous': 2685, 'sellers': 3872, 'definition': 1163, 'desired': 1206, 'ratings': 3530, 'walken': 4777, 'stiller': 4189, 'desert': 1198, 'according': 88, 'neck': 2985, 'corporate': 998, 'fulci': 1845, 'resembles': 3646, 'magical': 2704, 'streisand': 4218, 'curiosity': 1082, 'manager': 2724, 'specifically': 4100, 'alice': 182, 'crocodile': 1065, 'elegant': 1441, 'tap': 4364, '12': 3, 'nazis': 2978, 'vicious': 4728, 'repeatedly': 3632, 'sends': 3876, 'neighbor': 2992, 'alan': 171, 'claims': 830, 'belong': 459, 'dentist': 1180, 'painted': 3174, 'beloved': 461, 'jail': 2376, 'spite': 4117, 'sole': 4055, 'trashy': 4566, 'disease': 1285, 'causes': 725, 'trail': 4553, 'baker': 385, 'kicked': 2461, 'molly': 2884, 'honor': 2150, 'questionable': 3488, 'devoid': 1230, 'primarily': 3393, 'intent': 2318, 'messages': 2820, 'began': 441, 'hank': 2024, 'hoffman': 2128, 'wishing': 4907, 'killings': 2473, 'eastwood': 1409, 'explaining': 1588, 'staff': 4138, 'leonard': 2572, 'logic': 2638, 'doomed': 1327, 'cave': 727, 'clues': 865, 'travel': 4567, 'surface': 4310, 'explored': 1595, 'poetry': 3314, 'downhill': 1336, 'toward': 4539, 'progress': 3425, 'lower': 2677, 'stinks': 4192, 'restored': 3659, 'pulp': 3465, 'avoided': 364, 'incomprehensible': 2267, 'text': 4419, 'beneath': 464, 'generations': 1884, 'flies': 1756, 'philosophical': 3253, 'lay': 2542, 'flawed': 1750, 'controversial': 978, 'necessary': 2984, 'fourth': 1813, '1990s': 25, 'bone': 533, 'empire': 1464, '25': 40, 'remarkably': 3614, '30s': 44, 'earl': 1398, 'develops': 1226, 'minds': 2852, 'outcome': 3142, 'genres': 1889, 'epic': 1506, 'explicit': 1591, 'producer': 3415, 'gifted': 1907, 'performer': 3231, 'steals': 4172, 'mtv': 2933, 'cinematographer': 819, 'countless': 1012, 'required': 3641, 'round': 3742, 'depicting': 1184, 'texas': 4418, 'murdered': 2940, 'moronic': 2907, 'placed': 3283, 'unbearable': 4633, 'stellar': 4174, 'medical': 2790, 'massacre': 2754, 'parallel': 3185, 'superbly': 4297, 'compelled': 915, 'godfather': 1927, 'arrival': 299, 'rubber': 3747, 'parker': 3191, 'tracks': 4545, 'minded': 2850, 'bob': 524, 'secretary': 3850, 'brains': 563, 'facing': 1620, 'commented': 900, 'elvis': 1451, 'rotten': 3740, 'sue': 4274, 'clichéd': 845, 'relations': 3596, 'crappy': 1032, 'false': 1641, 'advertising': 132, '40s': 49, 'broke': 593, 'link': 2613, 'parent': 3187, 'foul': 1810, 'abc': 63, 'currently': 1085, 'documentaries': 1306, 'primary': 3394, 'source': 4086, 'valuable': 4708, 'purchase': 3469, 'denzel': 1181, 'african': 142, 'schools': 3814, 'contest': 967, 'failing': 1627, 'li': 2587, 'exaggerated': 1552, 'ken': 2453, 'stated': 4161, 'kinds': 2478, 'mario': 2738, 'devil': 1228, 'ridiculously': 3694, 'adding': 117, 'miserably': 2864, 'toilet': 4512, 'zombie': 4997, 'vaguely': 4706, 'eaten': 1412, 'photographed': 3258, 'medium': 2792, 'interviews': 2330, 'pat': 3208, 'considerable': 950, 'freeman': 1829, 'mountain': 2917, 'load': 2631, 'opportunities': 3120, 'manage': 2722, 'birth': 486, 'hunt': 2198, 'explosions': 1597, 'piano': 3264, 'pops': 3332, 'individuals': 2278, 'rex': 3683, 'directorial': 1265, 'dinosaur': 1255, '2006': 36, 'reached': 3537, 'access': 83, 'ripped': 3701, 'produce': 3413, 'miserable': 2863, 'unseen': 4678, 'heroic': 2090, 'werewolf': 4850, 'bite': 489, 'convince': 983, 'nonetheless': 3029, 'blunt': 520, 'overlook': 3153, 'armed': 293, 'bela': 450, 'lugosi': 2686, 'east': 1407, 'trilogy': 4586, 'orson': 3132, 'defense': 1159, 'attorney': 348, 'glenn': 1918, 'chances': 748, 'heights': 2073, 'urge': 4689, 'disgusting': 1286, 'beatty': 427, 'strip': 4228, 'competition': 918, 'sinatra': 3989, 'judy': 2426, 'andrews': 229, 'inspiration': 2300, 'eric': 1514, 'accomplished': 87, 'sucks': 4271, 'donna': 1323, 'education': 1424, 'incoherent': 2265, 'panic': 3181, 'mixture': 2878, 'shed': 3924, 'mgm': 2828, 'couples': 1017, 'georges': 1894, 'dancers': 1105, 'differences': 1247, 'celluloid': 731, 'eyed': 1612, 'buck': 605, 'endure': 1475, 'hitchcock': 2123, 'kubrick': 2496, 'perfection': 3225, 'appreciation': 281, '2000': 30, 'carradine': 695, 'franco': 1820, 'coach': 868, 'junk': 2436, 'cheek': 779, 'historically': 2120, 'exploration': 1593, 'doom': 1326, 'ultra': 4629, 'nicholson': 3011, 'seventies': 3904, 'amounts': 220, 'clown': 862, 'cabin': 643, 'disappear': 1270, 'mars': 2746, 'stayed': 4167, 'wing': 4896, 'marvelous': 2750, 'advance': 127, 'idiotic': 2219, 'severe': 3906, 'hip': 2114, 'nyc': 3065, 'escaped': 1518, 'trademark': 4548, 'september': 3884, 'library': 2589, 'birds': 485, 'stood': 4199, 'unaware': 4632, 'anger': 235, 'lemmon': 2567, 'hamilton': 2012, 'passed': 3202, 'suspend': 4329, 'hopeless': 2158, 'elsewhere': 1449, 'generated': 1882, 'ship': 3934, 'drag': 1342, 'sentimental': 3882, 'whereas': 4865, 'succeed': 4262, 'twins': 4616, 'hence': 2083, 'brooklyn': 595, '1980': 20, 'landscape': 2513, 'enters': 1496, 'staged': 4140, 'edition': 1422, 'edie': 1419, 'truck': 4595, 'aimed': 162, 'holly': 2136, 'losing': 2658, 'hbo': 2055, 'performers': 3232, 'rap': 3520, 'treats': 4575, 'motivations': 2915, 'print': 3399, 'spare': 4093, 'bugs': 613, 'choreographed': 801, 'fool': 1779, 'beer': 439, 'mentally': 2809, 'forgot': 1796, 'provoking': 3452, 'dialogues': 1235, 'liners': 2611, 'hollow': 2135, 'lacking': 2504, 'performed': 3230, 'mighty': 2836, 'revealing': 3672, 'pink': 3277, 'akshay': 169, 'terrorist': 4413, 'builds': 617, 'market': 2740, 'louis': 2665, 'miike': 2837, 'cusack': 1088, 'brilliance': 582, 'relevant': 3604, 'rising': 3703, 'steps': 4177, 'distracting': 1297, 'st': 4137, 'stan': 4142, 'laurel': 2537, 'sea': 3838, 'kick': 2460, 'garbo': 1871, 'ruins': 3752, 'gritty': 1977, 'helicopter': 2076, 'gradually': 1952, 'horrid': 2165, 'operation': 3117, 'stomach': 4196, 'religious': 3608, 'orange': 3125, 'attitudes': 347, 'respected': 3653, 'captivating': 675, 'shines': 3932, 'greek': 1970, 'animals': 240, 'turner': 4607, 'jonathan': 2417, 'elvira': 1450, 'helen': 2075, 'wore': 4939, 'visits': 4756, 'understated': 4646, 'household': 2179, 'blew': 505, 'museum': 2945, 'awfully': 373, 'perry': 3237, 'removed': 3624, 'racial': 3501, 'shy': 3962, 'prisoner': 3402, 'glimpse': 1919, 'cowboy': 1025, 'bourne': 554, 'teachers': 4376, 'macy': 2695, 'isolated': 2363, 'timothy': 4499, 'vote': 4766, 'unbelievably': 4635, 'financial': 1725, 'innovative': 2295, 'farm': 1656, 'subplot': 4255, 'broken': 594, 'errors': 1516, 'derek': 1192, 'corrupt': 1001, 'cia': 814, 'laid': 2508, 'previously': 3388, 'montana': 2895, 'passionate': 3206, 'unsettling': 4679, 'host': 2173, 'demand': 1174, 'ha': 2002, 'coherent': 871, 'serving': 3897, 'ease': 1404, 'fbi': 1675, 'hart': 2041, 'mistakes': 2873, 'capital': 673, 'spooky': 4128, 'tunes': 4603, 'sally': 3776, 'models': 2881, 'raymond': 3534, 'civilization': 827, 'rage': 3505, 'dinosaurs': 1256, 'toys': 4543, 'toy': 4542, 'masterpieces': 2760, '40': 48, 'threat': 4467, 'arrogant': 303, 'feminist': 1695, 'disagree': 1269, 'integrity': 2311, 'pays': 3218, 'deceased': 1146, 'connect': 944, 'troops': 4591, 'survivors': 4325, 'argue': 290, 'waves': 4819, 'tall': 4362, 'blacks': 494, 'brosnan': 597, 'abraham': 69, 'ashley': 313, 'appealing': 272, 'buddies': 608, 'duke': 1383, 'timing': 4498, 'glorious': 1921, 'greed': 1968, 'newspaper': 3006, 'spoiled': 4122, 'wrestling': 4966, 'cities': 823, 'vice': 4727, 'homer': 2144, 'steel': 4173, 'murphy': 2944, 'bonus': 534, 'window': 4894, 'wrap': 4963, 'kenneth': 2455, 'branagh': 564, 'dropping': 1371, 'stanley': 4148, 'pleasantly': 3303, 'sport': 4129, 'burns': 628, 'stealing': 4171, 'doo': 1325, 'seagal': 3839, 'executive': 1567, 'throwing': 4480, 'immensely': 2243, 'rights': 3697, 'neil': 2995, 'creators': 1044, 'multi': 2935, 'deliberately': 1166, '2nd': 41, 'spain': 4091, 'revolves': 3682, 'fields': 1705, 'brutally': 604, 'scooby': 3820, 'bettie': 473, 'similarly': 3980, 'provided': 3449, 'fashioned': 1660, 'bakshi': 386, 'mainstream': 2709, 'barry': 401, 'absence': 70, 'philosophy': 3254, 'butler': 637, 'cinemas': 817, 'gender': 1878, 'nations': 2971, 'rambo': 3511, 'mexico': 2827, 'jaws': 2385, 'sits': 4006, 'alert': 178, 'promised': 3431, 'hunters': 2200, 'ian': 2209, 'pulling': 3463, 'jon': 2416, 'voight': 4764, 'health': 2060, 'witches': 4910, 'greedy': 1969, 'alternate': 200, 'hundreds': 2196, 'buffs': 612, 'sunshine': 4294, 'mundane': 2938, 'twin': 4615, 'imagined': 2239, 'brooks': 596, 'deaf': 1134, 'relation': 3595, 'singers': 3994, 'matt': 2768, 'enemy': 1477, 'media': 2789, 'screams': 3828, 'professor': 3422, 'machines': 2694, '75': 57, 'lengthy': 2570, 'likewise': 2603, 'drives': 1367, 'appearing': 277, 'italy': 2368, 'bird': 484, 'dollar': 1314, 'carrey': 696, 'norman': 3035, 'alcohol': 176, 'linda': 2609, 'robbery': 3711, 'victoria': 4732, 'succeeded': 4263, 'smoking': 4040, 'lincoln': 2608, 'fonda': 1777, 'brady': 561, 'godzilla': 1929, 'corruption': 1002, 'newly': 3004, 'investigate': 2342, 'suspicious': 4332, 'rochester': 3719, 'walker': 4778, 'receives': 3565, 'wandering': 4785, 'icon': 2211, 'amitabh': 216, 'endearing': 1469, 'indie': 2276, 'vengeance': 4719, 'damage': 1099, 'streep': 4215, 'daniel': 1111, 'letters': 2582, 'mail': 2706, 'brando': 566, 'simmons': 3981, 'horrendous': 2162, 'hugh': 2186, 'sacrifice': 3766, 'bud': 607, 'forty': 1807, '24': 39, 'arrive': 300, 'strikes': 4225, 'legal': 2563, 'waters': 4817, 'shirley': 3936, 'messed': 2821, 'versus': 4722, 'exposure': 1599, 'sexually': 3910, 'splendid': 4119, 'dorothy': 1330, 'bacall': 377, 'hudson': 2184, 'pit': 3278, 'championship': 745, 'lone': 2642, '1940s': 13, 'june': 2433, 'internet': 2327, 'justify': 2439, 'seeks': 3860, 'spirited': 4114, 'enormous': 1490, 'bottle': 550, 'gabriel': 1859, 'enjoyment': 1488, 'moody': 2899, 'eyre': 1614, '1983': 22, 'dalton': 1098, 'robinson': 3716, 'homosexual': 2145, 'simpson': 3987, 'prom': 3429, 'kiss': 2483, 'fay': 1674, 'bell': 458, 'root': 3737, 'lol': 2640, 'lately': 2524, 'astaire': 330, 'practice': 3363, 'indians': 2275, 'developing': 1224, 'louise': 2666, 'adorable': 124, 'iron': 2354, 'chapter': 757, 'aging': 153, 'paulie': 3215, 'surfing': 4311, 'doubts': 1333, 'carl': 692, 'watches': 4814, 'winters': 4901, 'analysis': 224, 'destroying': 1215, 'masterful': 2758, 'wizard': 4919, 'oz': 3160, 'scarecrow': 3804, 'mafia': 2700, 'cube': 1076, 'hopper': 2161, 'sullivan': 4288, 'solo': 4058, 'hook': 2152, 'mindless': 2851, 'omen': 3104, 'poetic': 3313, 'miracle': 2860, 'lifestyle': 2593, 'resident': 3647, 'korean': 2495, 'overlooked': 3154, 'eccentric': 1414, 'dressing': 1359, 'displays': 1293, 'catching': 716, 'tooth': 4524, 'illness': 2230, 'hello': 2078, 'iran': 2350, 'cannibal': 669, 'hilariously': 2107, 'ninja': 3018, 'frankenstein': 1822, 'richards': 3687, 'francis': 1818, 'lumet': 2688, 'fisher': 1739, 'guest': 1992, 'grinch': 1975, 'catches': 715, 'tiger': 4491, 'merits': 2817, 'honesty': 2148, 'block': 508, 'channels': 754, 'blob': 507, 'betty': 474, 'weakest': 4825, '13th': 5, 'remarks': 3615, 'diana': 1237, 'gandhi': 1866, 'bumbling': 622, 'valley': 4707, 'incompetent': 2266, 'rendition': 3625, 'emily': 1456, 'tomatoes': 4515, 'scrooge': 3837, 'extended': 1604, 'basketball': 409, 'matches': 2764, 'wallace': 4782, 'gundam': 1997, 'dracula': 1341, 'nurse': 3063, 'kapoor': 2443, 'marty': 2749, 'stooges': 4200, 'whale': 4857, 'dolph': 1317, 'polanski': 3321, 'pokemon': 3320, 'gadget': 1860}\n"
     ]
    }
   ],
   "source": [
    "print(str(vocabulary))"
   ]
  },
  {
   "cell_type": "markdown",
   "metadata": {},
   "source": [
    "Once you have added the endpoint name to the Lambda function, click on **Save**. Your Lambda function is now up and running. Next we need to create a way for our web app to execute the Lambda function."
   ]
  },
  {
   "cell_type": "markdown",
   "metadata": {},
   "source": [
    "### Setting up API Gateway\n",
    "\n",
    "Now that our Lambda function is set up, it is time to create a new API using API Gateway that will trigger the Lambda function we have just created.\n",
    "\n",
    "Using AWS Console, navigate to **Amazon API Gateway** and then click on **Get started**.\n",
    "\n",
    "On the next page, make sure that **New API** is selected and give the new api a name, for example, `sentiment_analysis_web_app`. Then, click on **Create API**.\n",
    "\n",
    "Now we have created an API, however it doesn't currently do anything. What we want it to do is to trigger the Lambda function that we created earlier.\n",
    "\n",
    "Select the **Actions** dropdown menu and click **Create Method**. A new blank method will be created, select its dropdown menu and select **POST**, then click on the check mark beside it.\n",
    "\n",
    "For the integration point, make sure that **Lambda Function** is selected and click on the **Use Lambda Proxy integration**. This option makes sure that the data that is sent to the API is then sent directly to the Lambda function with no processing. It also means that the return value must be a proper response object as it will also not be processed by API Gateway.\n",
    "\n",
    "Type the name of the Lambda function you created earlier into the **Lambda Function** text entry box and then click on **Save**. Click on **OK** in the pop-up box that then appears, giving permission to API Gateway to invoke the Lambda function you created.\n",
    "\n",
    "The last step in creating the API Gateway is to select the **Actions** dropdown and click on **Deploy API**. You will need to create a new Deployment stage and name it anything you like, for example `prod`.\n",
    "\n",
    "You have now successfully set up a public API to access your SageMaker model. Make sure to copy or write down the URL provided to invoke your newly created public API as this will be needed in the next step. This URL can be found at the top of the page, highlighted in blue next to the text **Invoke URL**."
   ]
  },
  {
   "cell_type": "markdown",
   "metadata": {},
   "source": [
    "## Step 7: Deploying our web app\n",
    "\n",
    "Now that we have a publicly available API, we can start using it in a web app. For our purposes, we have provided a simple static html file which can make use of the public api you created earlier.\n",
    "\n",
    "In the `website` folder there should be a file called `index.html`. Download the file to your computer and open that file up in a text editor of your choice. There should be a line which contains **\\*\\*REPLACE WITH PUBLIC API URL\\*\\***. Replace this string with the url that you wrote down in the last step and then save the file.\n",
    "\n",
    "Now, if you open `index.html` on your local computer, your browser will behave as a local web server and you can use the provided site to interact with your SageMaker model.\n",
    "\n",
    "If you'd like to go further, you can host this html file anywhere you'd like, for example using github or hosting a static site on Amazon's S3. Once you have done this you can share the link with anyone you'd like and have them play with it too!\n",
    "\n",
    "> **Important Note** In order for the web app to communicate with the SageMaker endpoint, the endpoint has to actually be deployed and running. This means that you are paying for it. Make sure that the endpoint is running when you want to use the web app but that you shut it down when you don't need it, otherwise you will end up with a surprisingly large AWS bill."
   ]
  },
  {
   "cell_type": "markdown",
   "metadata": {},
   "source": [
    "### Delete the endpoint\n",
    "\n",
    "Remember to always shut down your endpoint if you are no longer using it. You are charged for the length of time that the endpoint is running so if you forget and leave it on you could end up with an unexpectedly large bill."
   ]
  },
  {
   "cell_type": "code",
   "execution_count": 50,
   "metadata": {},
   "outputs": [],
   "source": [
    "xgb_predictor.delete_endpoint()"
   ]
  },
  {
   "cell_type": "markdown",
   "metadata": {},
   "source": [
    "## Optional: Clean up\n",
    "\n",
    "The default notebook instance on SageMaker doesn't have a lot of excess disk space available. As you continue to complete and execute notebooks you will eventually fill up this disk space, leading to errors which can be difficult to diagnose. Once you are completely finished using a notebook it is a good idea to remove the files that you created along the way. Of course, you can do this from the terminal or from the notebook hub if you would like. The cell below contains some commands to clean up the created files from within the notebook."
   ]
  },
  {
   "cell_type": "code",
   "execution_count": 51,
   "metadata": {},
   "outputs": [
    {
     "ename": "OSError",
     "evalue": "[Errno 12] Cannot allocate memory",
     "output_type": "error",
     "traceback": [
      "\u001b[0;31m---------------------------------------------------------------------------\u001b[0m",
      "\u001b[0;31mOSError\u001b[0m                                   Traceback (most recent call last)",
      "\u001b[0;32m<ipython-input-51-2c87d8eefdf2>\u001b[0m in \u001b[0;36m<module>\u001b[0;34m()\u001b[0m\n\u001b[1;32m      1\u001b[0m \u001b[0;31m# First we will remove all of the files contained in the data_dir directory\u001b[0m\u001b[0;34m\u001b[0m\u001b[0;34m\u001b[0m\u001b[0m\n\u001b[0;32m----> 2\u001b[0;31m \u001b[0mget_ipython\u001b[0m\u001b[0;34m(\u001b[0m\u001b[0;34m)\u001b[0m\u001b[0;34m.\u001b[0m\u001b[0msystem\u001b[0m\u001b[0;34m(\u001b[0m\u001b[0;34m'rm $data_dir/*'\u001b[0m\u001b[0;34m)\u001b[0m\u001b[0;34m\u001b[0m\u001b[0m\n\u001b[0m\u001b[1;32m      3\u001b[0m \u001b[0;34m\u001b[0m\u001b[0m\n\u001b[1;32m      4\u001b[0m \u001b[0;31m# And then we delete the directory itself\u001b[0m\u001b[0;34m\u001b[0m\u001b[0;34m\u001b[0m\u001b[0m\n\u001b[1;32m      5\u001b[0m \u001b[0mget_ipython\u001b[0m\u001b[0;34m(\u001b[0m\u001b[0;34m)\u001b[0m\u001b[0;34m.\u001b[0m\u001b[0msystem\u001b[0m\u001b[0;34m(\u001b[0m\u001b[0;34m'rmdir $data_dir'\u001b[0m\u001b[0;34m)\u001b[0m\u001b[0;34m\u001b[0m\u001b[0m\n",
      "\u001b[0;32m~/anaconda3/envs/python3/lib/python3.6/site-packages/IPython/core/interactiveshell.py\u001b[0m in \u001b[0;36msystem_piped\u001b[0;34m(self, cmd)\u001b[0m\n\u001b[1;32m   2259\u001b[0m         \u001b[0;31m# a non-None value would trigger :func:`sys.displayhook` calls.\u001b[0m\u001b[0;34m\u001b[0m\u001b[0;34m\u001b[0m\u001b[0m\n\u001b[1;32m   2260\u001b[0m         \u001b[0;31m# Instead, we store the exit_code in user_ns.\u001b[0m\u001b[0;34m\u001b[0m\u001b[0;34m\u001b[0m\u001b[0m\n\u001b[0;32m-> 2261\u001b[0;31m         \u001b[0mself\u001b[0m\u001b[0;34m.\u001b[0m\u001b[0muser_ns\u001b[0m\u001b[0;34m[\u001b[0m\u001b[0;34m'_exit_code'\u001b[0m\u001b[0;34m]\u001b[0m \u001b[0;34m=\u001b[0m \u001b[0msystem\u001b[0m\u001b[0;34m(\u001b[0m\u001b[0mself\u001b[0m\u001b[0;34m.\u001b[0m\u001b[0mvar_expand\u001b[0m\u001b[0;34m(\u001b[0m\u001b[0mcmd\u001b[0m\u001b[0;34m,\u001b[0m \u001b[0mdepth\u001b[0m\u001b[0;34m=\u001b[0m\u001b[0;36m1\u001b[0m\u001b[0;34m)\u001b[0m\u001b[0;34m)\u001b[0m\u001b[0;34m\u001b[0m\u001b[0m\n\u001b[0m\u001b[1;32m   2262\u001b[0m \u001b[0;34m\u001b[0m\u001b[0m\n\u001b[1;32m   2263\u001b[0m     \u001b[0;32mdef\u001b[0m \u001b[0msystem_raw\u001b[0m\u001b[0;34m(\u001b[0m\u001b[0mself\u001b[0m\u001b[0;34m,\u001b[0m \u001b[0mcmd\u001b[0m\u001b[0;34m)\u001b[0m\u001b[0;34m:\u001b[0m\u001b[0;34m\u001b[0m\u001b[0m\n",
      "\u001b[0;32m~/anaconda3/envs/python3/lib/python3.6/site-packages/IPython/utils/_process_posix.py\u001b[0m in \u001b[0;36msystem\u001b[0;34m(self, cmd)\u001b[0m\n\u001b[1;32m    154\u001b[0m                 \u001b[0mchild\u001b[0m \u001b[0;34m=\u001b[0m \u001b[0mpexpect\u001b[0m\u001b[0;34m.\u001b[0m\u001b[0mspawnb\u001b[0m\u001b[0;34m(\u001b[0m\u001b[0mself\u001b[0m\u001b[0;34m.\u001b[0m\u001b[0msh\u001b[0m\u001b[0;34m,\u001b[0m \u001b[0margs\u001b[0m\u001b[0;34m=\u001b[0m\u001b[0;34m[\u001b[0m\u001b[0;34m'-c'\u001b[0m\u001b[0;34m,\u001b[0m \u001b[0mcmd\u001b[0m\u001b[0;34m]\u001b[0m\u001b[0;34m)\u001b[0m \u001b[0;31m# Pexpect-U\u001b[0m\u001b[0;34m\u001b[0m\u001b[0m\n\u001b[1;32m    155\u001b[0m             \u001b[0;32melse\u001b[0m\u001b[0;34m:\u001b[0m\u001b[0;34m\u001b[0m\u001b[0m\n\u001b[0;32m--> 156\u001b[0;31m                 \u001b[0mchild\u001b[0m \u001b[0;34m=\u001b[0m \u001b[0mpexpect\u001b[0m\u001b[0;34m.\u001b[0m\u001b[0mspawn\u001b[0m\u001b[0;34m(\u001b[0m\u001b[0mself\u001b[0m\u001b[0;34m.\u001b[0m\u001b[0msh\u001b[0m\u001b[0;34m,\u001b[0m \u001b[0margs\u001b[0m\u001b[0;34m=\u001b[0m\u001b[0;34m[\u001b[0m\u001b[0;34m'-c'\u001b[0m\u001b[0;34m,\u001b[0m \u001b[0mcmd\u001b[0m\u001b[0;34m]\u001b[0m\u001b[0;34m)\u001b[0m  \u001b[0;31m# Vanilla Pexpect\u001b[0m\u001b[0;34m\u001b[0m\u001b[0m\n\u001b[0m\u001b[1;32m    157\u001b[0m             \u001b[0mflush\u001b[0m \u001b[0;34m=\u001b[0m \u001b[0msys\u001b[0m\u001b[0;34m.\u001b[0m\u001b[0mstdout\u001b[0m\u001b[0;34m.\u001b[0m\u001b[0mflush\u001b[0m\u001b[0;34m\u001b[0m\u001b[0m\n\u001b[1;32m    158\u001b[0m             \u001b[0;32mwhile\u001b[0m \u001b[0;32mTrue\u001b[0m\u001b[0;34m:\u001b[0m\u001b[0;34m\u001b[0m\u001b[0m\n",
      "\u001b[0;32m~/anaconda3/envs/python3/lib/python3.6/site-packages/pexpect/pty_spawn.py\u001b[0m in \u001b[0;36m__init__\u001b[0;34m(self, command, args, timeout, maxread, searchwindowsize, logfile, cwd, env, ignore_sighup, echo, preexec_fn, encoding, codec_errors, dimensions, use_poll)\u001b[0m\n\u001b[1;32m    202\u001b[0m             \u001b[0mself\u001b[0m\u001b[0;34m.\u001b[0m\u001b[0mname\u001b[0m \u001b[0;34m=\u001b[0m \u001b[0;34m'<pexpect factory incomplete>'\u001b[0m\u001b[0;34m\u001b[0m\u001b[0m\n\u001b[1;32m    203\u001b[0m         \u001b[0;32melse\u001b[0m\u001b[0;34m:\u001b[0m\u001b[0;34m\u001b[0m\u001b[0m\n\u001b[0;32m--> 204\u001b[0;31m             \u001b[0mself\u001b[0m\u001b[0;34m.\u001b[0m\u001b[0m_spawn\u001b[0m\u001b[0;34m(\u001b[0m\u001b[0mcommand\u001b[0m\u001b[0;34m,\u001b[0m \u001b[0margs\u001b[0m\u001b[0;34m,\u001b[0m \u001b[0mpreexec_fn\u001b[0m\u001b[0;34m,\u001b[0m \u001b[0mdimensions\u001b[0m\u001b[0;34m)\u001b[0m\u001b[0;34m\u001b[0m\u001b[0m\n\u001b[0m\u001b[1;32m    205\u001b[0m         \u001b[0mself\u001b[0m\u001b[0;34m.\u001b[0m\u001b[0muse_poll\u001b[0m \u001b[0;34m=\u001b[0m \u001b[0muse_poll\u001b[0m\u001b[0;34m\u001b[0m\u001b[0m\n\u001b[1;32m    206\u001b[0m \u001b[0;34m\u001b[0m\u001b[0m\n",
      "\u001b[0;32m~/anaconda3/envs/python3/lib/python3.6/site-packages/pexpect/pty_spawn.py\u001b[0m in \u001b[0;36m_spawn\u001b[0;34m(self, command, args, preexec_fn, dimensions)\u001b[0m\n\u001b[1;32m    301\u001b[0m \u001b[0;34m\u001b[0m\u001b[0m\n\u001b[1;32m    302\u001b[0m         self.ptyproc = self._spawnpty(self.args, env=self.env,\n\u001b[0;32m--> 303\u001b[0;31m                                      cwd=self.cwd, **kwargs)\n\u001b[0m\u001b[1;32m    304\u001b[0m \u001b[0;34m\u001b[0m\u001b[0m\n\u001b[1;32m    305\u001b[0m         \u001b[0mself\u001b[0m\u001b[0;34m.\u001b[0m\u001b[0mpid\u001b[0m \u001b[0;34m=\u001b[0m \u001b[0mself\u001b[0m\u001b[0;34m.\u001b[0m\u001b[0mptyproc\u001b[0m\u001b[0;34m.\u001b[0m\u001b[0mpid\u001b[0m\u001b[0;34m\u001b[0m\u001b[0m\n",
      "\u001b[0;32m~/anaconda3/envs/python3/lib/python3.6/site-packages/pexpect/pty_spawn.py\u001b[0m in \u001b[0;36m_spawnpty\u001b[0;34m(self, args, **kwargs)\u001b[0m\n\u001b[1;32m    312\u001b[0m     \u001b[0;32mdef\u001b[0m \u001b[0m_spawnpty\u001b[0m\u001b[0;34m(\u001b[0m\u001b[0mself\u001b[0m\u001b[0;34m,\u001b[0m \u001b[0margs\u001b[0m\u001b[0;34m,\u001b[0m \u001b[0;34m**\u001b[0m\u001b[0mkwargs\u001b[0m\u001b[0;34m)\u001b[0m\u001b[0;34m:\u001b[0m\u001b[0;34m\u001b[0m\u001b[0m\n\u001b[1;32m    313\u001b[0m         \u001b[0;34m'''Spawn a pty and return an instance of PtyProcess.'''\u001b[0m\u001b[0;34m\u001b[0m\u001b[0m\n\u001b[0;32m--> 314\u001b[0;31m         \u001b[0;32mreturn\u001b[0m \u001b[0mptyprocess\u001b[0m\u001b[0;34m.\u001b[0m\u001b[0mPtyProcess\u001b[0m\u001b[0;34m.\u001b[0m\u001b[0mspawn\u001b[0m\u001b[0;34m(\u001b[0m\u001b[0margs\u001b[0m\u001b[0;34m,\u001b[0m \u001b[0;34m**\u001b[0m\u001b[0mkwargs\u001b[0m\u001b[0;34m)\u001b[0m\u001b[0;34m\u001b[0m\u001b[0m\n\u001b[0m\u001b[1;32m    315\u001b[0m \u001b[0;34m\u001b[0m\u001b[0m\n\u001b[1;32m    316\u001b[0m     \u001b[0;32mdef\u001b[0m \u001b[0mclose\u001b[0m\u001b[0;34m(\u001b[0m\u001b[0mself\u001b[0m\u001b[0;34m,\u001b[0m \u001b[0mforce\u001b[0m\u001b[0;34m=\u001b[0m\u001b[0;32mTrue\u001b[0m\u001b[0;34m)\u001b[0m\u001b[0;34m:\u001b[0m\u001b[0;34m\u001b[0m\u001b[0m\n",
      "\u001b[0;32m~/anaconda3/envs/python3/lib/python3.6/site-packages/ptyprocess/ptyprocess.py\u001b[0m in \u001b[0;36mspawn\u001b[0;34m(cls, argv, cwd, env, echo, preexec_fn, dimensions)\u001b[0m\n\u001b[1;32m    220\u001b[0m \u001b[0;34m\u001b[0m\u001b[0m\n\u001b[1;32m    221\u001b[0m         \u001b[0;32mif\u001b[0m \u001b[0muse_native_pty_fork\u001b[0m\u001b[0;34m:\u001b[0m\u001b[0;34m\u001b[0m\u001b[0m\n\u001b[0;32m--> 222\u001b[0;31m             \u001b[0mpid\u001b[0m\u001b[0;34m,\u001b[0m \u001b[0mfd\u001b[0m \u001b[0;34m=\u001b[0m \u001b[0mpty\u001b[0m\u001b[0;34m.\u001b[0m\u001b[0mfork\u001b[0m\u001b[0;34m(\u001b[0m\u001b[0;34m)\u001b[0m\u001b[0;34m\u001b[0m\u001b[0m\n\u001b[0m\u001b[1;32m    223\u001b[0m         \u001b[0;32melse\u001b[0m\u001b[0;34m:\u001b[0m\u001b[0;34m\u001b[0m\u001b[0m\n\u001b[1;32m    224\u001b[0m             \u001b[0;31m# Use internal fork_pty, for Solaris\u001b[0m\u001b[0;34m\u001b[0m\u001b[0;34m\u001b[0m\u001b[0m\n",
      "\u001b[0;32m~/anaconda3/envs/python3/lib/python3.6/pty.py\u001b[0m in \u001b[0;36mfork\u001b[0;34m()\u001b[0m\n\u001b[1;32m     95\u001b[0m \u001b[0;34m\u001b[0m\u001b[0m\n\u001b[1;32m     96\u001b[0m     \u001b[0mmaster_fd\u001b[0m\u001b[0;34m,\u001b[0m \u001b[0mslave_fd\u001b[0m \u001b[0;34m=\u001b[0m \u001b[0mopenpty\u001b[0m\u001b[0;34m(\u001b[0m\u001b[0;34m)\u001b[0m\u001b[0;34m\u001b[0m\u001b[0m\n\u001b[0;32m---> 97\u001b[0;31m     \u001b[0mpid\u001b[0m \u001b[0;34m=\u001b[0m \u001b[0mos\u001b[0m\u001b[0;34m.\u001b[0m\u001b[0mfork\u001b[0m\u001b[0;34m(\u001b[0m\u001b[0;34m)\u001b[0m\u001b[0;34m\u001b[0m\u001b[0m\n\u001b[0m\u001b[1;32m     98\u001b[0m     \u001b[0;32mif\u001b[0m \u001b[0mpid\u001b[0m \u001b[0;34m==\u001b[0m \u001b[0mCHILD\u001b[0m\u001b[0;34m:\u001b[0m\u001b[0;34m\u001b[0m\u001b[0m\n\u001b[1;32m     99\u001b[0m         \u001b[0;31m# Establish a new session.\u001b[0m\u001b[0;34m\u001b[0m\u001b[0;34m\u001b[0m\u001b[0m\n",
      "\u001b[0;31mOSError\u001b[0m: [Errno 12] Cannot allocate memory"
     ]
    }
   ],
   "source": [
    "# First we will remove all of the files contained in the data_dir directory\n",
    "!rm $data_dir/*\n",
    "\n",
    "# And then we delete the directory itself\n",
    "!rmdir $data_dir\n",
    "\n",
    "# Similarly we remove the files in the cache_dir directory and the directory itself\n",
    "!rm $cache_dir/*\n",
    "!rmdir $cache_dir"
   ]
  },
  {
   "cell_type": "code",
   "execution_count": null,
   "metadata": {},
   "outputs": [],
   "source": []
  }
 ],
 "metadata": {
  "kernelspec": {
   "display_name": "conda_python3",
   "language": "python",
   "name": "conda_python3"
  },
  "language_info": {
   "codemirror_mode": {
    "name": "ipython",
    "version": 3
   },
   "file_extension": ".py",
   "mimetype": "text/x-python",
   "name": "python",
   "nbconvert_exporter": "python",
   "pygments_lexer": "ipython3",
   "version": "3.6.5"
  }
 },
 "nbformat": 4,
 "nbformat_minor": 2
}
